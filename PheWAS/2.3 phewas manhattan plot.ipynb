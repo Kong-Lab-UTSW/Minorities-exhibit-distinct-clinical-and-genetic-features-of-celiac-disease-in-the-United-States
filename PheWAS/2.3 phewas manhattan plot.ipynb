{
 "cells": [
  {
   "cell_type": "code",
   "execution_count": null,
   "metadata": {},
   "outputs": [],
   "source": [
    "import numpy as np\n",
    "import pandas as pd\n",
    "import matplotlib as mpl\n",
    "import seaborn as sb\n",
    "import matplotlib.pyplot as plt\n",
    "import math\n",
    "\n",
    "import os\n",
    "import matplotlib as mpl\n",
    "mpl.rcParams['pdf.fonttype'] = 42\n"
   ]
  },
  {
   "cell_type": "code",
   "execution_count": null,
   "metadata": {},
   "outputs": [],
   "source": [
    "\n",
    "\n",
    "my_bucket = os.getenv('WORKSPACE_BUCKET')\n",
    "my_bucket\n",
    "CDR_version=os.getenv(\"WORKSPACE_CDR\")\n",
    "\n"
   ]
  },
  {
   "cell_type": "code",
   "execution_count": null,
   "metadata": {},
   "outputs": [],
   "source": [
    "#annotate results with descriptions\n",
    "phecode_info = pd.read_csv(f'{my_bucket}/data/phewas/pheinfo.csv')"
   ]
  },
  {
   "cell_type": "code",
   "execution_count": null,
   "metadata": {},
   "outputs": [],
   "source": [
    "phecodes_up = pd.read_csv(f'{my_bucket}/data/phewas/phecode_icd10.csv')\n",
    "phecodes = phecodes_up[['PheCode','Phenotype','Excl. Phecodes','Excl. Phenotypes']].drop_duplicates()"
   ]
  },
  {
   "cell_type": "code",
   "execution_count": null,
   "metadata": {},
   "outputs": [],
   "source": [
    "logit_Phecode_results=pd.merge(phecode_info,logit_Phecode_results)"
   ]
  },
  {
   "cell_type": "code",
   "execution_count": null,
   "metadata": {},
   "outputs": [],
   "source": [
    "logit_Phecode_results=pd.read_csv(f'{my_bucket}/data/phewas/logit_phecode_results.csv')"
   ]
  },
  {
   "cell_type": "code",
   "execution_count": null,
   "metadata": {},
   "outputs": [],
   "source": [
    "#phewas results with updated phecode descriptions\n",
    "logit2 = pd.merge(logit_Phecode_results,phecodes_up,left_on='phecode',right_on='PheCode',how='left')"
   ]
  },
  {
   "cell_type": "code",
   "execution_count": null,
   "metadata": {},
   "outputs": [],
   "source": [
    "logit2.loc[pd.isna(logit2['description']),'description']=logit2['Phenotype']"
   ]
  },
  {
   "cell_type": "code",
   "execution_count": null,
   "metadata": {},
   "outputs": [],
   "source": [
    "logit2.to_csv('logit_results_to_update.csv')"
   ]
  },
  {
   "cell_type": "code",
   "execution_count": null,
   "metadata": {},
   "outputs": [],
   "source": [
    "#updated colors and groups for previously undescribed phecodes\n",
    "logit_Phecode_results=pd.read_csv(f'{my_bucket}/data/phewas/phecode_results_full_v2_2.csv')"
   ]
  },
  {
   "cell_type": "code",
   "execution_count": null,
   "metadata": {},
   "outputs": [],
   "source": [
    "def Manhattan_Plot_Plus(results, group = \"all\"):\n",
    "        \"\"\"\n",
    "        Method for plotting Manhattan Plot\n",
    "        ======================================================================================================\n",
    "        group: list of groups to display (e.g. neoplasms)\n",
    "        \"\"\"\n",
    "        PheWAS_results_ehr = results\n",
    "\n",
    "        PheWAS_results_ehr.loc[PheWAS_results_ehr[\"color\"]==\"darkorange1\",\"color\"]=\"orange\"\n",
    "        PheWAS_results_ehr.loc[PheWAS_results_ehr[\"color\"]==\"darkseagreen4\",\"color\"]=\"darkgreen\"\n",
    "        PheWAS_results_ehr.loc[PheWAS_results_ehr[\"color\"]==\"coral4\",\"color\"]=\"coral\"\n",
    "        PheWAS_results_ehr.loc[PheWAS_results_ehr[\"color\"]==\"chartreuse4\",\"color\"]=\"chartreuse\"\n",
    "        PheWAS_results_ehr.loc[PheWAS_results_ehr[\"color\"]==\"royalblue4\",\"color\"]=\"royalblue\"\n",
    "        PheWAS_results_ehr.loc[PheWAS_results_ehr[\"color\"]==\"gray50\",\"color\"]=\"gray\"\n",
    "        \n",
    "        # subset to particular group\n",
    "        \n",
    "        if group != \"all\":\n",
    "            PheWAS_results_ehr = PheWAS_results_ehr[PheWAS_results_ehr[\"group\"]==group]\n",
    "        \n",
    "        fig, ax = plt.subplots(figsize=(15,8))\n",
    "        benf_corr=.05/phecodes.PheCode.unique().shape[0]\n",
    "        pos_beta=PheWAS_results_ehr[PheWAS_results_ehr[\"beta_ind\"]>=0]\n",
    "        neg_beta=PheWAS_results_ehr[PheWAS_results_ehr[\"beta_ind\"]<0]\n",
    "\n",
    "        ax.scatter(pos_beta[\"code_val\"], pos_beta[\"neg_p_log_10\"], c=pos_beta['color'],marker='^')\n",
    "        ax.scatter(neg_beta[\"code_val\"], neg_beta[\"neg_p_log_10\"], c=neg_beta['color'],marker='v')\n",
    "        ax.hlines(-np.log10(.05),0,PheWAS_results_ehr[\"code_val\"].max()+1,colors='r',label = \"0.05\")\n",
    "        ax.hlines(-np.log10(benf_corr),0,PheWAS_results_ehr[\"code_val\"].max()+1,colors='g',label = \"Bonferroni Threshold (0.05/1847)\")\n",
    "        PheWas_ticks=PheWAS_results_ehr[[\"code_val\",\"group\"]].groupby(\"group\",as_index=False).mean()\n",
    "        \n",
    "        # reshape the final plot to just fit the phecodes in the subgroup \n",
    "        plt.xlim(PheWAS_results_ehr[\"code_val\"].min(),PheWAS_results_ehr[\"code_val\"].max())\n",
    "        plt.xticks(PheWas_ticks[\"code_val\"],PheWas_ticks[\"group\"],rotation=45,ha=\"right\")\n",
    "        pos_beta_top=pos_beta[pos_beta[\"p_value\"]<benf_corr].sort_values(\"neg_p_log_10\",ascending=False).iloc[:15,][[\"code_val\",\"neg_p_log_10\",\"description\"]]\n",
    "        #Drop infs\n",
    "        #\n",
    "        pos_beta_top = pos_beta_top[~np.isinf(pos_beta_top[\"neg_p_log_10\"])]\n",
    "        neg_beta_top=neg_beta[neg_beta[\"p_value\"]<benf_corr].sort_values(\"neg_p_log_10\",ascending=False).iloc[:10,][[\"code_val\",\"neg_p_log_10\",\"description\"]]\n",
    "        ## drop infs\n",
    "        neg_beta_top= neg_beta_top[~np.isinf(neg_beta_top[\"neg_p_log_10\"])]\n",
    "        \n",
    "        for i,row in pos_beta_top.iterrows():\n",
    "            ax.annotate(row[\"description\"], (row[\"code_val\"], row[\"neg_p_log_10\"]))\n",
    "        for i,row in neg_beta_top.iterrows():\n",
    "            ax.annotate(row[\"description\"], (row[\"code_val\"], row[\"neg_p_log_10\"]))\n",
    "        # assign top pos and neg to self\n",
    "        #self.pos_beta_top = pos_beta_top\n",
    "        #self.neg_beta_top = neg_beta_top\n",
    "        from matplotlib.lines import Line2D\n",
    "        # add legend elements \n",
    "        legend_elements =  [Line2D([0], [0], color='g', lw=4, label='Bonferroni Correction'),\n",
    "                            Line2D([0], [0], color='r', lw=4, label='Nominal Significance Level'),\n",
    "                            Line2D([0], [0], marker='v', label='Protective Effect',\n",
    "                                  markerfacecolor='b', markersize=15),\n",
    "                           Line2D([0], [0], marker='^', label='Non-Protective Effect',\n",
    "                                  markerfacecolor='b', markersize=15),]\n",
    "        ax.legend(handles=legend_elements, loc='upper right')\n",
    "        ax.set_ylabel(r'$-\\log_{10}$(p-value)')"
   ]
  },
  {
   "cell_type": "code",
   "execution_count": null,
   "metadata": {},
   "outputs": [],
   "source": [
    "Manhattan_Plot_Plus(logit_Phecode_results)\n",
    "plt.savefig('phewas_plot.pdf', bbox_inches='tight',format=\"pdf\")"
   ]
  },
  {
   "cell_type": "code",
   "execution_count": null,
   "metadata": {},
   "outputs": [],
   "source": []
  }
 ],
 "metadata": {
  "kernelspec": {
   "display_name": "Python 3 (ipykernel)",
   "language": "python",
   "name": "python3"
  },
  "language_info": {
   "codemirror_mode": {
    "name": "ipython",
    "version": 3
   },
   "file_extension": ".py",
   "mimetype": "text/x-python",
   "name": "python",
   "nbconvert_exporter": "python",
   "pygments_lexer": "ipython3",
   "version": "3.9.13"
  },
  "toc": {
   "base_numbering": 1,
   "nav_menu": {},
   "number_sections": true,
   "sideBar": true,
   "skip_h1_title": false,
   "title_cell": "Table of Contents",
   "title_sidebar": "Contents",
   "toc_cell": false,
   "toc_position": {},
   "toc_section_display": true,
   "toc_window_display": false
  }
 },
 "nbformat": 4,
 "nbformat_minor": 2
}
