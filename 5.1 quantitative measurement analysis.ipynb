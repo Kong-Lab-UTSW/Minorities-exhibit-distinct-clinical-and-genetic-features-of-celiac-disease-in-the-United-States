{
 "cells": [
  {
   "cell_type": "code",
   "execution_count": null,
   "metadata": {},
   "outputs": [],
   "source": [
    "import pandas as pd\n",
    "from scipy.stats import ttest_ind\n",
    "import numpy as np\n",
    "import os\n",
    "import statsmodels.stats.multitest as st"
   ]
  },
  {
   "cell_type": "code",
   "execution_count": null,
   "metadata": {},
   "outputs": [],
   "source": [
    "bucket = os.getenv('WORKSPACE_BUCKET')\n",
    "matched = pd.read_csv(f'{bucket}/data/survey/celiac_matched_data_non_genetic.csv',sep='\\t')"
   ]
  },
  {
   "cell_type": "code",
   "execution_count": null,
   "metadata": {},
   "outputs": [],
   "source": [
    "import pandas\n",
    "import os\n",
    "\n",
    "# This query represents dataset \"measurements\" for domain \"measurement\" and was generated for All of Us Controlled Tier Dataset v7\n",
    "dataset_14156130_measurement_sql = \"\"\"\n",
    "    SELECT DISTINCT\n",
    "        measurement.person_id,\n",
    "        measurement.measurement_concept_id,\n",
    "        m_standard_concept.concept_name as standard_concept_name,\n",
    "        m_operator.concept_name as operator_concept_name,\n",
    "        measurement.value_as_number,\n",
    "        m_unit.concept_name as unit_concept_name,\n",
    "        measurement.measurement_source_concept_id,\n",
    "        m_source_concept.concept_name as source_concept_name,\n",
    "        m_value.concept_name as value_as_concept_name\n",
    "    FROM\n",
    "        `\"\"\" + os.environ[\"WORKSPACE_CDR\"] + \"\"\".measurement` measurement \n",
    "\n",
    "        LEFT JOIN\n",
    "            `\"\"\" + os.environ[\"WORKSPACE_CDR\"] + \"\"\".concept` m_standard_concept \n",
    "                ON measurement.measurement_concept_id = m_standard_concept.concept_id \n",
    "        LEFT JOIN\n",
    "            `\"\"\" + os.environ[\"WORKSPACE_CDR\"] + \"\"\".concept` m_type \n",
    "                ON measurement.measurement_type_concept_id = m_type.concept_id \n",
    "        LEFT JOIN\n",
    "            `\"\"\" + os.environ[\"WORKSPACE_CDR\"] + \"\"\".concept` m_operator \n",
    "                ON measurement.operator_concept_id = m_operator.concept_id \n",
    "        LEFT JOIN\n",
    "            `\"\"\" + os.environ[\"WORKSPACE_CDR\"] + \"\"\".concept` m_value \n",
    "                ON measurement.value_as_concept_id = m_value.concept_id \n",
    "        LEFT JOIN\n",
    "            `\"\"\" + os.environ[\"WORKSPACE_CDR\"] + \"\"\".concept` m_unit \n",
    "                ON measurement.unit_concept_id = m_unit.concept_id \n",
    "        LEFT JOIN\n",
    "            `\"\"\" + os.environ[\"WORKSPACE_CDR\"] + \"\"\".concept` m_source_concept \n",
    "                ON measurement.measurement_source_concept_id = m_source_concept.concept_id\"\"\"\n",
    "\n",
    "measurement_df = pandas.read_gbq(\n",
    "    dataset_14156130_measurement_sql,\n",
    "    dialect=\"standard\",\n",
    "    use_bqstorage_api=(\"BIGQUERY_STORAGE_API_ENABLED\" in os.environ),\n",
    "    progress_bar_type=\"tqdm_notebook\")\n",
    "\n",
    "measurement_df.head(5)"
   ]
  },
  {
   "cell_type": "code",
   "execution_count": null,
   "metadata": {},
   "outputs": [],
   "source": [
    "import pandas\n",
    "import os\n",
    "\n",
    "# This query represents dataset \"ced2\" for domain \"person\" and was generated for All of Us Controlled Tier Dataset v7\n",
    "dataset_49731594_person_sql = \"\"\"\n",
    "    SELECT\n",
    "        person.person_id \n",
    "    FROM\n",
    "        `\"\"\" + os.environ[\"WORKSPACE_CDR\"] + \"\"\".person` person   \n",
    "    WHERE\n",
    "        person.PERSON_ID IN (\n",
    "            SELECT\n",
    "                distinct person_id  \n",
    "            FROM\n",
    "                `\"\"\" + os.environ[\"WORKSPACE_CDR\"] + \"\"\".cb_search_person` cb_search_person  \n",
    "            WHERE\n",
    "                cb_search_person.person_id IN (\n",
    "                    SELECT\n",
    "                        criteria.person_id \n",
    "                    FROM\n",
    "                        (SELECT\n",
    "                            DISTINCT person_id,\n",
    "                            entry_date,\n",
    "                            concept_id \n",
    "                        FROM\n",
    "                            `\"\"\" + os.environ[\"WORKSPACE_CDR\"] + \"\"\".cb_search_all_events` \n",
    "                        WHERE\n",
    "                            (\n",
    "                                concept_id IN (836793) \n",
    "                                AND is_standard = 0  \n",
    "                                AND  value_source_concept_id IN (1384519)\n",
    "                            )) criteria \n",
    "                    UNION\n",
    "                    ALL SELECT\n",
    "                        criteria.person_id \n",
    "                    FROM\n",
    "                        (SELECT\n",
    "                            DISTINCT person_id,\n",
    "                            entry_date,\n",
    "                            concept_id \n",
    "                        FROM\n",
    "                            `\"\"\" + os.environ[\"WORKSPACE_CDR\"] + \"\"\".cb_search_all_events` \n",
    "                        WHERE\n",
    "                            (\n",
    "                                concept_id IN (\n",
    "                                    SELECT\n",
    "                                        DISTINCT c.concept_id \n",
    "                                    FROM\n",
    "                                        `\"\"\" + os.environ[\"WORKSPACE_CDR\"] + \"\"\".cb_criteria` c \n",
    "                                    JOIN\n",
    "                                        (\n",
    "                                            select\n",
    "                                                cast(cr.id as string) as id \n",
    "                                            FROM\n",
    "                                                `\"\"\" + os.environ[\"WORKSPACE_CDR\"] + \"\"\".cb_criteria` cr \n",
    "                                            WHERE\n",
    "                                                concept_id IN (194992) \n",
    "                                                AND full_text LIKE '%_rank1]%'\n",
    "                                        ) a \n",
    "                                            ON (\n",
    "                                                c.path LIKE CONCAT('%.',\n",
    "                                            a.id,\n",
    "                                            '.%') \n",
    "                                            OR c.path LIKE CONCAT('%.',\n",
    "                                            a.id) \n",
    "                                            OR c.path LIKE CONCAT(a.id,\n",
    "                                            '.%') \n",
    "                                            OR c.path = a.id) \n",
    "                                        WHERE\n",
    "                                            is_standard = 1 \n",
    "                                            AND is_selectable = 1\n",
    "                                        ) \n",
    "                                        AND is_standard = 1 \n",
    "                                )\n",
    "                            ) criteria \n",
    "                        ) )\"\"\"\n",
    "\n",
    "ced_person_df = pandas.read_gbq(\n",
    "    dataset_49731594_person_sql,\n",
    "    dialect=\"standard\",\n",
    "    use_bqstorage_api=(\"BIGQUERY_STORAGE_API_ENABLED\" in os.environ),\n",
    "    progress_bar_type=\"tqdm_notebook\")\n",
    "\n",
    "ced_person_df.head(5)"
   ]
  },
  {
   "cell_type": "code",
   "execution_count": null,
   "metadata": {
    "scrolled": true
   },
   "outputs": [],
   "source": [
    "measurement_df['CeD']='healthy'\n",
    "measurement_df.loc[measurement_df['person_id'].isin(ced_person_df['person_id']),'CeD']='celiac'\n",
    "\n",
    "measurement_df['value_as_concept_name'].unique()"
   ]
  },
  {
   "cell_type": "code",
   "execution_count": null,
   "metadata": {},
   "outputs": [],
   "source": [
    "#clean measurement data; some fields do not have either standard or source concept name\n",
    "measurement_df['concept_name']=measurement_df['standard_concept_name']\n",
    "measurement_df.loc[measurement_df['standard_concept_name']=='No matching concept','concept_name']=measurement_df['source_concept_name']\n",
    "measurement_df['concept_id']=measurement_df['measurement_concept_id']\n",
    "measurement_df.loc[measurement_df['measurement_concept_id']==0,'concept_id']=measurement_df['measurement_source_concept_id']\n",
    "\n",
    "measurement_df.drop(['standard_concept_name','measurement_concept_id','measurement_source_concept_id','source_concept_name'],axis=1,inplace=True)"
   ]
  },
  {
   "cell_type": "code",
   "execution_count": null,
   "metadata": {},
   "outputs": [],
   "source": [
    "#select quantitative measurements\n",
    "measurement_numeric=measurement_df[~pandas.isna(measurement_df['value_as_number'])&(measurement_df['value_as_number']!=10000000)]\n",
    "measurement_numeric"
   ]
  },
  {
   "cell_type": "code",
   "execution_count": null,
   "metadata": {},
   "outputs": [],
   "source": [
    "#count measurement responses and medians; we should count for each unit as these may differ\n",
    "measurement_numeric.drop_duplicates(['person_id','value_as_number','unit_concept_name','concept_name'],inplace=True)\n",
    "\n",
    "measurement_numeric['unit_concept_name'].fillna('None',inplace=True)"
   ]
  },
  {
   "cell_type": "code",
   "execution_count": null,
   "metadata": {},
   "outputs": [],
   "source": [
    "print(measurement_df.drop_duplicates('person_id').value_counts('Celiac'))\n",
    "#337898 healthy, 2623 celiac patients total"
   ]
  },
  {
   "cell_type": "code",
   "execution_count": null,
   "metadata": {},
   "outputs": [],
   "source": [
    "#get median values\n",
    "meas_med = measurement_numeric.groupby(['concept_name','unit_concept_name','Celiac']).agg({'value_as_number':'median'})\n",
    "\n",
    "meas_med"
   ]
  },
  {
   "cell_type": "code",
   "execution_count": null,
   "metadata": {},
   "outputs": [],
   "source": [
    "meas_med.reset_index(inplace=True)\n",
    "\n",
    "measures=meas_med.pivot(columns='Celiac',index=['concept_name','unit_concept_name'],values='value_as_number').fillna(0).reset_index().rename({'celiac':'CeD median value','healthy':'healthy median value'},axis=1)\n",
    "\n",
    "measure_list = measurement_numeric[['concept_name','unit_concept_name']].drop_duplicates()\n",
    "\n",
    "measure_list['unit_concept_name'].fillna('None',inplace=True)"
   ]
  },
  {
   "cell_type": "code",
   "execution_count": null,
   "metadata": {},
   "outputs": [],
   "source": [
    "# t-tests\n",
    "df_list = [d for _, d in measurement_numeric.groupby(['concept_name','unit_concept_name'])]"
   ]
  },
  {
   "cell_type": "code",
   "execution_count": null,
   "metadata": {
    "scrolled": true
   },
   "outputs": [],
   "source": [
    "for test in df_list:\n",
    "    test.reset_index(inplace=True)\n",
    "    test_ced=test.loc[test['Celiac']=='celiac','value_as_number']\n",
    "    test_ctrl=test.loc[test['Celiac']=='healthy','value_as_number']\n",
    "    result=ttest_ind(test_ced,test_ctrl)\n",
    "    measure_list.loc[(measure_list['concept_name']==test['concept_name'][0])&(measure_list['unit_concept_name']==test['unit_concept_name'][0]),'t']=result.statistic\n",
    "    measure_list.loc[(measure_list['concept_name']==test['concept_name'][0])&(measure_list['unit_concept_name']==test['unit_concept_name'][0]),'pval']=result.pvalue\n",
    "    print('t-stat: ',result.statistic,'  p-value: ',result.pvalue)"
   ]
  },
  {
   "cell_type": "code",
   "execution_count": null,
   "metadata": {},
   "outputs": [],
   "source": [
    "measure_list.to_csv('measures_ttest.csv',index=False)"
   ]
  },
  {
   "cell_type": "code",
   "execution_count": null,
   "metadata": {},
   "outputs": [],
   "source": [
    "measure_list = pd.read_csv('measures_ttest.csv')"
   ]
  },
  {
   "cell_type": "code",
   "execution_count": null,
   "metadata": {},
   "outputs": [],
   "source": [
    "measure_list"
   ]
  },
  {
   "cell_type": "code",
   "execution_count": null,
   "metadata": {},
   "outputs": [],
   "source": [
    "measures.to_csv('measurement_median.csv',index=False)"
   ]
  },
  {
   "cell_type": "code",
   "execution_count": null,
   "metadata": {},
   "outputs": [],
   "source": [
    "measures = pd.read_csv('measurement_median.csv')"
   ]
  },
  {
   "cell_type": "code",
   "execution_count": null,
   "metadata": {},
   "outputs": [],
   "source": [
    "#now merge all values together\n",
    "meas_patient_counts=pd.DataFrame(measurement_numeric[['person_id','Celiac','concept_name','unit_concept_name']].drop_duplicates().value_counts(['Celiac','concept_name','unit_concept_name'])).reset_index().pivot(columns='Celiac',index=['concept_name','unit_concept_name'],values='count').fillna(0)\n",
    "\n",
    "meas_patient_counts.rename({'celiac':'celiac measure count','healthy':'healthy measure count'},axis=1,inplace=True)\n",
    "meas_patient_counts.reset_index(inplace=True)"
   ]
  },
  {
   "cell_type": "code",
   "execution_count": null,
   "metadata": {},
   "outputs": [],
   "source": [
    "measure_med2=pd.merge(measures,meas_patient_counts,on=['concept_name','unit_concept_name']).drop_duplicates("
   ]
  },
  {
   "cell_type": "code",
   "execution_count": null,
   "metadata": {},
   "outputs": [],
   "source": [
    "measurement_cids=measurement_df[['concept_id','concept_name']].drop_duplicates('concept_name')"
   ]
  },
  {
   "cell_type": "code",
   "execution_count": null,
   "metadata": {},
   "outputs": [],
   "source": [
    "measure_med3=pd.merge(measure_med2,measurement_cids,on='concept_name')#.drop_duplicates(inplace=True)"
   ]
  },
  {
   "cell_type": "code",
   "execution_count": null,
   "metadata": {},
   "outputs": [],
   "source": [
    "measure_med3.to_csv('measurement_median.csv',index=False)"
   ]
  },
  {
   "cell_type": "code",
   "execution_count": null,
   "metadata": {},
   "outputs": [],
   "source": [
    "def FDR(sample, pval):\n",
    "    #first sort by pval\n",
    "    sample.sort_values(by=pval, inplace = True)\n",
    "    samp = sample.dropna(subset=[pval])\n",
    "    pvals = samp[pval]\n",
    "    #calculation of correction\n",
    "    padj = st.fdrcorrection(pvals, is_sorted=True)\n",
    "    padded_col = np.pad(padj[1], (0, len(sample) - len(padj[1])), 'constant', constant_values=(np.nan, np.nan))\n",
    "    sample['Padj'] = padded_col"
   ]
  },
  {
   "cell_type": "code",
   "execution_count": null,
   "metadata": {},
   "outputs": [],
   "source": [
    "FDR(measure_list,'pval')"
   ]
  },
  {
   "cell_type": "code",
   "execution_count": null,
   "metadata": {},
   "outputs": [],
   "source": [
    "measures_padj=pd.merge(measure_med3,measure_list,on=['concept_name','unit_concept_name'])\n"
   ]
  },
  {
   "cell_type": "code",
   "execution_count": null,
   "metadata": {},
   "outputs": [],
   "source": [
    "measures_padj.to_csv('measurement_med_ttest_FDR.csv',index=False)"
   ]
  },
  {
   "cell_type": "code",
   "execution_count": null,
   "metadata": {},
   "outputs": [],
   "source": [
    "!gsutil cp measurement_median.csv $WORKSPACE_BUCKET/data/\n",
    "!gsutil cp measurement_cat_counts.csv $WORKSPACE_BUCKET/data/"
   ]
  },
  {
   "cell_type": "markdown",
   "metadata": {},
   "source": [
    "## repeat with propensity matched controls"
   ]
  },
  {
   "cell_type": "code",
   "execution_count": null,
   "metadata": {},
   "outputs": [],
   "source": [
    "measurement_num_matched = measurement_numeric[measurement_numeric['person_id'].isin(matched['person_id'])]"
   ]
  },
  {
   "cell_type": "code",
   "execution_count": null,
   "metadata": {},
   "outputs": [],
   "source": [
    "matched[matched['person_id'].isin(measurement_num_matched['person_id'])].value_counts('label')\n",
    "#15060 control, 2617 cases"
   ]
  },
  {
   "cell_type": "code",
   "execution_count": null,
   "metadata": {},
   "outputs": [],
   "source": [
    "meas_med_match = measurement_num_matched.groupby(['concept_name','unit_concept_name','Celiac']).agg({'value_as_number':'median'})\n",
    "\n",
    "meas_med_match"
   ]
  },
  {
   "cell_type": "code",
   "execution_count": null,
   "metadata": {},
   "outputs": [],
   "source": [
    "meas_med_match.reset_index(inplace=True)\n",
    "\n",
    "measures_match=meas_med_match.pivot(columns='Celiac',index=['concept_name','unit_concept_name'],values='value_as_number').fillna(0).reset_index().rename({'celiac':'CeD median value','healthy':'healthy median value'},axis=1)\n",
    "\n",
    "measure_list_match = measurement_numeric_match[['concept_name','unit_concept_name']].drop_duplicates()\n",
    "\n",
    "measure_list_match['unit_concept_name'].fillna('None',inplace=True)"
   ]
  },
  {
   "cell_type": "code",
   "execution_count": null,
   "metadata": {},
   "outputs": [],
   "source": [
    "df_list_match = [d for _, d in measurement_numeric_match.groupby(['concept_name','unit_concept_name'])]"
   ]
  },
  {
   "cell_type": "code",
   "execution_count": null,
   "metadata": {},
   "outputs": [],
   "source": [
    "for test in df_list_match:\n",
    "    test.reset_index(inplace=True)\n",
    "    test_ced=test.loc[test['Celiac']=='celiac','value_as_number']\n",
    "    test_ctrl=test.loc[test['Celiac']=='healthy','value_as_number']\n",
    "    result=ttest_ind(test_ced,test_ctrl)\n",
    "    measure_list_match.loc[(measure_list_match['concept_name']==test['concept_name'][0])&(measure_list_match['unit_concept_name']==test['unit_concept_name'][0]),'t']=result.statistic\n",
    "    measure_list_match.loc[(measure_list_match['concept_name']==test['concept_name'][0])&(measure_list_match['unit_concept_name']==test['unit_concept_name'][0]),'pval']=result.pvalue\n",
    "    print('t-stat: ',result.statistic,'  p-value: ',result.pvalue)"
   ]
  },
  {
   "cell_type": "code",
   "execution_count": null,
   "metadata": {},
   "outputs": [],
   "source": [
    "measure_list_match.to_csv('measures_ttest_matched.csv',index=False)"
   ]
  },
  {
   "cell_type": "code",
   "execution_count": null,
   "metadata": {},
   "outputs": [],
   "source": [
    "measures_match.to_csv('measurement_median_matched.csv',index=False)"
   ]
  },
  {
   "cell_type": "code",
   "execution_count": null,
   "metadata": {},
   "outputs": [],
   "source": [
    "meas_patient_counts_match=pd.DataFrame(measurement_numeric_match[['person_id','Celiac','concept_name','unit_concept_name']].drop_duplicates().value_counts(['Celiac','concept_name','unit_concept_name'])).reset_index().pivot(columns='Celiac',index=['concept_name','unit_concept_name'],values='count').fillna(0)\n",
    "\n",
    "meas_patient_counts_match.rename({'celiac':'celiac measure count','healthy':'healthy measure count'},axis=1,inplace=True)\n",
    "meas_patient_counts_match.reset_index(inplace=True)"
   ]
  },
  {
   "cell_type": "code",
   "execution_count": null,
   "metadata": {},
   "outputs": [],
   "source": [
    "measure_med_match2=pd.merge(measures_match,meas_patient_counts_match,on=['concept_name','unit_concept_name']).drop_duplicates()"
   ]
  },
  {
   "cell_type": "code",
   "execution_count": null,
   "metadata": {},
   "outputs": [],
   "source": [
    "measure_med_match3=pd.merge(measure_med_match2,measurement_cids,on='concept_name')#.drop_duplicates(inplace=True)"
   ]
  },
  {
   "cell_type": "code",
   "execution_count": null,
   "metadata": {},
   "outputs": [],
   "source": [
    "measure_med_match3.to_csv('measurement_median_matched.csv',index=False)"
   ]
  },
  {
   "cell_type": "markdown",
   "metadata": {},
   "source": [
    "## ttg & gliadin measurements"
   ]
  },
  {
   "cell_type": "code",
   "execution_count": null,
   "metadata": {},
   "outputs": [],
   "source": [
    "meas_ttg = measurement_df[measurement_df['standard_concept_name'].str.contains('liadin|ransglutaminase')&measurement_df['person_id'].isin(matched_AI['person_id'])]\n",
    "\n",
    "meas_ttg.loc[meas_ttg['value_as_concept_name']=='2','value_as_number']=2\n",
    "\n",
    "meas_ttg['answer']=meas_ttg['value_as_number']\n",
    "\n",
    "meas_ttg.loc[pd.isna(meas_ttg['value_as_number'])&(meas_ttg['value_as_concept_name']!='No matching concept'),'answer']=meas_ttg['value_as_concept_name']\n",
    "\n",
    "meas_ttg_agg=meas_ttg.groupby(['person_id','meassure']).agg({'value_as_number':'mean'}).reset_index()\n",
    "\n",
    "meas_ttg['meassure']=meas_ttg['standard_concept_name']+'('+meas_ttg['unit_concept_name']+')'\n",
    "meas_ttg.loc[meas_ttg['unit_concept_name']=='No matching concept','meassure']=meas_ttg['standard_concept_name']\n",
    "meas_ttg\n",
    "\n",
    "meas_fin2 = meas_ttg_agg.pivot(columns='meassure',index='person_id',values='value_as_number').reset_index()\n",
    "\n",
    "meas_fin2.drop(meas_fin.columns[meas_fin.isna().all()],axis=1,inplace=True)\n",
    "\n",
    "meas_fin2.to_csv('gliadin_ttg.csv',index=False)"
   ]
  }
 ],
 "metadata": {
  "kernelspec": {
   "display_name": "Python 3 (ipykernel)",
   "language": "python",
   "name": "python3"
  },
  "language_info": {
   "codemirror_mode": {
    "name": "ipython",
    "version": 3
   },
   "file_extension": ".py",
   "mimetype": "text/x-python",
   "name": "python",
   "nbconvert_exporter": "python",
   "pygments_lexer": "ipython3",
   "version": "3.9.13"
  },
  "toc": {
   "base_numbering": 1,
   "nav_menu": {},
   "number_sections": true,
   "sideBar": true,
   "skip_h1_title": false,
   "title_cell": "Table of Contents",
   "title_sidebar": "Contents",
   "toc_cell": false,
   "toc_position": {},
   "toc_section_display": true,
   "toc_window_display": false
  }
 },
 "nbformat": 4,
 "nbformat_minor": 2
}
