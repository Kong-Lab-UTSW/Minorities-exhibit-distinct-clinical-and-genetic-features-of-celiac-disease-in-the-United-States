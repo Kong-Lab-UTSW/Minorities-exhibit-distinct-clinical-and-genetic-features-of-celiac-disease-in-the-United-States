{
 "cells": [
  {
   "cell_type": "code",
   "execution_count": null,
   "id": "6aae235e",
   "metadata": {},
   "outputs": [],
   "source": [
    "import pandas as pd\n",
    "import matplotlib.pyplot as plt\n",
    "import matplotlib as mpl\n",
    "import numpy as np\n",
    "from scipy.stats import ttest_ind\n",
    "import seaborn as sns\n",
    "mpl.rcParams['pdf.fonttype']=42"
   ]
  },
  {
   "cell_type": "code",
   "execution_count": null,
   "id": "71bd11ae",
   "metadata": {},
   "outputs": [],
   "source": [
    "#PROMIS scores for propensity matched samples\n",
    "regress=pd.read_csv('PROMIS_scores_gen_matched_v2.csv')"
   ]
  },
  {
   "cell_type": "code",
   "execution_count": null,
   "id": "b694d3aa",
   "metadata": {},
   "outputs": [],
   "source": [
    "regress['CeD2']=regress['CeD'].replace([0,1],['control','CeD'])"
   ]
  },
  {
   "cell_type": "code",
   "execution_count": null,
   "id": "2406a301",
   "metadata": {},
   "outputs": [],
   "source": [
    "regress['PROMIS: Phyisical health']=round(regress['PROMIS-PH'],1)\n",
    "regress['PROMIS: Mental health']=round(regress['PROMIS-MH'],1)\n",
    "regress['PROMIS: Life Quality']=round(regress['PROMIS-total'],1)"
   ]
  },
  {
   "cell_type": "code",
   "execution_count": null,
   "id": "da4fa508",
   "metadata": {},
   "outputs": [],
   "source": [
    "ced = regress[regress['CeD']==1]\n",
    "control = regress[regress['CeD']==0]"
   ]
  },
  {
   "cell_type": "code",
   "execution_count": null,
   "id": "88185a0d",
   "metadata": {},
   "outputs": [],
   "source": [
    "#ttests by categories\n",
    "total_ttest=ttest_ind(ced['PROMIS-total'].dropna(),control['PROMIS-total'].dropna())\n",
    "mental_ttest=ttest_ind(ced['PROMIS-MH'].dropna(),control['PROMIS-MH'].dropna())\n",
    "phys_ttest=ttest_ind(ced['PROMIS-PH'].dropna(),control['PROMIS-PH'].dropna())"
   ]
  },
  {
   "cell_type": "code",
   "execution_count": null,
   "id": "be894ba4",
   "metadata": {},
   "outputs": [],
   "source": [
    "#mean difference\n",
    "meandiff=control['PROMIS-total'].mean()-ced['PROMIS-total'].mean()"
   ]
  },
  {
   "cell_type": "code",
   "execution_count": null,
   "id": "d7670b01",
   "metadata": {},
   "outputs": [],
   "source": [
    "#density plot\n",
    "plt.figure(figsize=(8, 6))\n",
    "sns.kdeplot(ced['PROMIS-total'],label='CeD')\n",
    "sns.kdeplot(control['PROMIS-total'],label='non-CeD')\n",
    "plt.xlabel('PROMIS: Life Quality')\n",
    "plt.legend()\n",
    "# Add text annotations\n",
    "plt.text(x=8, y=0.033, s=f\"mean difference: {round(meandiff,2)}\", fontsize=12)\n",
    "plt.text(x=8, y=0.03, s=f\"p-value: {round(total_ttest.pvalue,18)}\", fontsize=12)\n",
    "\n",
    "plt.title('Distribution of overall PROMIS scores')\n",
    "plt.savefig(\"PROMIS_density.pdf\", format=\"pdf\")"
   ]
  },
  {
   "cell_type": "code",
   "execution_count": null,
   "id": "ed6e2e1b",
   "metadata": {},
   "outputs": [],
   "source": [
    "poor_fair_ced_pct=len(ced[(ced['PROMIS-PH']<42)|(ced['PROMIS-MH']<40)])/len(ced[~pd.isna(ced['PROMIS-PH'])|~pd.isna(ced['PROMIS-MH'])])"
   ]
  },
  {
   "cell_type": "code",
   "execution_count": null,
   "id": "7c830db3",
   "metadata": {},
   "outputs": [],
   "source": [
    "poor_fair_ctrl_pct=len(control[(control['PROMIS-PH']<42)|(control['PROMIS-MH']<40)])/len(control[~pd.isna(control['PROMIS-PH'])|~pd.isna(control['PROMIS-MH'])])"
   ]
  },
  {
   "cell_type": "code",
   "execution_count": null,
   "id": "73ccf9b6",
   "metadata": {},
   "outputs": [],
   "source": [
    "ced_total=len(ced[~pd.isna(ced['PROMIS-PH'])|~pd.isna(ced['PROMIS-MH'])])\n",
    "ctrl_total=len(control[~pd.isna(control['PROMIS-PH'])|~pd.isna(control['PROMIS-MH'])])"
   ]
  },
  {
   "cell_type": "code",
   "execution_count": null,
   "id": "c934051d",
   "metadata": {},
   "outputs": [],
   "source": [
    "#chi-square for poor/fair life quality\n",
    "from scipy.stats import chi2_contingency\n",
    "\n",
    "#poor/fair as either <40 for mental or <42 for physical health\n",
    "poor_fair_ced_ct=len(ced[(ced['PROMIS-PH']<42)|(ced['PROMIS-MH']<40)])\n",
    "poor_fair_ctrl_ct=len(control[(control['PROMIS-PH']<42)|(control['PROMIS-MH']<40)])\n",
    "normal_ced_ct=ced_total-poor_fair_ced_ct\n",
    "normal_ctrl_ct=ctrl_total-poor_fair_ctrl_ct\n",
    "\n",
    "qual = pd.DataFrame({'ced':[poor_fair_ced_ct,normal_ced_ct],'control':[poor_fair_ctrl_ct,normal_ctrl_ct]})\n",
    "qual.index=['poor/fair','not poor/fair']\n",
    "res=chi2_contingency(qual)\n",
    "\n",
    "qual['chisq']=res.statistic\n",
    "qual['p-value']=res.pvalue\n",
    "qual['OR']=poor_fair_ced_ct*normal_ctrl_ct/(poor_fair_ctrl_ct*normal_ced_ct)"
   ]
  },
  {
   "cell_type": "code",
   "execution_count": null,
   "id": "7557ef70",
   "metadata": {},
   "outputs": [],
   "source": [
    "qual.to_csv('life_quality_table.csv')"
   ]
  }
 ],
 "metadata": {
  "kernelspec": {
   "display_name": "Python 3 (ipykernel)",
   "language": "python",
   "name": "python3"
  },
  "language_info": {
   "codemirror_mode": {
    "name": "ipython",
    "version": 3
   },
   "file_extension": ".py",
   "mimetype": "text/x-python",
   "name": "python",
   "nbconvert_exporter": "python",
   "pygments_lexer": "ipython3",
   "version": "3.9.13"
  }
 },
 "nbformat": 4,
 "nbformat_minor": 5
}
