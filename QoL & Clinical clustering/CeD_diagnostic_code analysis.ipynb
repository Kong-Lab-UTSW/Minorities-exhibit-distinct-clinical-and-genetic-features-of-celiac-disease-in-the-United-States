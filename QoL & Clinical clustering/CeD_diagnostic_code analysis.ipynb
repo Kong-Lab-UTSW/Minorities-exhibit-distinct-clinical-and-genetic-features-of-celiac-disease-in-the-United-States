{
 "cells": [
  {
   "cell_type": "code",
   "execution_count": null,
   "id": "646cf525",
   "metadata": {},
   "outputs": [],
   "source": [
    "import pandas as pd\n",
    "import matplotlib.pyplot as plt\n",
    "import numpy as np\n",
    "import seaborn as sns\n",
    "import statsmodels.api as sm\n",
    "from statsmodels.formula.api import ols\n",
    "from statsmodels.stats.multicomp import pairwise_tukeyhsd\n",
    "plt.rcParams['pdf.fonttype']=42"
   ]
  },
  {
   "cell_type": "code",
   "execution_count": null,
   "id": "c867a070",
   "metadata": {},
   "outputs": [],
   "source": [
    "diag_code=pd.read_csv('~/Downloads/CeD_diagnostic_counts.csv')"
   ]
  },
  {
   "cell_type": "code",
   "execution_count": null,
   "id": "9d20ebc0",
   "metadata": {},
   "outputs": [],
   "source": [
    "file_path2 = '/run/user/220224/gvfs/smb-share:server=129.112.149.250,share=kong%20lab/AoU_CeD/AoU HLA/202409/20241002_HLA.csv'\n",
    "HLA = pd.read_csv(file_path2)\n",
    "\n",
    "diag_hla=HLA.merge(diag_code,how='left',on='person_id')\n",
    "EHR=pd.read_csv('~/Downloads/EHR_patients.csv').person_id"
   ]
  },
  {
   "cell_type": "code",
   "execution_count": null,
   "id": "46ffcf69",
   "metadata": {},
   "outputs": [],
   "source": [
    "diag_hla=diag_hla[(diag_hla['person_id'].isin(EHR))&(diag_hla['CeD']==2)]\n",
    "diag_hla['count'].fillna(0,inplace=True)"
   ]
  },
  {
   "cell_type": "code",
   "execution_count": null,
   "id": "ddc2d9fa",
   "metadata": {},
   "outputs": [],
   "source": [
    "diag_hla.rename({'Impact label':'Impact_Label','count':'diagnostic_code_count'},axis=1,inplace=True)\n",
    "diag_median=diag_hla.groupby('Impact_Label').agg('median')['diagnostic_code_count']"
   ]
  },
  {
   "cell_type": "code",
   "execution_count": null,
   "id": "a0108473",
   "metadata": {},
   "outputs": [],
   "source": [
    "# Fit the ANOVA model\n",
    "model = ols('diagnostic_code_count ~ Impact_Label', data=diag_hla).fit()\n",
    "\n",
    "# Perform ANOVA\n",
    "diag_anova_table = sm.stats.anova_lm(model, typ=2)  # typ=2 is for Type II ANOVA\n",
    "print(diag_anova_table)"
   ]
  },
  {
   "cell_type": "code",
   "execution_count": null,
   "id": "dfc8fb27",
   "metadata": {},
   "outputs": [],
   "source": [
    "# Sort data by the mean of each group\n",
    "diag_hla['Impact_Label'].replace(['high','moderate','low','none'],['4:high','3:moderate','2:low','1:none'], inplace=True)\n",
    "\n",
    "# Now perform post-hoc Tukey HSD test\n",
    "diag_tukey = pairwise_tukeyhsd(endog=diag_hla['diagnostic_code_count'],    # dependent variable\n",
    "                          groups=diag_hla['Impact_Label'], # independent variable (groups)\n",
    "                          alpha=0.05)                       # significance level\n",
    "print(diag_tukey.summary())\n",
    "\n",
    "\n",
    "fig =diag_tukey.plot_simultaneous(xlabel='CeD diagnostic code count',ylabel='HLA-DQ risk')\n",
    "fig.text(x=0.2,y=0.7,s=f'n= {str(len(diag_hla))}', fontsize=12)\n",
    "fig.text(x=0.2,y=0.65,s=f\"F= {str(round(diag_anova_table.loc['Impact_Label','F'],2))}\", fontsize=12)\n",
    "fig.text(x=0.2,y=0.6,s=f\"p= {str(round(diag_anova_table.loc['Impact_Label','PR(>F)'],16))}\", fontsize=12)\n",
    "\n",
    "# Save the plot to a file\n",
    "fig.savefig('tukey_hsd_plot_CeD_code_count.pdf', format='pdf', bbox_inches='tight')  # Save as pdf with high quality\n"
   ]
  },
  {
   "cell_type": "code",
   "execution_count": null,
   "id": "e0037d69",
   "metadata": {},
   "outputs": [],
   "source": [
    "from math import log10, floor\n",
    "\n",
    "def round_to_1(x):\n",
    "    return round(x, -int(floor(log10(abs(x)))-2))\n"
   ]
  },
  {
   "cell_type": "code",
   "execution_count": null,
   "id": "fdb4d074",
   "metadata": {},
   "outputs": [],
   "source": [
    "tukey_df=pd.DataFrame(diag_tukey.summary())\n",
    "tukey_df.columns=tukey_df.loc[0]\n",
    "tukey_df.drop(0,inplace=True)\n",
    "tukey_df.iloc[:,3]=diag_tukey.pvalues\n",
    "tukey_df"
   ]
  },
  {
   "cell_type": "code",
   "execution_count": null,
   "id": "bdb6d69f",
   "metadata": {},
   "outputs": [],
   "source": [
    "impact_count=pd.DataFrame(diag_hla.value_counts('Impact_Label')[['high','moderate','low','none']])"
   ]
  },
  {
   "cell_type": "code",
   "execution_count": null,
   "id": "2d7f7b19",
   "metadata": {},
   "outputs": [],
   "source": []
  }
 ],
 "metadata": {
  "kernelspec": {
   "display_name": "Python 3 (ipykernel)",
   "language": "python",
   "name": "python3"
  },
  "language_info": {
   "codemirror_mode": {
    "name": "ipython",
    "version": 3
   },
   "file_extension": ".py",
   "mimetype": "text/x-python",
   "name": "python",
   "nbconvert_exporter": "python",
   "pygments_lexer": "ipython3",
   "version": "3.9.13"
  }
 },
 "nbformat": 4,
 "nbformat_minor": 5
}
