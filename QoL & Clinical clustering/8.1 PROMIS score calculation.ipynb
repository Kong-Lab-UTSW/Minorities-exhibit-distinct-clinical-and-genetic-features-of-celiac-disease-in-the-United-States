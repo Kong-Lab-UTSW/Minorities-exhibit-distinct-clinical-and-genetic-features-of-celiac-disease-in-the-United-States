{
 "cells": [
  {
   "cell_type": "code",
   "execution_count": null,
   "metadata": {},
   "outputs": [],
   "source": [
    "import pandas as pd\n",
    "import statsmodels.api as sm\n",
    "from scipy.stats import fisher_exact, zscore, gaussian_kde\n",
    "from statsmodels.stats.multitest import multipletests"
   ]
  },
  {
   "cell_type": "code",
   "execution_count": null,
   "metadata": {},
   "outputs": [],
   "source": [
    "import pandas\n",
    "import os\n",
    "\n",
    "# This query represents dataset \"life quality\" for domain \"survey\" and was generated for All of Us Controlled Tier Dataset v7\n",
    "dataset_17204989_survey_sql = \"\"\"\n",
    "    SELECT\n",
    "        answer.person_id,\n",
    "        answer.question_concept_id,\n",
    "        answer.question,\n",
    "        answer.answer  \n",
    "    FROM\n",
    "        `\"\"\" + os.environ[\"WORKSPACE_CDR\"] + \"\"\".ds_survey` answer   \n",
    "    WHERE\n",
    "        (\n",
    "            question_concept_id IN (\n",
    "                1585717, 1585723, 1585729, 1585735, 1585741, 1585747, 1585748, 1585760\n",
    "            )\n",
    "        )\"\"\"\n",
    "\n",
    "dataset_17204989_survey_df = pandas.read_gbq(\n",
    "    dataset_17204989_survey_sql,\n",
    "    dialect=\"standard\",\n",
    "    use_bqstorage_api=(\"BIGQUERY_STORAGE_API_ENABLED\" in os.environ),\n",
    "    progress_bar_type=\"tqdm_notebook\")\n",
    "\n",
    "dataset_17204989_survey_df.head(5)"
   ]
  },
  {
   "cell_type": "code",
   "execution_count": null,
   "metadata": {
    "code_folding": []
   },
   "outputs": [],
   "source": [
    "import os\n",
    "\n",
    "# This query represents dataset \"ced2\" for domain \"person\" and was generated for All of Us Controlled Tier Dataset v7\n",
    "dataset_10934611_person_sql = \"\"\"\n",
    "    SELECT\n",
    "        person.person_id\n",
    "    FROM\n",
    "        `\"\"\" + os.environ[\"WORKSPACE_CDR\"] + \"\"\".person` person \n",
    "    LEFT JOIN\n",
    "        `\"\"\" + os.environ[\"WORKSPACE_CDR\"] + \"\"\".concept` p_gender_concept \n",
    "            ON person.gender_concept_id = p_gender_concept.concept_id \n",
    "    LEFT JOIN\n",
    "        `\"\"\" + os.environ[\"WORKSPACE_CDR\"] + \"\"\".concept` p_race_concept \n",
    "            ON person.race_concept_id = p_race_concept.concept_id \n",
    "    LEFT JOIN\n",
    "        `\"\"\" + os.environ[\"WORKSPACE_CDR\"] + \"\"\".concept` p_ethnicity_concept \n",
    "            ON person.ethnicity_concept_id = p_ethnicity_concept.concept_id \n",
    "    LEFT JOIN\n",
    "        `\"\"\" + os.environ[\"WORKSPACE_CDR\"] + \"\"\".concept` p_sex_at_birth_concept \n",
    "            ON person.sex_at_birth_concept_id = p_sex_at_birth_concept.concept_id  \n",
    "    WHERE\n",
    "        person.PERSON_ID IN (\n",
    "            SELECT\n",
    "                distinct person_id  \n",
    "            FROM\n",
    "                `\"\"\" + os.environ[\"WORKSPACE_CDR\"] + \"\"\".cb_search_person` cb_search_person  \n",
    "            WHERE\n",
    "                cb_search_person.person_id IN (\n",
    "                    SELECT\n",
    "                        criteria.person_id \n",
    "                    FROM\n",
    "                        (SELECT\n",
    "                            DISTINCT person_id,\n",
    "                            entry_date,\n",
    "                            concept_id \n",
    "                        FROM\n",
    "                            `\"\"\" + os.environ[\"WORKSPACE_CDR\"] + \"\"\".cb_search_all_events` \n",
    "                        WHERE\n",
    "                            (\n",
    "                                concept_id IN (836793) \n",
    "                                AND is_standard = 0  \n",
    "                                AND  value_source_concept_id IN (1384519)\n",
    "                            )) criteria \n",
    "                    UNION\n",
    "                    ALL SELECT\n",
    "                        criteria.person_id \n",
    "                    FROM\n",
    "                        (SELECT\n",
    "                            DISTINCT person_id,\n",
    "                            entry_date,\n",
    "                            concept_id \n",
    "                        FROM\n",
    "                            `\"\"\" + os.environ[\"WORKSPACE_CDR\"] + \"\"\".cb_search_all_events` \n",
    "                        WHERE\n",
    "                            (\n",
    "                                concept_id IN(\n",
    "                                    SELECT\n",
    "                                        DISTINCT c.concept_id \n",
    "                                    FROM\n",
    "                                        `\"\"\" + os.environ[\"WORKSPACE_CDR\"] + \"\"\".cb_criteria` c \n",
    "                                    JOIN\n",
    "                                        (\n",
    "                                            SELECT\n",
    "                                                CAST(cr.id as string) AS id       \n",
    "                                            FROM\n",
    "                                                `\"\"\" + os.environ[\"WORKSPACE_CDR\"] + \"\"\".cb_criteria` cr       \n",
    "                                            WHERE\n",
    "                                                concept_id IN (194992)       \n",
    "                                                AND full_text LIKE '%_rank1]%'      \n",
    "                                        ) a \n",
    "                                            ON (\n",
    "                                                c.path LIKE CONCAT('%.',\n",
    "                                            a.id,\n",
    "                                            '.%') \n",
    "                                            OR c.path LIKE CONCAT('%.',\n",
    "                                            a.id) \n",
    "                                            OR c.path LIKE CONCAT(a.id,\n",
    "                                            '.%') \n",
    "                                            OR c.path = a.id) \n",
    "                                        WHERE\n",
    "                                            is_standard = 1 \n",
    "                                            AND is_selectable = 1\n",
    "                                        ) \n",
    "                                        AND is_standard = 1 \n",
    "                                )\n",
    "                            ) criteria \n",
    "                        ) )\"\"\"\n",
    "\n",
    "dataset_10934611_person_df = pandas.read_gbq(\n",
    "    dataset_10934611_person_sql,\n",
    "    dialect=\"standard\",\n",
    "    use_bqstorage_api=(\"BIGQUERY_STORAGE_API_ENABLED\" in os.environ),\n",
    "    progress_bar_type=\"tqdm_notebook\")\n",
    "\n",
    "dataset_10934611_person_df.head(5)"
   ]
  },
  {
   "cell_type": "code",
   "execution_count": null,
   "metadata": {},
   "outputs": [],
   "source": [
    "import os\n",
    "\n",
    "# This query represents dataset \"ced2\" for domain \"person\" and was generated for All of Us Controlled Tier Dataset v7\n",
    "dataset_10934611_person_sql = \"\"\"\n",
    "    SELECT\n",
    "        person.person_id,\n",
    "        p_gender_concept.concept_name as gender,\n",
    "        person.birth_datetime as date_of_birth,\n",
    "        p_race_concept.concept_name as race,\n",
    "        p_ethnicity_concept.concept_name as ethnicity,\n",
    "        p_sex_at_birth_concept.concept_name as sex_at_birth \n",
    "    FROM\n",
    "        `\"\"\" + os.environ[\"WORKSPACE_CDR\"] + \"\"\".person` person \n",
    "    LEFT JOIN\n",
    "        `\"\"\" + os.environ[\"WORKSPACE_CDR\"] + \"\"\".concept` p_gender_concept \n",
    "            ON person.gender_concept_id = p_gender_concept.concept_id \n",
    "    LEFT JOIN\n",
    "        `\"\"\" + os.environ[\"WORKSPACE_CDR\"] + \"\"\".concept` p_race_concept \n",
    "            ON person.race_concept_id = p_race_concept.concept_id \n",
    "    LEFT JOIN\n",
    "        `\"\"\" + os.environ[\"WORKSPACE_CDR\"] + \"\"\".concept` p_ethnicity_concept \n",
    "            ON person.ethnicity_concept_id = p_ethnicity_concept.concept_id \n",
    "    LEFT JOIN\n",
    "        `\"\"\" + os.environ[\"WORKSPACE_CDR\"] + \"\"\".concept` p_sex_at_birth_concept \n",
    "            ON person.sex_at_birth_concept_id = p_sex_at_birth_concept.concept_id  \n",
    "\"\"\"\n",
    "\n",
    "person_df = pandas.read_gbq(\n",
    "    dataset_10934611_person_sql,\n",
    "    dialect=\"standard\",\n",
    "    use_bqstorage_api=(\"BIGQUERY_STORAGE_API_ENABLED\" in os.environ),\n",
    "    progress_bar_type=\"tqdm_notebook\")\n",
    "\n",
    "person_df.head(5)"
   ]
  },
  {
   "cell_type": "code",
   "execution_count": null,
   "metadata": {},
   "outputs": [],
   "source": [
    "person_df['CeD']='healthy'\n",
    "person_df.loc[person_df['person_id'].isin(dataset_10934611_person_df['person_id']),'CeD']='celiac'"
   ]
  },
  {
   "cell_type": "code",
   "execution_count": null,
   "metadata": {},
   "outputs": [],
   "source": [
    "#calculate age\n",
    "#extract enrollment date\n",
    "dataset_ages_sql = \"\"\"SELECT DISTINCT\n",
    "\n",
    "person_id,\n",
    "\n",
    "observation_datetime AS primary_consent_date\n",
    "\n",
    "FROM `fc-aou-cdr-prod-ct.C2022Q4R11.concept`\n",
    "\n",
    "JOIN `fc-aou-cdr-prod-ct.C2022Q4R11.concept_ancestor` on concept_id = ancestor_concept_id\n",
    "\n",
    "JOIN `fc-aou-cdr-prod-ct.C2022Q4R11.observation` on descendant_concept_id = observation_concept_id\n",
    "\n",
    "WHERE concept_name = 'Consent PII' AND concept_class_id = 'Module'\"\"\"\n",
    "\n",
    "ages_df = pandas.read_gbq(\n",
    "    dataset_ages_sql,\n",
    "    dialect=\"standard\",\n",
    "    use_bqstorage_api=(\"BIGQUERY_STORAGE_API_ENABLED\" in os.environ),\n",
    "    progress_bar_type=\"tqdm_notebook\")\n",
    "ages_df.head(5)"
   ]
  },
  {
   "cell_type": "code",
   "execution_count": null,
   "metadata": {},
   "outputs": [],
   "source": [
    "import os\n",
    "bucket = os.getenv('WORKSPACE_BUCKET')"
   ]
  },
  {
   "cell_type": "code",
   "execution_count": null,
   "metadata": {},
   "outputs": [],
   "source": [
    "ages_df.drop_duplicates('person_id',inplace=True)\n",
    "demo_df = pandas.merge(person_df, ages_df, on='person_id', how='left')"
   ]
  },
  {
   "cell_type": "code",
   "execution_count": null,
   "metadata": {},
   "outputs": [],
   "source": [
    "from datetime import date\n",
    "def age(birthdate,enrolldate):\n",
    "    age = enrolldate.year - birthdate.year - ((enrolldate.month, enrolldate.day) < (birthdate.month, birthdate.day))\n",
    "    return age\n",
    "from tqdm import tqdm"
   ]
  },
  {
   "cell_type": "code",
   "execution_count": null,
   "metadata": {},
   "outputs": [],
   "source": [
    "demo_df['age'] = [age(i,j) for i,j in zip(tqdm(demo_df['date_of_birth']),tqdm(demo_df['primary_consent_date']))]"
   ]
  },
  {
   "cell_type": "code",
   "execution_count": null,
   "metadata": {},
   "outputs": [],
   "source": [
    "demo_df=demo_df[['person_id','race','ethnicity','sex_at_birth','age','CeD']]"
   ]
  },
  {
   "cell_type": "code",
   "execution_count": null,
   "metadata": {},
   "outputs": [],
   "source": [
    "surv_cov = pd.merge(dataset_17204989_survey_df,demo_df,on='person_id')"
   ]
  },
  {
   "cell_type": "code",
   "execution_count": null,
   "metadata": {},
   "outputs": [],
   "source": [
    "survey_df = surv_cov.pivot(columns='question',values='answer',index=['person_id','CeD','race','ethnicity','sex_at_birth','age']).reset_index()"
   ]
  },
  {
   "cell_type": "code",
   "execution_count": null,
   "metadata": {},
   "outputs": [],
   "source": [
    "survey_df.value_counts('CeD')"
   ]
  },
  {
   "cell_type": "code",
   "execution_count": null,
   "metadata": {},
   "outputs": [],
   "source": [
    "survey_df.to_csv('life_quality.csv',index=False)"
   ]
  },
  {
   "cell_type": "code",
   "execution_count": null,
   "metadata": {},
   "outputs": [],
   "source": [
    "survey_df = pd.read_csv('life_quality.csv')"
   ]
  },
  {
   "cell_type": "code",
   "execution_count": null,
   "metadata": {},
   "outputs": [],
   "source": [
    "#matched = pd.read_csv('celiac_matched_data_non_genetic.csv')\n",
    "#survey_df = survey_df[survey_df['person_id'].isin(matched_v2['person_id'])]\n",
    "#survey_df"
   ]
  },
  {
   "cell_type": "code",
   "execution_count": null,
   "metadata": {},
   "outputs": [],
   "source": [
    "#survey_df.to_csv('survey_matched_df.csv',index=False)"
   ]
  },
  {
   "cell_type": "code",
   "execution_count": null,
   "metadata": {},
   "outputs": [],
   "source": [
    "survey_df.loc[~survey_df['sex_at_birth'].isin(['Male', 'Female','Intersex']),'sex_at_birth']='other'\n",
    "survey_df.loc[~survey_df['race'].isin(['Native Hawaiian or Other Pacific Islander', 'White','Black or African American', 'Asian','Middle Eastern or North African']),'race']='other'\n",
    "survey_df.loc[~survey_df['ethnicity'].isin(['Not Hispanic or Latino', 'Hispanic or Latino']),'ethnicity']='other'\n"
   ]
  },
  {
   "cell_type": "code",
   "execution_count": null,
   "metadata": {},
   "outputs": [],
   "source": [
    "#first do the pain(numeric) while excluding\n",
    "pain = survey_df[~survey_df['Overall Health: Average Pain 7 Days'].isin(['PMI: Skip','No matching concept'])]\n",
    "\n",
    "pain['Overall Health: Average Pain 7 Days']=pain['Overall Health: Average Pain 7 Days'].astype(int)\n",
    "pain.value_counts('CeD')"
   ]
  },
  {
   "cell_type": "code",
   "execution_count": null,
   "metadata": {},
   "outputs": [],
   "source": [
    "survey_df.replace(['PMI: Skip','No matching concept'],[None,None],inplace=True)\n",
    "survey_df.replace('General Mental Health: Excllent','General Mental Health: Excellent',inplace=True)"
   ]
  },
  {
   "cell_type": "code",
   "execution_count": null,
   "metadata": {},
   "outputs": [],
   "source": [
    "import numpy as np\n",
    "survey_df['Overall Health: Average Pain 7 Days'].fillna(np.nan,inplace=True)\n",
    "survey_df['Overall Health: Average Pain 7 Days']=survey_df['Overall Health: Average Pain 7 Days'].astype(float)"
   ]
  },
  {
   "cell_type": "code",
   "execution_count": null,
   "metadata": {},
   "outputs": [],
   "source": [
    "survey_df.columns"
   ]
  },
  {
   "cell_type": "code",
   "execution_count": null,
   "metadata": {},
   "outputs": [],
   "source": [
    "regression_df = survey_df.copy()"
   ]
  },
  {
   "cell_type": "code",
   "execution_count": null,
   "metadata": {},
   "outputs": [],
   "source": [
    "survey_df['Overall Health: Social Satisfaction'].unique()"
   ]
  },
  {
   "cell_type": "code",
   "execution_count": null,
   "metadata": {},
   "outputs": [],
   "source": [
    "# Define the ordinal order\n",
    "ordinal_order = ['Everyday Activities: Not At All','Everyday Activities: A Little', 'Everyday Activities: Moderately',\n",
    "       'Everyday Activities: Mostly', 'Everyday Activities: Completely' ]\n",
    "\n",
    "# Convert the categorical variable to 'category' type with the specified order\n",
    "regression_df['Overall Health: Everyday Activities'] = pd.Categorical(regression_df['Overall Health: Everyday Activities'], categories=ordinal_order, ordered=True)\n",
    "\n",
    "# Convert the categorical variable to numerical codes\n",
    "regression_df['Overall Health: Everyday Activities'] = regression_df['Overall Health: Everyday Activities'].cat.codes\n",
    "\n",
    "regression_df['Overall Health: Everyday Activities'].unique()"
   ]
  },
  {
   "cell_type": "code",
   "execution_count": null,
   "metadata": {},
   "outputs": [],
   "source": [
    "# Define the ordinal order\n",
    "ordinal_order = ['Average Fatigue 7 Days: Very Severe',   \n",
    "       'Average Fatigue 7 Days: Severe',\n",
    "       'Average Fatigue 7 Days: Moderate',\n",
    "        'Average Fatigue 7 Days: Mild',\n",
    "        'Average Fatigue 7 Days: None']\n",
    "\n",
    "# Convert the categorical variable to 'category' type with the specified order\n",
    "regression_df['Overall Health: Average Fatigue 7 Days'] = pd.Categorical(regression_df['Overall Health: Average Fatigue 7 Days'], categories=ordinal_order, ordered=True)\n",
    "\n",
    "# Convert the categorical variable to numerical codes\n",
    "regression_df['Overall Health: Average Fatigue 7 Days'] = regression_df['Overall Health: Average Fatigue 7 Days'].cat.codes\n",
    "regression_df['Overall Health: Average Fatigue 7 Days'].unique()"
   ]
  },
  {
   "cell_type": "code",
   "execution_count": null,
   "metadata": {},
   "outputs": [],
   "source": [
    "# Define the ordinal order\n",
    "ordinal_order = ['Emotional Problem 7 Days: Always',\n",
    "       'Emotional Problem 7 Days: Often',\n",
    "       'Emotional Problem 7 Days: Sometimes',\n",
    "       'Emotional Problem 7 Days: Rarely','Emotional Problem 7 Days: Never'\n",
    "       ]\n",
    "\n",
    "# Convert the categorical variable to 'category' type with the specified order\n",
    "regression_df['Overall Health: Emotional Problem 7 Days'] = pd.Categorical(regression_df['Overall Health: Emotional Problem 7 Days'], categories=ordinal_order, ordered=True)\n",
    "\n",
    "# Convert the categorical variable to numerical codes\n",
    "regression_df['Overall Health: Emotional Problem 7 Days'] = regression_df['Overall Health: Emotional Problem 7 Days'].cat.codes\n",
    "regression_df['Overall Health: Emotional Problem 7 Days'].unique()"
   ]
  },
  {
   "cell_type": "code",
   "execution_count": null,
   "metadata": {},
   "outputs": [],
   "source": [
    "# Define the ordinal order\n",
    "ordinal_order = ['Everyday Activities: Not At All','Everyday Activities: A Little', 'Everyday Activities: Moderately',\n",
    "       'Everyday Activities: Mostly', 'Everyday Activities: Completely']\n",
    "\n",
    "# Convert the categorical variable to 'category' type with the specified order\n",
    "regression_df['cat'] = pd.Categorical(survey_df['Overall Health: Everyday Activities'], categories=ordinal_order, ordered=True)\n",
    "# Convert the categorical variable to numerical codes\n",
    "regression_df['Overall Health: Everyday Activities'] = regression_df['cat'].cat.codes\n",
    "regression_df['Overall Health: Everyday Activities'].unique()"
   ]
  },
  {
   "cell_type": "code",
   "execution_count": null,
   "metadata": {},
   "outputs": [],
   "source": [
    "# Define the ordinal order\n",
    "ordinal_order = ['General Mental Health: Poor','General Mental Health: Fair', 'General Mental Health: Good','General Mental Health: Very Good',\n",
    "        'General Mental Health: Excellent'       ]\n",
    "\n",
    "# Convert the categorical variable to 'category' type with the specified order\n",
    "regression_df['cat'] = pd.Categorical(survey_df['Overall Health: General Mental Health'], categories=ordinal_order, ordered=True)\n",
    "# Convert the categorical variable to numerical codes\n",
    "regression_df['Overall Health: General Mental Health'] = regression_df['cat'].cat.codes\n",
    "regression_df['Overall Health: General Mental Health'].unique()"
   ]
  },
  {
   "cell_type": "code",
   "execution_count": null,
   "metadata": {},
   "outputs": [],
   "source": [
    "# Define the ordinal order\n",
    "ordinal_order = ['General Physical Health: Poor','General Physical Health: Fair',\n",
    "       'General Physical Health: Good', 'General Physical Health: Very Good',\n",
    "       'General Physical Health: Excellent']\n",
    "\n",
    "# Convert the categorical variable to 'category' type with the specified order\n",
    "regression_df['cat'] = pd.Categorical(survey_df['Overall Health: General Physical Health'], categories=ordinal_order, ordered=True)\n",
    "# Convert the categorical variable to numerical codes\n",
    "regression_df['Overall Health: General Physical Health'] = regression_df['cat'].cat.codes\n",
    "regression_df['Overall Health: General Physical Health'].unique()"
   ]
  },
  {
   "cell_type": "code",
   "execution_count": null,
   "metadata": {},
   "outputs": [],
   "source": [
    "# Define the ordinal order\n",
    "ordinal_order = ['General Quality: Poor', 'General Quality: Fair', 'General Quality: Good', 'General Quality: Very Good',\n",
    "       'General Quality: Excellent']\n",
    "\n",
    "# Convert the categorical variable to 'category' type with the specified order\n",
    "regression_df['cat'] = pd.Categorical(survey_df['Overall Health: General Quality'], categories=ordinal_order, ordered=True)\n",
    "# Convert the categorical variable to numerical codes\n",
    "regression_df['Overall Health: General Quality'] = regression_df['cat'].cat.codes\n",
    "regression_df['Overall Health: General Quality'].unique()"
   ]
  },
  {
   "cell_type": "code",
   "execution_count": null,
   "metadata": {},
   "outputs": [],
   "source": [
    "# Define the ordinal order\n",
    "ordinal_order = ['Social Satisfaction: Poor', 'Social Satisfaction: Fair', \n",
    "       'Social Satisfaction: Good', 'Social Satisfaction: Very Good', 'Social Satisfaction: Excellent']\n",
    "\n",
    "# Convert the categorical variable to 'category' type with the specified order\n",
    "regression_df['cat'] = pd.Categorical(survey_df['Overall Health: Social Satisfaction'], categories=ordinal_order, ordered=True)\n",
    "# Convert the categorical variable to numerical codes\n",
    "regression_df['Overall Health: Social Satisfaction'] = regression_df['cat'].cat.codes\n",
    "regression_df['Overall Health: Social Satisfaction'].unique()"
   ]
  },
  {
   "cell_type": "code",
   "execution_count": null,
   "metadata": {},
   "outputs": [],
   "source": [
    "regression_df['CeD'].replace(['healthy','celiac'],[0,1],inplace=True)\n",
    "cov = pd.get_dummies(regression_df[['race','ethnicity','sex_at_birth']])"
   ]
  },
  {
   "cell_type": "code",
   "execution_count": null,
   "metadata": {},
   "outputs": [],
   "source": [
    "cov=cov.astype(int)"
   ]
  },
  {
   "cell_type": "code",
   "execution_count": null,
   "metadata": {},
   "outputs": [],
   "source": [
    "cov=cov[['race_Asian', 'race_Black or African American',\n",
    "       'race_Middle Eastern or North African',\n",
    "       'race_Native Hawaiian or Other Pacific Islander', 'race_White','ethnicity_Hispanic or Latino','sex_at_birth_Female', 'sex_at_birth_Intersex', 'sex_at_birth_Male',]]"
   ]
  },
  {
   "cell_type": "code",
   "execution_count": null,
   "metadata": {},
   "outputs": [],
   "source": [
    "regress = pd.concat([regression_df,cov],axis=1).drop(['cat','race','ethnicity','sex_at_birth'],axis=1)"
   ]
  },
  {
   "cell_type": "code",
   "execution_count": null,
   "metadata": {},
   "outputs": [],
   "source": [
    "regress.replace(-1, np.nan, inplace=True)"
   ]
  },
  {
   "cell_type": "code",
   "execution_count": null,
   "metadata": {},
   "outputs": [],
   "source": [
    "regress"
   ]
  },
  {
   "cell_type": "code",
   "execution_count": null,
   "metadata": {},
   "outputs": [],
   "source": [
    "# Preparing the dataset for regression\n",
    "X = regress.drop(['person_id','CeD'],axis=1)\n",
    "X = sm.add_constant(X)  # Adding a constant for the intercept\n",
    "y = regress['CeD'] # Adjusting Celiac variable to binary"
   ]
  },
  {
   "cell_type": "code",
   "execution_count": null,
   "metadata": {},
   "outputs": [],
   "source": [
    "# Performing the logistic regression\n",
    "#need to filter nans in pain first\n",
    "model = sm.Logit(y, X, missing = 'drop').fit()"
   ]
  },
  {
   "cell_type": "code",
   "execution_count": null,
   "metadata": {},
   "outputs": [],
   "source": [
    "model.pvalues.to_csv('life_quality_pvals_matched.csv')"
   ]
  },
  {
   "cell_type": "code",
   "execution_count": null,
   "metadata": {},
   "outputs": [],
   "source": [
    "regress.loc[~regress.isna().any(axis=1),'CeD'].value_counts()"
   ]
  },
  {
   "cell_type": "code",
   "execution_count": null,
   "metadata": {},
   "outputs": [],
   "source": [
    "# Exporting the summary to a text file\n",
    "summary_str = model.summary().as_text()\n",
    "summary_output_path = 'life_quality_logistic_regression_summary_matched.txt'\n",
    "with open(summary_output_path, 'w') as file:\n",
    "    file.write(summary_str)"
   ]
  },
  {
   "cell_type": "code",
   "execution_count": null,
   "metadata": {},
   "outputs": [],
   "source": [
    "model.summary() #no person has duplicate answers for any question"
   ]
  },
  {
   "cell_type": "code",
   "execution_count": null,
   "metadata": {},
   "outputs": [],
   "source": [
    "regress['Overall Health: Average Pain 7 Days'].replace([0,1,2,3,4,5,6,7,8,9,10],[1,2,2,2,3,3,3,4,4,4,5],inplace=True)"
   ]
  },
  {
   "cell_type": "code",
   "execution_count": null,
   "metadata": {},
   "outputs": [],
   "source": [
    "regress[['Overall Health: Emotional Problem 7 Days',\n",
    "       'Overall Health: Everyday Activities','Overall Health: Average Fatigue 7 Days',\n",
    "       'Overall Health: General Mental Health',\n",
    "       'Overall Health: General Physical Health',\n",
    "       'Overall Health: General Quality',\n",
    "       'Overall Health: Social Satisfaction']]+=1"
   ]
  },
  {
   "cell_type": "code",
   "execution_count": null,
   "metadata": {},
   "outputs": [],
   "source": [
    "regress#['Overall Health: Average Fatigue 7 Days'].unique()"
   ]
  },
  {
   "cell_type": "code",
   "execution_count": null,
   "metadata": {},
   "outputs": [],
   "source": [
    "regress['PH_raw']=(6-regress['Overall Health: Average Pain 7 Days'])+regress['Overall Health: Everyday Activities']+regress['Overall Health: General Physical Health']+regress['Overall Health: Average Fatigue 7 Days']"
   ]
  },
  {
   "cell_type": "code",
   "execution_count": null,
   "metadata": {},
   "outputs": [],
   "source": [
    "regress['MH_raw']=regress['Overall Health: General Mental Health']+regress['Overall Health: General Quality']+regress['Overall Health: Social Satisfaction']+regress['Overall Health: Emotional Problem 7 Days']"
   ]
  },
  {
   "cell_type": "code",
   "execution_count": null,
   "metadata": {},
   "outputs": [],
   "source": [
    "regress['Global_raw']=regress['PH_raw']+regress['MH_raw']"
   ]
  },
  {
   "cell_type": "code",
   "execution_count": null,
   "metadata": {},
   "outputs": [],
   "source": [
    "#T-score with mean 50 and std 10\n",
    "def tscore(arr):\n",
    "    val = zscore(arr)*10+50\n",
    "    return val"
   ]
  },
  {
   "cell_type": "code",
   "execution_count": null,
   "metadata": {},
   "outputs": [],
   "source": [
    "regress.loc[~pd.isna(regress['PH_raw']),'PROMIS-PH']=tscore(regress['PH_raw'].dropna())"
   ]
  },
  {
   "cell_type": "code",
   "execution_count": null,
   "metadata": {},
   "outputs": [],
   "source": [
    "regress.loc[~pd.isna(regress['MH_raw']),'PROMIS-MH']=tscore(regress['MH_raw'].dropna())"
   ]
  },
  {
   "cell_type": "code",
   "execution_count": null,
   "metadata": {},
   "outputs": [],
   "source": [
    "regress.loc[~pd.isna(regress['Global_raw']),'PROMIS-total']=tscore(regress['Global_raw'].dropna())"
   ]
  },
  {
   "cell_type": "code",
   "execution_count": null,
   "metadata": {},
   "outputs": [],
   "source": [
    "#combined score regression\n",
    "X2 = regress[['age','race_Asian',\n",
    "       'race_Black or African American',\n",
    "       'race_Middle Eastern or North African',\n",
    "       'race_Native Hawaiian or Other Pacific Islander', 'race_White',\n",
    "       'ethnicity_Hispanic or Latino', 'sex_at_birth_Female',\n",
    "       'sex_at_birth_Intersex', 'sex_at_birth_Male','CeD']]\n",
    "X2 = sm.add_constant(X2)  # Adding a constant for the intercept\n",
    "y = regress['PROMIS-total']"
   ]
  },
  {
   "cell_type": "code",
   "execution_count": null,
   "metadata": {},
   "outputs": [],
   "source": [
    "# Performing the logistic regression\n",
    "model_agg = sm.OLS(y, X2, missing = 'drop').fit()"
   ]
  },
  {
   "cell_type": "code",
   "execution_count": null,
   "metadata": {},
   "outputs": [],
   "source": [
    "# Exporting the summary to a text file\n",
    "summary_str = model_agg.summary().as_text()\n",
    "summary_output_path = 'PROMIS_score_linear_regression_summary_matched.txt'\n",
    "with open(summary_output_path, 'w') as file:\n",
    "    file.write(summary_str)\n",
    "!gsutil cp PROMIS_score_linear_regression_summary_matched.txt $WORKSPACE_BUCKET/data/life_quality/"
   ]
  },
  {
   "cell_type": "code",
   "execution_count": null,
   "metadata": {},
   "outputs": [],
   "source": [
    "model_agg.pvalues.to_csv('PROMIS_score_linear_pvals_matched.csv')\n",
    "!gsutil cp PROMIS_score_linear_pvals_matched.csv $WORKSPACE_BUCKET/data/life_quality/"
   ]
  },
  {
   "cell_type": "code",
   "execution_count": null,
   "metadata": {},
   "outputs": [],
   "source": [
    "regress=pd.read_csv(f'{bucket}/data/life_quality/PROMIS_scores.csv')\n",
    "matched_v2 = pd.read_csv(f'{bucket}/data/gwas_v2/phenotypes/celiac_matched_data_v2.csv')"
   ]
  },
  {
   "cell_type": "code",
   "execution_count": null,
   "metadata": {},
   "outputs": [],
   "source": [
    "first_match=regress[regress['person_id'].isin(matched_v2.person_id)]"
   ]
  },
  {
   "cell_type": "code",
   "execution_count": null,
   "metadata": {},
   "outputs": [],
   "source": [
    "first_match.loc[~pd.isna(first_match['PH_raw']),'PROMIS-PH']=tscore(first_match['PH_raw'].dropna())\n",
    "first_match.loc[~pd.isna(first_match['MH_raw']),'PROMIS-MH']=tscore(first_match['MH_raw'].dropna())\n",
    "\n",
    "first_match.loc[~pd.isna(first_match['Global_raw']),'PROMIS-total']=tscore(first_match['Global_raw'].dropna())"
   ]
  },
  {
   "cell_type": "code",
   "execution_count": null,
   "metadata": {},
   "outputs": [],
   "source": [
    "first_match.to_csv('PROMIS_scores_gen_matched_v2.csv',index=False)\n",
    "!gsutil cp PROMIS_scores_gen_matched_v2.csv $WORKSPACE_BUCKET/data/life_quality/"
   ]
  },
  {
   "cell_type": "code",
   "execution_count": null,
   "metadata": {},
   "outputs": [],
   "source": [
    "regress.to_csv('PROMIS_scores.csv',index=False)\n",
    "!gsutil cp PROMIS_scores.csv $WORKSPACE_BUCKET/data/life_quality/"
   ]
  },
  {
   "cell_type": "code",
   "execution_count": null,
   "metadata": {},
   "outputs": [],
   "source": [
    "\n",
    "regress=pd.read_csv(f'{bucket}/data/life_quality/PROMIS_scores.csv')"
   ]
  },
  {
   "cell_type": "code",
   "execution_count": null,
   "metadata": {},
   "outputs": [],
   "source": [
    "regress[~pd.isna(regress['PROMIS-total'])].value_counts('CeD')"
   ]
  },
  {
   "cell_type": "code",
   "execution_count": null,
   "metadata": {},
   "outputs": [],
   "source": [
    "regress[~regress[['Overall Health: Average Fatigue 7 Days',\n",
    "       'Overall Health: Average Pain 7 Days',\n",
    "       'Overall Health: Emotional Problem 7 Days',\n",
    "       'Overall Health: Everyday Activities',\n",
    "       'Overall Health: General Mental Health',\n",
    "       'Overall Health: General Physical Health',\n",
    "       'Overall Health: General Quality',\n",
    "       'Overall Health: Social Satisfaction']].isna().all(axis=1)]"
   ]
  }
 ],
 "metadata": {
  "kernelspec": {
   "display_name": "Python 3 (ipykernel)",
   "language": "python",
   "name": "python3"
  },
  "language_info": {
   "codemirror_mode": {
    "name": "ipython",
    "version": 3
   },
   "file_extension": ".py",
   "mimetype": "text/x-python",
   "name": "python",
   "nbconvert_exporter": "python",
   "pygments_lexer": "ipython3",
   "version": "3.9.13"
  },
  "toc": {
   "base_numbering": 1,
   "nav_menu": {},
   "number_sections": true,
   "sideBar": true,
   "skip_h1_title": false,
   "title_cell": "Table of Contents",
   "title_sidebar": "Contents",
   "toc_cell": false,
   "toc_position": {},
   "toc_section_display": true,
   "toc_window_display": false
  }
 },
 "nbformat": 4,
 "nbformat_minor": 2
}
