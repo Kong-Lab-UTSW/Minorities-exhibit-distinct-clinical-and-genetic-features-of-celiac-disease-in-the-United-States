{
 "cells": [
  {
   "cell_type": "code",
   "execution_count": null,
   "metadata": {},
   "outputs": [],
   "source": [
    "import os\n",
    "\n",
    "bucket = os.environ['WORKSPACE_BUCKET']\n",
    "\n",
    "\n",
    "from hail.plot import show\n",
    "from pprint import pprint\n",
    "from collections import Counter\n",
    "from bokeh.plotting import output_file, save\n",
    "import bokeh.io\n",
    "from bokeh.io import *\n",
    "from bokeh.resources import INLINE"
   ]
  },
  {
   "cell_type": "code",
   "execution_count": null,
   "metadata": {},
   "outputs": [],
   "source": [
    "bokeh.io.output_notebook(INLINE) \n",
    "%matplotlib inline"
   ]
  },
  {
   "cell_type": "code",
   "execution_count": null,
   "metadata": {},
   "outputs": [],
   "source": [
    "# Initialize Hail\n",
    "import hail as hl\n",
    "#import os\n",
    "#from hail.plot import show\n",
    "\n",
    "hl.init(default_reference='GRCh38')\n",
    "#hl.plot.output_notebook()"
   ]
  },
  {
   "cell_type": "code",
   "execution_count": null,
   "metadata": {
    "scrolled": false
   },
   "outputs": [],
   "source": [
    "pheno = hl.import_table(f'{bucket}/data/gwas_v4/pheno_hail_final.tsv', key = \"person_id\",  impute=True,types={'person_id':hl.tstr})"
   ]
  },
  {
   "cell_type": "code",
   "execution_count": null,
   "metadata": {},
   "outputs": [],
   "source": [
    "vds = hl.vds.read_vds(\"gs://fc-aou-datasets-controlled/v7/wgs/short_read/snpindel/vds/hail.vds\")"
   ]
  },
  {
   "cell_type": "code",
   "execution_count": null,
   "metadata": {},
   "outputs": [],
   "source": [
    "vds = hl.vds.filter_samples(vds, pheno, keep = True, remove_dead_alleles = True)"
   ]
  },
  {
   "cell_type": "code",
   "execution_count": null,
   "metadata": {},
   "outputs": [],
   "source": [
    "vars=vds.variant_data.rows()"
   ]
  },
  {
   "cell_type": "code",
   "execution_count": null,
   "metadata": {},
   "outputs": [],
   "source": [
    "snp_table=vars.filter(hl.is_snp(vars.alleles[0],vars.alleles[1]))"
   ]
  },
  {
   "cell_type": "code",
   "execution_count": null,
   "metadata": {},
   "outputs": [],
   "source": [
    "SNPS=snp_table.count()\n",
    "#947621484 variants"
   ]
  },
  {
   "cell_type": "code",
   "execution_count": null,
   "metadata": {},
   "outputs": [],
   "source": [
    "vds = hl.vds.filter_variants(vds,snp_table)"
   ]
  },
  {
   "cell_type": "code",
   "execution_count": null,
   "metadata": {},
   "outputs": [],
   "source": [
    "vds = hl.vds.split_multi(vds)"
   ]
  },
  {
   "cell_type": "code",
   "execution_count": null,
   "metadata": {},
   "outputs": [],
   "source": [
    "mt_full = hl.vds.to_dense_mt(vds)\n",
    "\n",
    "\n",
    "#mt_full = mt_full.filter_rows(hl.is_snp(mt_full.alleles[0], mt_full.alleles[1]))\n",
    "\n",
    "#mt_full=mt_full.annotate_entries(DP=hl.sum(mt_full.AD))\n",
    "mt_full.describe()"
   ]
  },
  {
   "cell_type": "code",
   "execution_count": null,
   "metadata": {},
   "outputs": [],
   "source": [
    "mt_full = hl.variant_qc(mt_full)\n",
    "mt_full.describe()\n",
    "\n",
    "mt_full = mt_full.filter_rows(mt_full.variant_qc.AF[1] > 0.005)\n",
    "#mt_full.count()\n",
    "#20304183 variants meet AF"
   ]
  },
  {
   "cell_type": "code",
   "execution_count": null,
   "metadata": {},
   "outputs": [],
   "source": [
    "mt_full = mt_full.filter_rows((mt_full.variant_qc.call_rate > 0.95)&(mt_full.variant_qc.p_value_hwe > 1e-30))"
   ]
  },
  {
   "cell_type": "code",
   "execution_count": null,
   "metadata": {},
   "outputs": [],
   "source": [
    "#allele balance\n",
    "ab = mt_full.AD[1] / hl.sum(mt_full.AD)\n",
    "\n",
    "filter_condition_ab = ((mt_full.GT.is_hom_ref() & (ab <= 0.1)) |\n",
    "                        (mt_full.GT.is_het() & (ab >= 0.25) & (ab <= 0.75)) |\n",
    "                        (mt_full.GT.is_hom_var() & (ab >= 0.9)))\n",
    "\n"
   ]
  },
  {
   "cell_type": "code",
   "execution_count": null,
   "metadata": {},
   "outputs": [],
   "source": [
    "\n",
    "mt4 = mt_full.filter_entries(filter_condition_ab)\n",
    "\n",
    "mt4.row.describe()"
   ]
  },
  {
   "cell_type": "code",
   "execution_count": null,
   "metadata": {},
   "outputs": [],
   "source": [
    "#~32 hrs for this step\n",
    "mt4.write(f'{bucket}/data/gwas_v4/gwas_filtered.mt', overwrite=True )"
   ]
  },
  {
   "cell_type": "code",
   "execution_count": null,
   "metadata": {},
   "outputs": [],
   "source": [
    "#add pheno file covars\n",
    "mt4 = mt4.annotate_cols(pheno = pheno[mt4.s])"
   ]
  },
  {
   "cell_type": "code",
   "execution_count": null,
   "metadata": {
    "scrolled": false
   },
   "outputs": [],
   "source": [
    "covariates = [1.0, mt4.pheno.age, mt4.pheno.PC1, mt4.pheno.PC2, mt4.pheno.PC3, mt4.pheno.is_female]\n"
   ]
  },
  {
   "cell_type": "code",
   "execution_count": null,
   "metadata": {},
   "outputs": [],
   "source": [
    "gwas = hl.logistic_regression_rows(y=mt4.pheno.label,\n",
    "                                   test='wald',\n",
    "                                 x=mt4.GT.n_alt_alleles(),\n",
    "                                 covariates=covariates)\n",
    "gwas.describe()"
   ]
  },
  {
   "cell_type": "code",
   "execution_count": null,
   "metadata": {},
   "outputs": [],
   "source": [
    "gwas.export(f'{bucket}/data/gwas_v4/gwas_v4.tsv')"
   ]
  }
 ],
 "metadata": {
  "kernelspec": {
   "display_name": "Python 3 (ipykernel)",
   "language": "python",
   "name": "python3"
  },
  "language_info": {
   "codemirror_mode": {
    "name": "ipython",
    "version": 3
   },
   "file_extension": ".py",
   "mimetype": "text/x-python",
   "name": "python",
   "nbconvert_exporter": "python",
   "pygments_lexer": "ipython3",
   "version": "3.9.13"
  },
  "toc": {
   "base_numbering": 1,
   "nav_menu": {},
   "number_sections": true,
   "sideBar": true,
   "skip_h1_title": false,
   "title_cell": "Table of Contents",
   "title_sidebar": "Contents",
   "toc_cell": false,
   "toc_position": {},
   "toc_section_display": true,
   "toc_window_display": false
  }
 },
 "nbformat": 4,
 "nbformat_minor": 2
}
