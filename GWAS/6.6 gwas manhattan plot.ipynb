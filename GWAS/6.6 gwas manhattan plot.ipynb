{
 "cells": [
  {
   "cell_type": "code",
   "execution_count": null,
   "metadata": {},
   "outputs": [],
   "source": [
    "install.packages('qqman')"
   ]
  },
  {
   "cell_type": "code",
   "execution_count": null,
   "metadata": {},
   "outputs": [],
   "source": [
    "install.packages('pdftools')"
   ]
  },
  {
   "cell_type": "code",
   "execution_count": null,
   "metadata": {},
   "outputs": [],
   "source": [
    "library(qqman)\n",
    "library(tidyverse)\n",
    "library(pdftools)"
   ]
  },
  {
   "cell_type": "code",
   "execution_count": null,
   "metadata": {},
   "outputs": [],
   "source": [
    "system('gsutil cp $WORKSPACE_BUCKET/data/gwas_v4/gwas_v4.tsv .',intern=T)"
   ]
  },
  {
   "cell_type": "code",
   "execution_count": null,
   "metadata": {},
   "outputs": [],
   "source": [
    "cel <- read_tsv('gwas_v4.tsv')"
   ]
  },
  {
   "cell_type": "code",
   "execution_count": null,
   "metadata": {},
   "outputs": [],
   "source": [
    "#prepare gwas results for qqman package\n",
    "cel$locus <-gsub(\"chr\", \"\", cel$locus)\n",
    "\n",
    "cel <- cel %>% separate(locus, into = c(\"CHR\", \"BP\"), sep = \":\")\n",
    "\n",
    "cel[(cel$CHR=='X'),'CHR'] <- '23'\n",
    "\n",
    "cel[(cel$CHR=='Y'),'CHR'] <- '24'\n",
    "\n",
    "cel <- drop_na(cel,'p_value')\n",
    "\n",
    "cel$CHR <- as.numeric(cel$CHR)\n",
    "\n",
    "cel$BP <- as.numeric(cel$BP)"
   ]
  },
  {
   "cell_type": "code",
   "execution_count": null,
   "metadata": {},
   "outputs": [],
   "source": [
    "#manhattan plot specifications; modify plot size\n",
    "plot_manhattan <- function(results) {\n",
    "    options(repr.plot.width = 20, repr.plot.height = 10)\n",
    "    manhattan(results,\n",
    "              suggestiveline = 5,\n",
    "              genomewideline=8,\n",
    "              logp=TRUE,\n",
    "              annotateTop = FALSE,\n",
    "              chrlabs = c(1:22,\"X\", \"Y\"),\n",
    "              ylim = c(0, 101),\n",
    "              p='p_value',\n",
    "              snp='alleles',\n",
    "              cex = 1.25,\n",
    "              cex.axis = 1,\n",
    "              cex.lab = 1.25,\n",
    "              col = c(\"blue4\", \"orange3\"), # Colors for the chromosomes\n",
    "              family='Times New Roman'\n",
    "              #main = 'All of Us v7 CeD gwas',\n",
    "              #xlim = c(26000000, 35000000),\n",
    "              #sub = PLOT_SUBTITLE\n",
    "             )\n",
    "}\n"
   ]
  },
  {
   "cell_type": "code",
   "execution_count": null,
   "metadata": {},
   "outputs": [],
   "source": [
    "#plot for viewing\n",
    "plot_manhattan(cel)"
   ]
  },
  {
   "cell_type": "code",
   "execution_count": null,
   "metadata": {},
   "outputs": [],
   "source": [
    "# Open the PDF device\n",
    "pdf(file='gwas_v4.pdf', width=11, height=8)\n",
    "\n",
    "# Create your plot\n",
    "plot_manhattan(cel)\n",
    "\n",
    "# Close the device\n",
    "dev.off()"
   ]
  },
  {
   "cell_type": "code",
   "execution_count": null,
   "metadata": {},
   "outputs": [],
   "source": [
    "# Open the PNG device\n",
    "png(file='gwas_man_R.png', width=1000, height=1000, family='ArialMT')\n",
    "\n",
    "# Create your plot\n",
    "plot_manhattan(cel)\n",
    "\n",
    "# Close the device\n",
    "dev.off()"
   ]
  },
  {
   "cell_type": "code",
   "execution_count": null,
   "metadata": {},
   "outputs": [],
   "source": [
    "#MHC gwas vars; extract for annotation and plotting\n",
    "cel2 <- cel %>% filter((CHR==6) & (BP<=33589696) & (BP>=26087429))\n",
    "cel2"
   ]
  },
  {
   "cell_type": "code",
   "execution_count": null,
   "metadata": {},
   "outputs": [],
   "source": [
    "write_csv(cel2,'gwas_MHC.csv')"
   ]
  }
 ],
 "metadata": {
  "kernelspec": {
   "display_name": "R",
   "language": "R",
   "name": "ir"
  },
  "language_info": {
   "codemirror_mode": "r",
   "file_extension": ".r",
   "mimetype": "text/x-r-source",
   "name": "R",
   "pygments_lexer": "r",
   "version": "4.4.0"
  },
  "toc": {
   "base_numbering": 1,
   "nav_menu": {},
   "number_sections": true,
   "sideBar": true,
   "skip_h1_title": false,
   "title_cell": "Table of Contents",
   "title_sidebar": "Contents",
   "toc_cell": false,
   "toc_position": {},
   "toc_section_display": true,
   "toc_window_display": false
  }
 },
 "nbformat": 4,
 "nbformat_minor": 2
}
