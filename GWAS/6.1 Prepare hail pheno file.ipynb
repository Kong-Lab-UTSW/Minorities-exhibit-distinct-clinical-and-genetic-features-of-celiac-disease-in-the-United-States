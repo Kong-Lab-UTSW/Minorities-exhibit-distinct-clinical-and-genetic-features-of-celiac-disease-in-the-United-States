{
 "cells": [
  {
   "cell_type": "code",
   "execution_count": null,
   "metadata": {},
   "outputs": [],
   "source": [
    "import os\n",
    "import pandas as pd\n",
    "import csv\n",
    "import numpy as np\n",
    "\n",
    "bucket = os.getenv('WORKSPACE_BUCKET')\n",
    "demo = pd.read_csv(f'{bucket}/data/gwas_v2/phenotypes/celiac_demo_v2.tsv',sep='\\t')\n",
    "match = pd.read_csv(f'{bucket}/data/gwas_v2/phenotypes/celiac_matched_data_v2.tsv',sep='\\t')"
   ]
  },
  {
   "cell_type": "code",
   "execution_count": null,
   "metadata": {},
   "outputs": [],
   "source": [
    "#uncomment this cell and run in a dataproc cluster only if you do not have genetic sex computed already; this can take 2 hours\n",
    "\"\"\"import os\n",
    "bucket = os.getenv(\"WORKSPACE_BUCKET\")\n",
    "import hail as hl\n",
    "hl.init(default_reference='GRCh38', idempotent=True)\n",
    "\n",
    "\n",
    "table = hl.read_matrix_table(os.getenv(\"WGS_ACAF_THRESHOLD_SPLIT_HAIL_PATH\"))\n",
    "imputed_sex = hl.impute_sex(table.GT,female_threshold=0.35, male_threshold=0.75)\n",
    "female = imputed_sex.filter(imputed_sex.is_female == True)\n",
    "male = imputed_sex.filter(imputed_sex.is_female == False)\n",
    "females_genetic = female.s.collect()\n",
    "males_genetic = male.s.collect()\n",
    "\n",
    "pd.Series(males_genetic).to_csv(f'{bucket}/data/gen_males.csv',index=False)\n",
    "pd.Series(females_genetic).to_csv(f'{bucket}/data/gen_females.csv',index=False)\"\"\""
   ]
  },
  {
   "cell_type": "code",
   "execution_count": null,
   "metadata": {},
   "outputs": [],
   "source": [
    "females_genetic=pd.read_csv(f'{bucket}/data/gen_females.csv')"
   ]
  },
  {
   "cell_type": "code",
   "execution_count": null,
   "metadata": {},
   "outputs": [],
   "source": [
    "relatedness=pd.read_csv(f'{bucket}/data/relatedness_flagged_samples.tsv')\n",
    "match=match[~match['person_id'].isin(relatedness['sample_id'])]"
   ]
  },
  {
   "cell_type": "code",
   "execution_count": null,
   "metadata": {},
   "outputs": [],
   "source": [
    "#count demographics for tables\n",
    "pd.DataFrame(match.value_counts(['sex_at_birth','label'])).reset_index().pivot(columns='label',values='count',index='sex_at_birth')"
   ]
  },
  {
   "cell_type": "code",
   "execution_count": null,
   "metadata": {},
   "outputs": [],
   "source": [
    "match.groupby('label').agg({'age':['mean','std']})"
   ]
  },
  {
   "cell_type": "code",
   "execution_count": null,
   "metadata": {},
   "outputs": [],
   "source": [
    "#ttest for age\n",
    "from scipy.stats import ttest_ind\n",
    "result=ttest_ind(match.loc[match['label']==1,'age'],match.loc[match['label']==0,'age'])\n",
    "print(result)"
   ]
  },
  {
   "cell_type": "code",
   "execution_count": null,
   "metadata": {},
   "outputs": [],
   "source": [
    "match.loc[match['person_id'].isin(females_genetic['0']),'is_female']=1\n",
    "match.is_female.fillna(0,inplace=True)"
   ]
  },
  {
   "cell_type": "code",
   "execution_count": null,
   "metadata": {},
   "outputs": [],
   "source": [
    "pheno=match[['person_id','label','age','PC1','PC2','PC3','is_female']]\n"
   ]
  },
  {
   "cell_type": "code",
   "execution_count": null,
   "metadata": {},
   "outputs": [],
   "source": [
    "pheno.to_csv(f'{bucket}/data/gwas_v4/pheno_hail_final.tsv',sep='\\t',index=False)"
   ]
  },
  {
   "cell_type": "code",
   "execution_count": null,
   "metadata": {},
   "outputs": [],
   "source": [
    "pheno=pd.read_csv(f'{bucket}/data/gwas_v4/pheno_hail_final.tsv',sep='\\t')"
   ]
  },
  {
   "cell_type": "code",
   "execution_count": null,
   "metadata": {},
   "outputs": [],
   "source": []
  }
 ],
 "metadata": {
  "kernelspec": {
   "display_name": "Python 3 (ipykernel)",
   "language": "python",
   "name": "python3"
  },
  "language_info": {
   "codemirror_mode": {
    "name": "ipython",
    "version": 3
   },
   "file_extension": ".py",
   "mimetype": "text/x-python",
   "name": "python",
   "nbconvert_exporter": "python",
   "pygments_lexer": "ipython3",
   "version": "3.9.13"
  },
  "toc": {
   "base_numbering": 1,
   "nav_menu": {},
   "number_sections": true,
   "sideBar": true,
   "skip_h1_title": false,
   "title_cell": "Table of Contents",
   "title_sidebar": "Contents",
   "toc_cell": false,
   "toc_position": {},
   "toc_section_display": true,
   "toc_window_display": false
  }
 },
 "nbformat": 4,
 "nbformat_minor": 2
}
