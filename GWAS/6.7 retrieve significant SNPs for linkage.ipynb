{
 "cells": [
  {
   "cell_type": "markdown",
   "metadata": {},
   "source": [
    "This notebook will extract variants with p-value < 10^-5 in plink format for linkage calculation"
   ]
  },
  {
   "cell_type": "code",
   "execution_count": null,
   "metadata": {},
   "outputs": [],
   "source": [
    "import hail as hl\n",
    "from hail.plot import show\n",
    "from bokeh.plotting import output_file, save\n",
    "import bokeh.io\n",
    "from bokeh.io import *\n",
    "from bokeh.resources import INLINE\n",
    "bokeh.io.output_notebook(INLINE) \n",
    "%matplotlib inline\n",
    "import json\n",
    "import numpy as np\n",
    "import re\n",
    "from datetime import datetime\n",
    "import os"
   ]
  },
  {
   "cell_type": "code",
   "execution_count": null,
   "metadata": {},
   "outputs": [],
   "source": [
    "import pandas as pd\n",
    "from tqdm import tqdm\n",
    "\n",
    "import os\n",
    "bucket = os.getenv(\"WORKSPACE_BUCKET\")"
   ]
  },
  {
   "cell_type": "code",
   "execution_count": null,
   "metadata": {},
   "outputs": [],
   "source": [
    "hl.init(default_reference='GRCh38', idempotent=True)\n"
   ]
  },
  {
   "cell_type": "code",
   "execution_count": null,
   "metadata": {},
   "outputs": [],
   "source": [
    "mt_vds_path = os.getenv(\"WGS_VDS_PATH\")\n",
    "\n",
    "vds = hl.vds.read_vds(mt_vds_path)"
   ]
  },
  {
   "cell_type": "code",
   "execution_count": null,
   "metadata": {},
   "outputs": [],
   "source": [
    "gwas_res = pd.read_csv(f'{bucket}/data/gwas_v4/gwas_logp5.csv')\n",
    "gwas_res['locus']='chr'+gwas_res['CHR_ID']+':'+(gwas_res['CHR_POS']-1).astype(str)+'-'+(gwas_res['CHR_POS']+1).astype(str)"
   ]
  },
  {
   "cell_type": "code",
   "execution_count": null,
   "metadata": {},
   "outputs": [],
   "source": [
    "gwas = hl.vds.filter_intervals(\n",
    "    vds,\n",
    "    [hl.parse_locus_interval(x, reference_genome='GRCh38')\n",
    "     for x in gwas_res['locus']])"
   ]
  },
  {
   "cell_type": "code",
   "execution_count": null,
   "metadata": {},
   "outputs": [],
   "source": [
    "pheno = hl.import_table(f'{bucket}/data/gwas_v4/pheno_hail.tsv', key = \"person_id\",  impute=True,types={'person_id':hl.tstr})\n",
    "\n",
    "gwas = hl.vds.filter_samples(gwas, pheno, keep = True, remove_dead_alleles = True)\n",
    "\n",
    "\n",
    "gwas = hl.vds.split_multi(gwas)\n",
    "\n",
    "mt = hl.vds.to_dense_mt(gwas)\n",
    "\n",
    "hl.export_plink(mt, f'{bucket}/data/gwas_v4/LD_plink', ind_id = mt.s)"
   ]
  }
 ],
 "metadata": {
  "kernelspec": {
   "display_name": "Python 3 (ipykernel)",
   "language": "python",
   "name": "python3"
  },
  "language_info": {
   "codemirror_mode": {
    "name": "ipython",
    "version": 3
   },
   "file_extension": ".py",
   "mimetype": "text/x-python",
   "name": "python",
   "nbconvert_exporter": "python",
   "pygments_lexer": "ipython3",
   "version": "3.9.13"
  },
  "toc": {
   "base_numbering": 1,
   "nav_menu": {},
   "number_sections": true,
   "sideBar": true,
   "skip_h1_title": false,
   "title_cell": "Table of Contents",
   "title_sidebar": "Contents",
   "toc_cell": false,
   "toc_position": {},
   "toc_section_display": true,
   "toc_window_display": false
  }
 },
 "nbformat": 4,
 "nbformat_minor": 2
}
