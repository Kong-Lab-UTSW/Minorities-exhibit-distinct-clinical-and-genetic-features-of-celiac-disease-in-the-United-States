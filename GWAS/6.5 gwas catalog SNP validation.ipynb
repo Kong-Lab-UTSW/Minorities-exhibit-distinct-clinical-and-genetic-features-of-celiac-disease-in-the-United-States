{
 "cells": [
  {
   "cell_type": "code",
   "execution_count": null,
   "metadata": {},
   "outputs": [],
   "source": [
    "import pandas as pd\n",
    "import os\n",
    "bucket = os.getenv('WORKSPACE_BUCKET')"
   ]
  },
  {
   "cell_type": "code",
   "execution_count": null,
   "metadata": {},
   "outputs": [],
   "source": [
    "import hail as hl\n",
    "from hail.plot import show\n",
    "from bokeh.plotting import output_file, save\n",
    "import bokeh.io\n",
    "from bokeh.io import *\n",
    "from bokeh.resources import INLINE\n",
    "bokeh.io.output_notebook(INLINE) \n",
    "%matplotlib inline\n",
    "import json\n",
    "import numpy as np\n",
    "import re\n",
    "from datetime import datetime\n",
    "import os"
   ]
  },
  {
   "cell_type": "code",
   "execution_count": null,
   "metadata": {},
   "outputs": [],
   "source": [
    "hl.init(default_reference='GRCh38', idempotent=True)\n"
   ]
  },
  {
   "cell_type": "code",
   "execution_count": null,
   "metadata": {},
   "outputs": [],
   "source": [
    "#218 SNPs from catalog\n",
    "!gsutil cp $WORKSPACE_BUCKET/data/gwas_v4/gwas-association-downloaded_2024-01-10-EFO_0001060.tsv .\n",
    "gwas_meta = pd.read_csv('gwas-association-downloaded_2024-01-10-EFO_0001060.tsv',sep='\\t')\n",
    "#find unique SNPs\n",
    "gwas_meta=gwas_meta[~pd.isna(gwas['CHR_POS'])].drop_duplicates(['CHR_ID','CHR_POS'])"
   ]
  },
  {
   "cell_type": "code",
   "execution_count": null,
   "metadata": {},
   "outputs": [],
   "source": [
    "#annotate locus for merging later\n",
    "gwas_meta['locus']='chr'+gwas_meta['CHR_ID']+':'+(gwas_meta['CHR_POS']).astype(str)"
   ]
  },
  {
   "cell_type": "code",
   "execution_count": null,
   "metadata": {},
   "outputs": [],
   "source": [
    "#filtered gwas catalog snps from previous data\n",
    "filtered=gwas_meta[~pd.isna(gwas_meta['SNPS'])].drop_duplicates(['locus'])\n",
    "\n",
    "filtered.to_csv(f'{bucket}/data/gwas_v4/previous_snps_reoccurring.tsv',sep='\\t',index=False)"
   ]
  },
  {
   "cell_type": "code",
   "execution_count": null,
   "metadata": {},
   "outputs": [],
   "source": [
    "filtered=pd.read_csv(f'{bucket}/data/gwas_v4/previous_snps_reoccurring.tsv',sep='\\t')"
   ]
  },
  {
   "cell_type": "code",
   "execution_count": null,
   "metadata": {},
   "outputs": [],
   "source": [
    "#read vds file\n",
    "vds_path = os.getenv('WGS_VDS_PATH')\n",
    "vds = hl.vds.read_vds(vds_path)"
   ]
  },
  {
   "cell_type": "code",
   "execution_count": null,
   "metadata": {},
   "outputs": [],
   "source": [
    "#filter intervals to make processing more efficient\n",
    "loci='chr'+filtered['CHR'].astype(str)+':'+(filtered['BP']-2).astype(str)+'-'+(filtered['BP']+2).astype(str)\n",
    "\n",
    "meta= hl.vds.filter_intervals(\n",
    "    vds,\n",
    "    [hl.parse_locus_interval(x, reference_genome='GRCh38')\n",
    "     for x in loci])"
   ]
  },
  {
   "cell_type": "code",
   "execution_count": null,
   "metadata": {},
   "outputs": [],
   "source": [
    "meta = hl.vds.split_multi(meta)"
   ]
  },
  {
   "cell_type": "code",
   "execution_count": null,
   "metadata": {},
   "outputs": [],
   "source": [
    "#write to mt\n",
    "meta_mt=hl.vds.to_dense_mt(meta)"
   ]
  },
  {
   "cell_type": "code",
   "execution_count": null,
   "metadata": {},
   "outputs": [],
   "source": [
    "#import phenotypes to label CeD and non-CeD\n",
    "pheno = hl.import_table(f'{bucket}/data/gwas_v4/pheno_hail_final.tsv', key = \"person_id\",  impute=True,types={'person_id':hl.tstr})\n"
   ]
  },
  {
   "cell_type": "code",
   "execution_count": null,
   "metadata": {},
   "outputs": [],
   "source": [
    "#annotate phenotype, with labels\n",
    "meta_vars=meta_mt.semi_join_cols(pheno)\n",
    "meta_vars=meta_vars.annotate_cols(pheno=pheno[meta_vars.s])"
   ]
  },
  {
   "cell_type": "code",
   "execution_count": null,
   "metadata": {},
   "outputs": [],
   "source": [
    "#annotate counts by condition for meta_analysis\n",
    "meta_vars=meta_vars.annotate_rows(\n",
    "    wild_type_count_ced = hl.agg.count_where((meta_vars.GT.is_hom_ref()) & (meta_vars.pheno.label == 1)),\n",
    "    heterozygous_count_ced = hl.agg.count_where((meta_vars.GT.is_het()) & (meta_vars.pheno.label == 1)),\n",
    "    homozygous_count_ced = hl.agg.count_where((meta_vars.GT.is_hom_var()) & (meta_vars.pheno.label == 1)),\n",
    "    wild_type_count_control = hl.agg.count_where((meta_vars.GT.is_hom_ref()) & (meta_vars.pheno.label == 0)),\n",
    "    heterozygous_count_control = hl.agg.count_where((meta_vars.GT.is_het()) & (meta_vars.pheno.label == 0)),\n",
    "    homozygous_count_control = hl.agg.count_where((meta_vars.GT.is_hom_var()) & (meta_vars.pheno.label == 0))\n",
    "    \n",
    ")\n",
    "meta_vars.describe()"
   ]
  },
  {
   "cell_type": "code",
   "execution_count": null,
   "metadata": {},
   "outputs": [],
   "source": [
    "#write variants to file\n",
    "meta_vars.select_rows(meta_vars.wild_type_count_ced,meta_vars.heterozygous_count_ced,meta_vars.homozygous_count_ced,meta_vars.wild_type_count_control,meta_vars.heterozygous_count_control,meta_vars.homozygous_count_control).rows().export(f'{bucket}/data/gwas_v4/gwas_v4_genotypes_10804_samples.tsv')"
   ]
  },
  {
   "cell_type": "code",
   "execution_count": null,
   "metadata": {},
   "outputs": [],
   "source": [
    "previous=pd.read_csv(f'{bucket}/data/gwas_v4/gwas_v4_genotypes_10804_samples.tsv',sep='\\t')"
   ]
  },
  {
   "cell_type": "code",
   "execution_count": null,
   "metadata": {},
   "outputs": [],
   "source": [
    "#merge gwas results with gwas catalog SNPs\n",
    "table=pd.read_csv(f'{bucket}/data/gwas_v4/gwas_vars.tsv',sep='\\t')\n",
    "filtered.rename({'alleles_x':'alleles'},axis=1,inplace=True)\n",
    "\n",
    "filtered['alleles']=filtered['alleles'].str.replace(\"'\",'\"').str.replace(', ',',')\n",
    "\n",
    "filt2=pd.merge(table,filtered,on='locus'])"
   ]
  },
  {
   "cell_type": "code",
   "execution_count": null,
   "metadata": {},
   "outputs": [],
   "source": [
    "#clean QC fields for clarity\n",
    "import re\n",
    "qcdf=filt2['variant_qc'].str.split(',',expand=True)\n",
    "cols={}\n",
    "for i in qcdf.columns:   \n",
    "    title=re.findall(r'\"[a-zA-Z_]+\"',qcdf.loc[1,i])\n",
    "    if len(title)>0:\n",
    "        cols[i]=title[0].replace('\"','')\n",
    "    if len(title)>1:\n",
    "        cols[i]=title[1].replace('\"','')\n",
    "\n",
    "qcdf.rename(cols,axis=1,inplace=True)\n",
    "qcdf.rename({'mean':'gq mean', 'stdev':'gq stdev', 'min':'gq min', 'max':'gq max','AC': 'AC_ref', 'AF': 'AF_ref', 'homozygote_count':\n",
    "       'homozygote_count_ref',5:'AC_alt',7:'AF_alt',10:'homozygote_count_alt'},axis=1,inplace=True)\n",
    "for i in qcdf.columns:\n",
    "    qcdf[i]=qcdf[i].str.replace('\"[a-zA-Z_]+\"','', regex=True)\n",
    "    qcdf[i]=qcdf[i].str.replace('[\\[\\]{}:]','', regex=True)\n",
    "    qcdf[i]=qcdf[i].astype(float)\n",
    "qcdf.columns"
   ]
  },
  {
   "cell_type": "code",
   "execution_count": null,
   "metadata": {},
   "outputs": [],
   "source": [
    "#merge qc with these\n",
    "filt_final=pd.concat([filt2,qcdf],axis=1)\n",
    "\n",
    "filt_final.to_csv('gwas_snps_from_previous.csv',index=False)\n",
    "!gsutil cp gwas_snps_from_previous.csv {bucket}/data/gwas_v4/"
   ]
  },
  {
   "cell_type": "code",
   "execution_count": null,
   "metadata": {},
   "outputs": [],
   "source": [
    "filt_final=pd.read_csv(f'{bucket}/data/gwas_v4/gwas_snps_from_previous.csv')"
   ]
  },
  {
   "cell_type": "code",
   "execution_count": null,
   "metadata": {},
   "outputs": [],
   "source": [
    "#merge new counts with everything\n",
    "filt_final.drop('alleles_y',axis=1,inplace=True)\n",
    "test=pd.merge(previous,filt_final,on=['locus'])\n"
   ]
  },
  {
   "cell_type": "code",
   "execution_count": null,
   "metadata": {},
   "outputs": [],
   "source": [
    "#final file, to calculate chi-sq\n",
    "test.to_csv('filtered_gt_counts.csv',index=False)"
   ]
  }
 ],
 "metadata": {
  "kernelspec": {
   "display_name": "Python 3 (ipykernel)",
   "language": "python",
   "name": "python3"
  },
  "language_info": {
   "codemirror_mode": {
    "name": "ipython",
    "version": 3
   },
   "file_extension": ".py",
   "mimetype": "text/x-python",
   "name": "python",
   "nbconvert_exporter": "python",
   "pygments_lexer": "ipython3",
   "version": "3.9.13"
  },
  "toc": {
   "base_numbering": 1,
   "nav_menu": {},
   "number_sections": true,
   "sideBar": true,
   "skip_h1_title": false,
   "title_cell": "Table of Contents",
   "title_sidebar": "Contents",
   "toc_cell": false,
   "toc_position": {},
   "toc_section_display": true,
   "toc_window_display": false
  }
 },
 "nbformat": 4,
 "nbformat_minor": 2
}
