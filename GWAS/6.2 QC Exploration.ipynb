{
 "cells": [
  {
   "cell_type": "code",
   "execution_count": null,
   "metadata": {},
   "outputs": [],
   "source": [
    "import os\n",
    "\n",
    "bucket = os.environ['WORKSPACE_BUCKET']\n",
    "\n",
    "\n",
    "from hail.plot import show\n",
    "from pprint import pprint\n",
    "from collections import Counter\n",
    "from bokeh.plotting import output_file, save\n",
    "import bokeh.io\n",
    "from bokeh.io import *\n",
    "from bokeh.resources import INLINE"
   ]
  },
  {
   "cell_type": "code",
   "execution_count": null,
   "metadata": {},
   "outputs": [],
   "source": [
    "bokeh.io.output_notebook(INLINE) \n",
    "%matplotlib inline"
   ]
  },
  {
   "cell_type": "code",
   "execution_count": null,
   "metadata": {},
   "outputs": [],
   "source": [
    "# Initialize Hail\n",
    "import hail as hl\n",
    "#import os\n",
    "#from hail.plot import show\n",
    "\n",
    "hl.init(default_reference='GRCh38')\n",
    "#hl.plot.output_notebook()"
   ]
  },
  {
   "cell_type": "code",
   "execution_count": null,
   "metadata": {
    "scrolled": false
   },
   "outputs": [],
   "source": [
    "pheno = hl.import_table(f'{bucket}/data/gwas_v4/pheno_hail_final.tsv', key = \"person_id\",  impute=True,types={'person_id':hl.tstr})"
   ]
  },
  {
   "cell_type": "code",
   "execution_count": null,
   "metadata": {},
   "outputs": [],
   "source": [
    "vds = hl.vds.read_vds(\"gs://fc-aou-datasets-controlled/v7/wgs/short_read/snpindel/vds/hail.vds\")"
   ]
  },
  {
   "cell_type": "code",
   "execution_count": null,
   "metadata": {},
   "outputs": [],
   "source": [
    "vds = hl.vds.filter_samples(vds, pheno, keep = True, remove_dead_alleles = True)"
   ]
  },
  {
   "cell_type": "code",
   "execution_count": null,
   "metadata": {},
   "outputs": [],
   "source": [
    "snp_table = vds.variant_data.filter_rows(hl.is_snp(vds.variant_data.alleles[0], vds.variant_data.alleles[1])).rows()"
   ]
  },
  {
   "cell_type": "code",
   "execution_count": null,
   "metadata": {},
   "outputs": [],
   "source": [
    "vds = hl.vds.filter_variants(vds,snp_table)"
   ]
  },
  {
   "cell_type": "code",
   "execution_count": null,
   "metadata": {},
   "outputs": [],
   "source": [
    "#this only tests chr12\n",
    "vds_cut = hl.vds.filter_chromosomes(vds, keep= [\"chr12\"])\n",
    "\n",
    "\"\"\"\n",
    "\n",
    "vds_cut = hl.vds.filter_intervals(\n",
    "    vds_cut,\n",
    "    [hl.parse_locus_interval(x,)\n",
    "     for x in ['chr12:29.01M-29.02M']])\"\"\""
   ]
  },
  {
   "cell_type": "code",
   "execution_count": null,
   "metadata": {},
   "outputs": [],
   "source": [
    "vds_cut = hl.vds.split_multi(vds_cut)"
   ]
  },
  {
   "cell_type": "code",
   "execution_count": null,
   "metadata": {},
   "outputs": [],
   "source": [
    "mt_full = hl.vds.to_dense_mt(vds_cut)\n",
    "\n",
    "\n",
    "mt_full = mt_full.filter_rows(hl.is_snp(mt_full.alleles[0], mt_full.alleles[1]))\n",
    "\n",
    "mt_full=mt_full.annotate_entries(DP=hl.sum(mt_full.AD))\n",
    "mt_full.describe()"
   ]
  },
  {
   "cell_type": "code",
   "execution_count": null,
   "metadata": {},
   "outputs": [],
   "source": [
    "mt_full = hl.variant_qc(mt_full)\n",
    "mt_full.describe()"
   ]
  },
  {
   "cell_type": "code",
   "execution_count": null,
   "metadata": {
    "scrolled": false
   },
   "outputs": [],
   "source": [
    "mt2.DP.summarize()"
   ]
  },
  {
   "cell_type": "code",
   "execution_count": null,
   "metadata": {},
   "outputs": [],
   "source": [
    "mt_full.variant_qc.summarize()"
   ]
  },
  {
   "cell_type": "code",
   "execution_count": null,
   "metadata": {},
   "outputs": [],
   "source": [
    "#call rate histogram\n",
    "p = hl.plot.histogram(mt_full.variant_qc.call_rate, range=(0,1), legend='chr 12 variant Call Rate', title='chr 12 call rate Histogram')\n",
    "show(p)"
   ]
  },
  {
   "cell_type": "code",
   "execution_count": null,
   "metadata": {},
   "outputs": [],
   "source": [
    "mt_full = hl.sample_qc(mt_full)"
   ]
  },
  {
   "cell_type": "code",
   "execution_count": null,
   "metadata": {},
   "outputs": [],
   "source": [
    "mt_full.sample_qc.summarize()"
   ]
  },
  {
   "cell_type": "code",
   "execution_count": null,
   "metadata": {},
   "outputs": [],
   "source": [
    "#DP histogram\n",
    "# Aggregate values greater than 100 into one bin\n",
    "agg_value_counts =mt_full.aggregate_entries(hl.agg.hist(mt_full.DP, 0,100,10))"
   ]
  },
  {
   "cell_type": "code",
   "execution_count": null,
   "metadata": {},
   "outputs": [],
   "source": [
    "counts_below_100 = agg_value_counts.bin_freq\n",
    "count_above_100 = agg_value_counts.n_larger\n",
    "counts = counts_below_100 + [count_above_100]"
   ]
  },
  {
   "cell_type": "code",
   "execution_count": null,
   "metadata": {},
   "outputs": [],
   "source": [
    "# Plot the histogram\n",
    "plt.figure(figsize=(10, 6))\n",
    "plt.bar(agg_value_counts.bin_edges, counts, width=10, align='edge')\n",
    "plt.xlabel('DP')\n",
    "plt.ylabel('Frequency')\n",
    "plt.ticklabel_format(style='plain', axis='y')\n",
    "plt.title('chr12 DP histogram')\n",
    "plt.show()"
   ]
  },
  {
   "cell_type": "code",
   "execution_count": null,
   "metadata": {},
   "outputs": [],
   "source": [
    "#sample call rate histogram\n",
    "p = hl.plot.histogram(mt_test.sample_qc.call_rate, range=(0.99,1), legend='chr 12 Call Rate', title='chr 12 call rate Histogram')\n",
    "show(p)"
   ]
  },
  {
   "cell_type": "code",
   "execution_count": null,
   "metadata": {},
   "outputs": [],
   "source": [
    "#GQ histogram\n",
    "p = hl.plot.histogram(mt_test.sample_qc.gq_stats.mean, bins=20, range=(46,48), legend='chr12 Mean Sample GQ',title='chr12 mean gq')\n",
    "show(p)"
   ]
  },
  {
   "cell_type": "code",
   "execution_count": null,
   "metadata": {},
   "outputs": [],
   "source": [
    "#DP vs call rate\n",
    "p = hl.plot.scatter(mt_test.sample_qc.dp_stats.mean, mt_test.sample_qc.call_rate, xlabel='Mean DP', ylabel='Call Rate',title='chr12 dp vs call_rate')\n",
    "show(p)"
   ]
  }
 ],
 "metadata": {
  "kernelspec": {
   "display_name": "Python 3 (ipykernel)",
   "language": "python",
   "name": "python3"
  },
  "language_info": {
   "codemirror_mode": {
    "name": "ipython",
    "version": 3
   },
   "file_extension": ".py",
   "mimetype": "text/x-python",
   "name": "python",
   "nbconvert_exporter": "python",
   "pygments_lexer": "ipython3",
   "version": "3.9.13"
  },
  "toc": {
   "base_numbering": 1,
   "nav_menu": {},
   "number_sections": true,
   "sideBar": true,
   "skip_h1_title": false,
   "title_cell": "Table of Contents",
   "title_sidebar": "Contents",
   "toc_cell": false,
   "toc_position": {},
   "toc_section_display": true,
   "toc_window_display": false
  }
 },
 "nbformat": 4,
 "nbformat_minor": 2
}
