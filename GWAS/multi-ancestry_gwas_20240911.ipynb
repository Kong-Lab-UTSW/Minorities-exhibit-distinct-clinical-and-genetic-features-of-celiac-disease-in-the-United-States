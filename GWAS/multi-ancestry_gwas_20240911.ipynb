{
 "cells": [
  {
   "cell_type": "code",
   "execution_count": null,
   "metadata": {},
   "outputs": [],
   "source": [
    "import os\n",
    "\n",
    "bucket = os.environ['WORKSPACE_BUCKET']\n",
    "\n",
    "\n",
    "#from hail.plot import show\n",
    "from pprint import pprint\n",
    "from collections import Counter\n",
    "from bokeh.plotting import output_file, save\n",
    "import bokeh.io\n",
    "from bokeh.io import *\n",
    "from bokeh.resources import INLINE"
   ]
  },
  {
   "cell_type": "code",
   "execution_count": null,
   "metadata": {},
   "outputs": [],
   "source": [
    "bokeh.io.output_notebook(INLINE) \n",
    "%matplotlib inline"
   ]
  },
  {
   "cell_type": "code",
   "execution_count": null,
   "metadata": {},
   "outputs": [],
   "source": [
    "# Initialize Hail\n",
    "import hail as hl\n",
    "#import os\n",
    "#from hail.plot import show\n",
    "\n",
    "hl.init(default_reference='GRCh38')\n",
    "#hl.plot.output_notebook()"
   ]
  },
  {
   "cell_type": "code",
   "execution_count": null,
   "metadata": {
    "scrolled": false
   },
   "outputs": [],
   "source": [
    "pheno = hl.import_table(f'{bucket}/data/gwas_v4/pheno_hail_final.tsv', key = \"person_id\",  impute=True,types={'person_id':hl.tstr})"
   ]
  },
  {
   "cell_type": "code",
   "execution_count": null,
   "metadata": {},
   "outputs": [],
   "source": [
    "# read ancestry file using Hail\n",
    "ancestry_pred = hl.import_table(f\"{bucket}/data/ancestry_preds.tsv\",\n",
    "                               key=\"research_id\", \n",
    "                               impute=True, \n",
    "                               types={\"research_id\":\"tstr\",\"pca_features\":hl.tarray(hl.tfloat)})"
   ]
  },
  {
   "cell_type": "code",
   "execution_count": null,
   "metadata": {},
   "outputs": [],
   "source": [
    "pheno=pheno.annotate(ancestry_pred=ancestry_pred[pheno.person_id])"
   ]
  },
  {
   "cell_type": "code",
   "execution_count": null,
   "metadata": {},
   "outputs": [],
   "source": [
    "mt4=hl.read_matrix_table(f'{bucket}/data/gwas_v4/gwas_filtered.mt')\n",
    "mt4.count()"
   ]
  },
  {
   "cell_type": "code",
   "execution_count": null,
   "metadata": {},
   "outputs": [],
   "source": [
    "mt4 = mt4.annotate_cols(pheno = pheno[mt4.s])"
   ]
  },
  {
   "cell_type": "code",
   "execution_count": null,
   "metadata": {},
   "outputs": [],
   "source": [
    "#modify this cell for each ancestry\n",
    "anc='afr'"
   ]
  },
  {
   "cell_type": "code",
   "execution_count": null,
   "metadata": {},
   "outputs": [],
   "source": [
    "mt4 = mt4.filter_cols(mt4.pheno.ancestry_pred.ancestry_pred==anc)"
   ]
  },
  {
   "cell_type": "code",
   "execution_count": null,
   "metadata": {
    "scrolled": false
   },
   "outputs": [],
   "source": [
    "covariates = [1.0, mt4.pheno.age, mt4.pheno.PC1, mt4.pheno.PC2, mt4.pheno.PC3, mt4.pheno.is_female]\n"
   ]
  },
  {
   "cell_type": "code",
   "execution_count": null,
   "metadata": {},
   "outputs": [],
   "source": [
    "gwas = hl.logistic_regression_rows(y=mt4.pheno.label,\n",
    "                                   test='wald',\n",
    "                                 x=mt4.GT.n_alt_alleles(),\n",
    "                                 covariates=covariates)\n",
    "gwas.describe()"
   ]
  },
  {
   "cell_type": "code",
   "execution_count": null,
   "metadata": {},
   "outputs": [],
   "source": [
    "gwas.export(f'{bucket}/data/multi_ancestry/gwas_{anc}.tsv')"
   ]
  },
  {
   "cell_type": "code",
   "execution_count": null,
   "metadata": {},
   "outputs": [],
   "source": []
  }
 ],
 "metadata": {
  "kernelspec": {
   "display_name": "Python 3",
   "language": "python",
   "name": "python3"
  },
  "language_info": {
   "codemirror_mode": {
    "name": "ipython",
    "version": 3
   },
   "file_extension": ".py",
   "mimetype": "text/x-python",
   "name": "python",
   "nbconvert_exporter": "python",
   "pygments_lexer": "ipython3",
   "version": "3.10.12"
  },
  "toc": {
   "base_numbering": 1,
   "nav_menu": {},
   "number_sections": true,
   "sideBar": true,
   "skip_h1_title": false,
   "title_cell": "Table of Contents",
   "title_sidebar": "Contents",
   "toc_cell": false,
   "toc_position": {},
   "toc_section_display": true,
   "toc_window_display": false
  }
 },
 "nbformat": 4,
 "nbformat_minor": 2
}
