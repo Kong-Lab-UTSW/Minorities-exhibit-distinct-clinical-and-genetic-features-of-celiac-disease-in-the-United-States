{
 "cells": [
  {
   "cell_type": "code",
   "execution_count": null,
   "metadata": {},
   "outputs": [],
   "source": [
    "## Package Import\n",
    "import sys\n",
    "import os \n",
    "import numpy as np\n",
    "import pandas as pd\n",
    "from datetime import datetime\n",
    "import re\n",
    "import matplotlib.pyplot as plt"
   ]
  },
  {
   "cell_type": "code",
   "execution_count": null,
   "metadata": {},
   "outputs": [],
   "source": [
    "!gsutil cp $WORKSPACE_BUCKET/data/gwas_v2/phenotypes/celiac_demo_v2.tsv ."
   ]
  },
  {
   "cell_type": "code",
   "execution_count": null,
   "metadata": {},
   "outputs": [],
   "source": [
    "samples = pd.read_csv('hla_types_with_DQ.csv')"
   ]
  },
  {
   "cell_type": "code",
   "execution_count": null,
   "metadata": {},
   "outputs": [],
   "source": [
    "#we first calculated HLA-types 50 random samples\n",
    "1st_ran = samples.sample(50)"
   ]
  },
  {
   "cell_type": "code",
   "execution_count": null,
   "metadata": {},
   "outputs": [],
   "source": [
    "#then, gather those with no risk allele and celiac disease \n",
    "ced = samples[(samples['genotype']=='X/X')&(samples['condition']=='celiac')].reset_index(drop=True)\n",
    "ced.to_csv('hladq_XX_and_CeD.csv',index=False)"
   ]
  },
  {
   "cell_type": "code",
   "execution_count": null,
   "metadata": {},
   "outputs": [],
   "source": [
    "#also 200 with dq2/dq8,half patient half control\n",
    "risk_test=samples[samples['genotype'].str.contains('DQ2|DQ8')&(samples['condition']=='control')&~samples['sample.id'].isin(hla_types['person_id'])].sample(100)\n",
    "non_risk_test=samples[~samples['genotype'].str.contains('DQ2|DQ8')&(samples['condition']=='control')&~samples['sample.id'].isin(hla_types['person_id'])].sample(100)\n",
    "test_2 = pd.concat([risk_test,non_risk_test])"
   ]
  },
  {
   "cell_type": "code",
   "execution_count": null,
   "metadata": {},
   "outputs": [],
   "source": [
    "total=pd.concat([1st_ran,ced,test_2])"
   ]
  },
  {
   "cell_type": "code",
   "execution_count": null,
   "metadata": {},
   "outputs": [],
   "source": [
    "#cram manifest files\n",
    "!gsutil -u $GOOGLE_PROJECT cp gs://fc-aou-datasets-controlled/v7/wgs/cram/manifest.csv .\n",
    "cram_manifest=pd.read_csv('manifest.csv')\n",
    "cram_manifest_v7 =cram_manifest[cram_manifest['person_id'].astype(str).isin(total[\"person_id\"])]"
   ]
  },
  {
   "cell_type": "code",
   "execution_count": null,
   "metadata": {},
   "outputs": [],
   "source": [
    "cram_manifest_v7.reset_index(drop=True,inplace=True)\n",
    "\n",
    "cram_manifest_v7['cram_uri'].to_csv('hla_to_type.txt',index=False, header=None)\n",
    "\n",
    "#for reproducibility, we have a list in our workspace bucket containing the exact samples we have typed in our workspace bucket; these will be called in the next notebook"
   ]
  }
 ],
 "metadata": {
  "kernelspec": {
   "display_name": "Python 3 (ipykernel)",
   "language": "python",
   "name": "python3"
  },
  "language_info": {
   "codemirror_mode": {
    "name": "ipython",
    "version": 3
   },
   "file_extension": ".py",
   "mimetype": "text/x-python",
   "name": "python",
   "nbconvert_exporter": "python",
   "pygments_lexer": "ipython3",
   "version": "3.9.13"
  },
  "toc": {
   "base_numbering": 1,
   "nav_menu": {},
   "number_sections": true,
   "sideBar": true,
   "skip_h1_title": false,
   "title_cell": "Table of Contents",
   "title_sidebar": "Contents",
   "toc_cell": false,
   "toc_position": {},
   "toc_section_display": true,
   "toc_window_display": false
  }
 },
 "nbformat": 4,
 "nbformat_minor": 2
}
