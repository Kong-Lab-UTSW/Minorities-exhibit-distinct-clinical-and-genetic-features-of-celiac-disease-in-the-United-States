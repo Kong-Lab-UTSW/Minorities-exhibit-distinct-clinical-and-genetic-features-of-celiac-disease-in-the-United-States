{
 "cells": [
  {
   "cell_type": "code",
   "execution_count": null,
   "id": "3988e07f",
   "metadata": {
    "scrolled": true
   },
   "outputs": [],
   "source": [
    "import pandas as pd\n",
    "import numpy as np\n",
    "import statsmodels.api as sm\n",
    "from sklearn.model_selection import train_test_split"
   ]
  },
  {
   "cell_type": "code",
   "execution_count": null,
   "id": "9b5cdc20",
   "metadata": {},
   "outputs": [],
   "source": [
    "import matplotlib.pyplot as plt"
   ]
  },
  {
   "cell_type": "code",
   "execution_count": null,
   "id": "da219132",
   "metadata": {},
   "outputs": [],
   "source": [
    "#hla types for all samples\n",
    "file_path = \"hla_DQ_genotypes.csv\""
   ]
  },
  {
   "cell_type": "code",
   "execution_count": null,
   "id": "0ddfc845",
   "metadata": {},
   "outputs": [],
   "source": [
    "#updated hla-DQ types\n",
    "file_path2 = \"20240628_HLA_hk.csv\""
   ]
  },
  {
   "cell_type": "code",
   "execution_count": null,
   "id": "1e660fb2",
   "metadata": {},
   "outputs": [],
   "source": [
    "data= pd.read_csv(file_path)"
   ]
  },
  {
   "cell_type": "code",
   "execution_count": null,
   "id": "1cf56bd0",
   "metadata": {},
   "outputs": [],
   "source": [
    "DQ_data= pd.read_csv(file_path2)"
   ]
  },
  {
   "cell_type": "code",
   "execution_count": null,
   "id": "96219fff",
   "metadata": {},
   "outputs": [],
   "source": [
    "allele_counts = {}"
   ]
  },
  {
   "cell_type": "code",
   "execution_count": null,
   "id": "f06398b3",
   "metadata": {},
   "outputs": [],
   "source": [
    "#calculate the frequency of HLA types for each gene for cases and controls\n",
    "def gene_freq(gene):\n",
    "    gene_df=pd.concat([data[['Celiac',f'{gene}.1']].rename({f'{gene}.1':gene},axis=1),data[['Celiac',f'{gene}.2']].rename({f'{gene}.2':gene},axis=1)])\n",
    "    if gene=='DQA1':\n",
    "        gene_df=pd.concat([DQ_data[['CeD','hibag.DQA1.1 update']].rename({'hibag.DQA1.1 update':gene},axis=1),DQ_data[['CeD','hibag.DQA1.2 update']].rename({'hibag.DQA1.2 update':gene},axis=1)])\n",
    "        gene_df.rename({'CeD':'Celiac'},axis=1,inplace=True)\n",
    "    print(len(gene_df))\n",
    "    gene_df2=gene_df.value_counts()\n",
    "    print(gene_df2)\n",
    "    count=pd.DataFrame(gene_df2)\n",
    "    count.reset_index(inplace=True)\n",
    "    final_ct=count.pivot(gene,'Celiac',0).fillna(0)\n",
    "    final_ct['ctrl %']=final_ct[1]/9457/2\n",
    "    final_ct['CeD %']=final_ct[2]/1930/2\n",
    "    final_ct['delta']=final_ct['CeD %']-final_ct['ctrl %']\n",
    "    final_ct.sort_values('delta',ascending=False,inplace=True)\n",
    "    final_ct['gene']=gene\n",
    "    return(final_ct)\n"
   ]
  },
  {
   "cell_type": "code",
   "execution_count": null,
   "id": "3cd259e1",
   "metadata": {},
   "outputs": [],
   "source": [
    "genes = ['A','B','C','DPB1','DQA1','DQB1','DRB1']\n",
    "gene_dfs=[]\n",
    "\n",
    "for gene in genes:\n",
    "    df = gene_freq(gene)\n",
    "    gene_dfs.append(df)\n",
    "    \n",
    "final_gene_df=pd.concat(gene_dfs)\n",
    "final_gene_df"
   ]
  },
  {
   "cell_type": "code",
   "execution_count": null,
   "id": "b300a6c4",
   "metadata": {},
   "outputs": [],
   "source": [
    "#only select those which are more prevalent in CeD for analysis\n",
    "enrich_thresh=0\n",
    "enriched=final_gene_df[final_gene_df['delta']>enrich_thresh]\n",
    "other=final_gene_df[final_gene_df['delta']<=enrich_thresh]\n",
    "#84 with positive delta"
   ]
  },
  {
   "cell_type": "code",
   "execution_count": null,
   "id": "272a3ec0",
   "metadata": {},
   "outputs": [],
   "source": [
    "#chi square and OR; use those with genotypes not enriched as unexposed group\n",
    "alt_counts=other.groupby('gene').agg('sum')\n",
    "alt_counts['delta']=alt_counts['CeD %']-alt_counts['ctrl %']"
   ]
  },
  {
   "cell_type": "code",
   "execution_count": null,
   "id": "239b4449",
   "metadata": {},
   "outputs": [],
   "source": [
    "alt_counts.to_csv('alternative_counts_per_gene_chisq.csv')"
   ]
  },
  {
   "cell_type": "code",
   "execution_count": null,
   "id": "feb9b2b7",
   "metadata": {},
   "outputs": [],
   "source": [
    "enriched.index=enriched['gene']+'*'+enriched.index"
   ]
  },
  {
   "cell_type": "code",
   "execution_count": null,
   "id": "492fd4c9",
   "metadata": {
    "scrolled": true
   },
   "outputs": [],
   "source": [
    "from scipy.stats import chi2_contingency\n",
    "import statsmodels.stats.multitest as st\n",
    "#chi square and odds ratio\n",
    "for i,row in enriched.iterrows():\n",
    "    obs=np.array([[row[1],row[2]],[alt_counts.loc[row['gene'],1],alt_counts.loc[row['gene'],2]]])\n",
    "    res=chi2_contingency(obs)\n",
    "    enriched.loc[i,'X^2']=res.statistic\n",
    "    enriched.loc[i,'pvalue']=res.pvalue\n",
    "    enriched.loc[i,'OR univar']=row[2]*alt_counts.loc[row['gene'],1]/(row[1]*alt_counts.loc[row['gene'],2])\n",
    "enriched.sort_values('OR univar')"
   ]
  },
  {
   "cell_type": "code",
   "execution_count": null,
   "id": "787cae40",
   "metadata": {},
   "outputs": [],
   "source": [
    "#FDR correction\n",
    "def FDR(sample, pval):\n",
    "    sample.sort_values(by=pval, inplace = True)\n",
    "    samp = sample.dropna(subset=[pval])\n",
    "    pvals = samp[pval]\n",
    "    padj = st.fdrcorrection(pvals, is_sorted=True)\n",
    "    padded_col = padj[1]\n",
    "    sample['Padj'] = padded_col\n",
    "\n",
    "FDR(enriched,'pvalue')\n"
   ]
  },
  {
   "cell_type": "code",
   "execution_count": null,
   "id": "b480a76c",
   "metadata": {},
   "outputs": [],
   "source": [
    "enriched.to_csv(\"enriched_hla.csv\")"
   ]
  },
  {
   "cell_type": "code",
   "execution_count": null,
   "id": "238425b0",
   "metadata": {},
   "outputs": [],
   "source": [
    "#use 0.005 as significance cutoff, we will only run logistic regression for those with p<0.005\n",
    "pval_thresh=0.005\n",
    "sig_enriched=enriched[enriched['Padj']<pval_thresh]\n",
    "#18 hla types"
   ]
  },
  {
   "cell_type": "code",
   "execution_count": null,
   "id": "28231454",
   "metadata": {},
   "outputs": [],
   "source": [
    "risk_alleles = sig_enriched.index"
   ]
  },
  {
   "cell_type": "code",
   "execution_count": null,
   "id": "6937e170",
   "metadata": {},
   "outputs": [],
   "source": [
    "for risk_allele in risk_alleles:\n",
    "    # Split the risk allele into gene and allele\n",
    "    gene, allele = risk_allele.split('*')\n",
    "    \n",
    "    # Count occurrences in both columns for the gene\n",
    "    allele_count = (data[f'{gene}.1'] == allele).sum() + (data[f'{gene}.2'] == allele).sum()\n",
    "    if gene=='DQA1':\n",
    "        allele_count = (DQ_data[f'hibag.{gene}.1 update'] == allele).sum() + (DQ_data[f'hibag.{gene}.2 update'] == allele).sum()\n",
    "    # Store the count in the dictionary\n",
    "    allele_counts[risk_allele] = allele_count"
   ]
  },
  {
   "cell_type": "code",
   "execution_count": null,
   "id": "70e55537",
   "metadata": {},
   "outputs": [],
   "source": [
    "allele_counts_by_status = {}"
   ]
  },
  {
   "cell_type": "code",
   "execution_count": null,
   "id": "6ed7a71c",
   "metadata": {},
   "outputs": [],
   "source": [
    "allele_counts_df = pd.DataFrame(index=risk_alleles)"
   ]
  },
  {
   "cell_type": "code",
   "execution_count": null,
   "id": "6ee43e1c",
   "metadata": {},
   "outputs": [],
   "source": [
    "celiac_statuses = data['Celiac'].unique()"
   ]
  },
  {
   "cell_type": "code",
   "execution_count": null,
   "id": "d4195771",
   "metadata": {},
   "outputs": [],
   "source": [
    "DQ_data.rename({'person_id':'sample.id'},axis=1,inplace=True)"
   ]
  },
  {
   "cell_type": "code",
   "execution_count": null,
   "id": "1af44018",
   "metadata": {},
   "outputs": [],
   "source": [
    "data=pd.merge(data,DQ_data[['sample.id','hibag.DQA1.1 update','hibag.DQA1.2 update']],on='sample.id')\n",
    "data.drop(['DQA1.1','DQA1.2'],axis=1,inplace=True)\n",
    "data.rename({'hibag.DQA1.1 update':'DQA1.1','hibag.DQA1.2 update':'DQA1.2'},axis=1,inplace=True)"
   ]
  },
  {
   "cell_type": "code",
   "execution_count": null,
   "id": "6e95efc7",
   "metadata": {},
   "outputs": [],
   "source": [
    "for status in celiac_statuses:\n",
    "    # Filter data for the current Celiac status\n",
    "    data_status = data[data['Celiac'] == status]\n",
    "    \n",
    "    # Initialize a list to store counts for the current status\n",
    "    counts_for_status = []\n",
    "    \n",
    "    # Iterate over each risk allele\n",
    "    for risk_allele in risk_alleles:\n",
    "        # Split the risk allele into gene and allele\n",
    "        gene, allele = risk_allele.split('*')\n",
    "        # Count occurrences in both columns for the gene\n",
    "        allele_count = (data_status[f'{gene}.1'] == allele).sum() + (data_status[f'{gene}.2'] == allele).sum()\n",
    "        # Append the count to the list\n",
    "        counts_for_status.append(allele_count)\n",
    "    \n",
    "    # Add the counts to the DataFrame under a column named after the current status\n",
    "    allele_counts_df[status] = counts_for_status"
   ]
  },
  {
   "cell_type": "code",
   "execution_count": null,
   "id": "0127743f",
   "metadata": {},
   "outputs": [],
   "source": [
    "allele_counts_df.to_csv('allele_cts_20240705.csv')"
   ]
  },
  {
   "cell_type": "code",
   "execution_count": null,
   "id": "df8264ab",
   "metadata": {},
   "outputs": [],
   "source": [
    "risk_alleles = sig_enriched.index"
   ]
  },
  {
   "cell_type": "code",
   "execution_count": null,
   "id": "5600f560",
   "metadata": {},
   "outputs": [],
   "source": [
    "for risk_allele in risk_alleles:\n",
    "    gene, allele = risk_allele.split('*')\n",
    "    #Dominant model; at least one allele as a case\n",
    "    data[f'{risk_allele}_dummy'] = ((data[f'{gene}.1'] == allele) | (data[f'{gene}.2'] == allele)).astype(int)"
   ]
  },
  {
   "cell_type": "code",
   "execution_count": null,
   "id": "f722f9fe",
   "metadata": {},
   "outputs": [],
   "source": [
    "additional_covariates = ['age', 'sex'] + [f'PC{i}' for i in range(1, 16)]"
   ]
  },
  {
   "cell_type": "code",
   "execution_count": null,
   "id": "22f6e025",
   "metadata": {},
   "outputs": [],
   "source": [
    "#logistic regression; run all hlatypes as covariates with each other\n",
    "X = data[additional_covariates + [f'{allele}_dummy' for allele in risk_alleles]]"
   ]
  },
  {
   "cell_type": "code",
   "execution_count": null,
   "id": "2a94f59d",
   "metadata": {},
   "outputs": [],
   "source": [
    "X = sm.add_constant(X) "
   ]
  },
  {
   "cell_type": "code",
   "execution_count": null,
   "id": "34c72052",
   "metadata": {},
   "outputs": [],
   "source": [
    "y = data['Celiac'].map({1: 0, 2: 1}) "
   ]
  },
  {
   "cell_type": "code",
   "execution_count": null,
   "id": "d3996220",
   "metadata": {},
   "outputs": [],
   "source": [
    "model = sm.Logit(y, X).fit(method='bfgs',maxiter=1000)"
   ]
  },
  {
   "cell_type": "code",
   "execution_count": null,
   "id": "e8bd0fb8",
   "metadata": {},
   "outputs": [],
   "source": [
    "summary_str = model.summary().as_text()"
   ]
  },
  {
   "cell_type": "code",
   "execution_count": null,
   "id": "be319fa8",
   "metadata": {},
   "outputs": [],
   "source": [
    "output_path = 'logistic regression5.csv'"
   ]
  },
  {
   "cell_type": "code",
   "execution_count": null,
   "id": "e96f3813",
   "metadata": {},
   "outputs": [],
   "source": [
    "with open(output_path, 'w') as file:\n",
    "    file.write(summary_str)\n",
    "\n",
    "print(f\"Summary saved to {output_path}\")"
   ]
  },
  {
   "cell_type": "code",
   "execution_count": null,
   "id": "3ed3b6ba",
   "metadata": {},
   "outputs": [],
   "source": [
    "model.summary()"
   ]
  },
  {
   "cell_type": "code",
   "execution_count": null,
   "id": "406b7688",
   "metadata": {},
   "outputs": [],
   "source": [
    "X.columns"
   ]
  },
  {
   "cell_type": "code",
   "execution_count": null,
   "id": "69a9c2fe",
   "metadata": {},
   "outputs": [],
   "source": [
    "summary_table = model.summary2().tables[1]"
   ]
  },
  {
   "cell_type": "code",
   "execution_count": null,
   "id": "9ac103ab",
   "metadata": {},
   "outputs": [],
   "source": [
    "summary_table['P>|z|'] = pd.to_numeric(summary_table['P>|z|'], errors='coerce')\n",
    "summary_table['P>|z|'].apply(lambda x: '{:.3f}'.format(x) if pd.notnull(x) else x)\n",
    "print(summary_table.head())"
   ]
  },
  {
   "cell_type": "code",
   "execution_count": null,
   "id": "e61d4073",
   "metadata": {
    "scrolled": true
   },
   "outputs": [],
   "source": [
    "print(summary_table)"
   ]
  },
  {
   "cell_type": "code",
   "execution_count": null,
   "id": "fc1cb04c",
   "metadata": {},
   "outputs": [],
   "source": [
    "output_path = \"Regression_results_20240705.csv\"\n",
    "summary_table.to_csv(output_path, index=True)\n",
    "print(f\"summary_table saved to: {output_path}\")"
   ]
  },
  {
   "cell_type": "code",
   "execution_count": null,
   "id": "1b00e6ff",
   "metadata": {},
   "outputs": [],
   "source": [
    "#calculate adjusted OR from beta\n",
    "coefficients = model.params\n",
    "conf = model.conf_int()\n",
    "conf['OR'] = coefficients\n",
    "conf.columns = ['2.5%', '97.5%', 'OR']\n",
    "conf = np.exp(conf)\n",
    "conf = conf.round(3)\n",
    "conf['97.5%'] = conf['97.5%'].apply(lambda x: '{:.3f}'.format(x))"
   ]
  },
  {
   "cell_type": "code",
   "execution_count": null,
   "id": "ae180340",
   "metadata": {},
   "outputs": [],
   "source": [
    "conf.columns=['Log-OR 0.025','Log-OR 0.075','Log-OR']"
   ]
  },
  {
   "cell_type": "code",
   "execution_count": null,
   "id": "f6707467",
   "metadata": {},
   "outputs": [],
   "source": [
    "log_result=pd.concat([summary_table,conf],axis=1)"
   ]
  },
  {
   "cell_type": "code",
   "execution_count": null,
   "id": "c1725fae",
   "metadata": {},
   "outputs": [],
   "source": [
    "log_result.index=log_result.index.str.replace('_dummy','')\n",
    "log_result"
   ]
  },
  {
   "cell_type": "code",
   "execution_count": null,
   "id": "35bad083",
   "metadata": {},
   "outputs": [],
   "source": [
    "#final cleaning before saving file\n",
    "log_result_final=pd.concat([sig_enriched,log_result],axis=1)\n",
    "log_result_final.drop('gene',axis=1,inplace=True)\n",
    "log_result_final=log_result_final[~pd.isna(log_result_final[1])]\n",
    "log_result_final[['ctrl %','CeD %']]=log_result_final[['ctrl %','CeD %']]*100\n",
    "log_result_final.rename({1:'non-CeD',2:'CeD','ctrl %':'non-CeD %'},axis=1)\n",
    "log_result_final.sort_values('Log-OR',ascending=False,inplace=True)"
   ]
  },
  {
   "cell_type": "code",
   "execution_count": null,
   "id": "c221f0c7",
   "metadata": {},
   "outputs": [],
   "source": [
    "log_result_final.to_csv('logistic_result_20240705.csv')"
   ]
  },
  {
   "cell_type": "code",
   "execution_count": null,
   "id": "2d67efdb",
   "metadata": {},
   "outputs": [],
   "source": [
    "conf.to_csv(\"Regression_results_20240701_OR.csv\", index=True)"
   ]
  }
 ],
 "metadata": {
  "kernelspec": {
   "display_name": "Python 3 (ipykernel)",
   "language": "python",
   "name": "python3"
  },
  "language_info": {
   "codemirror_mode": {
    "name": "ipython",
    "version": 3
   },
   "file_extension": ".py",
   "mimetype": "text/x-python",
   "name": "python",
   "nbconvert_exporter": "python",
   "pygments_lexer": "ipython3",
   "version": "3.9.13"
  }
 },
 "nbformat": 4,
 "nbformat_minor": 5
}
