{
 "cells": [
  {
   "cell_type": "code",
   "execution_count": null,
   "metadata": {},
   "outputs": [],
   "source": [
    "import pandas as pd\n",
    "import os\n",
    "bucket =os.getenv('WORKSPACE_BUCKET')"
   ]
  },
  {
   "cell_type": "code",
   "execution_count": null,
   "metadata": {},
   "outputs": [],
   "source": [
    "#get sample file for plink filtering\n",
    "sam = pd.read_csv(f'{bucket}/data/gwas_v2/phenotypes/celiac_demo_v2.tsv',sep='\\t')\n",
    "sam['person_id'].to_csv('samples_v2.txt',header=None)"
   ]
  },
  {
   "cell_type": "code",
   "execution_count": null,
   "metadata": {},
   "outputs": [],
   "source": [
    "%%bash\n",
    "#plink files to use for imputation\n",
    "!gsutil cp gs://fc-aou-datasets-controlled/v7/wgs/short_read/snpindel/exome_v7.1/plink_bed/exome.chr6*\n",
    "!gsutil cp gs://fc-aou-datasets-controlled/v7/wgs/short_read/snpindel/acaf_threshold_v7.1/plink_bed/acaf_threshold.chr6*\n",
    "\n",
    "\n",
    "\n",
    "#need to get the genetic data from plink files, combine exome and acaf files\n",
    "plink --bfile exome.chr6 \\\n",
    "  --keep samples_v2.txt \\\n",
    "  --make-bed \\\n",
    "  --out chr6_filtered_ex \\\n",
    "\n",
    " plink  --bfile acaf_threshold.chr6 \\\n",
    "  --keep samples_v2.txt \\\n",
    "  --make-bed \\\n",
    "  --out chr6_filtered_acaf \\\n",
    "\n",
    "plink  --bfile chr6_filtered_acaf \\\n",
    "  --bmerge chr6_filtered_ex \\\n",
    "  --make-bed \\\n",
    "  --memory 60000 \\\n",
    "  --out chr6_total \\"
   ]
  },
  {
   "cell_type": "code",
   "execution_count": null,
   "metadata": {},
   "outputs": [],
   "source": [
    "from pyliftover import LiftOver\n",
    "#liftover for genes\n",
    "lo = LiftOver('hg19','hg38')\n",
    "for gene in ['A','B','C','DPB1','DQA1','DQB1','DRB1']:\n",
    "    hg19 = pd.read_csv(f'hg19_{gene}_pos.txt',header=None)\n",
    "    lifted=[lo.convert_coordinate('chr6', i, '-') for i in hg19[0]]\n",
    "    hg19['hg38']=[i[0][1] for i in lifted]\n",
    "    hg19['hg38'].to_csv(f'hg38_{gene}_pos.txt',header=None,index=False)"
   ]
  }
 ],
 "metadata": {
  "kernelspec": {
   "display_name": "Python 3 (ipykernel)",
   "language": "python",
   "name": "python3"
  },
  "language_info": {
   "codemirror_mode": {
    "name": "ipython",
    "version": 3
   },
   "file_extension": ".py",
   "mimetype": "text/x-python",
   "name": "python",
   "nbconvert_exporter": "python",
   "pygments_lexer": "ipython3",
   "version": "3.9.13"
  },
  "toc": {
   "base_numbering": 1,
   "nav_menu": {},
   "number_sections": true,
   "sideBar": true,
   "skip_h1_title": false,
   "title_cell": "Table of Contents",
   "title_sidebar": "Contents",
   "toc_cell": false,
   "toc_position": {},
   "toc_section_display": true,
   "toc_window_display": false
  }
 },
 "nbformat": 4,
 "nbformat_minor": 2
}
