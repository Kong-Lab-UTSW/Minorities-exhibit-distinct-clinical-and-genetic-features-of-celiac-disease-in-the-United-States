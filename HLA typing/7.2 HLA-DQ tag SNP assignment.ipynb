{
 "cells": [
  {
   "cell_type": "code",
   "execution_count": null,
   "metadata": {},
   "outputs": [],
   "source": [
    "import pandas as pd\n",
    "import os\n",
    "bucket = os.getenv('WORKSPACE_BUCKET')"
   ]
  },
  {
   "cell_type": "code",
   "execution_count": null,
   "metadata": {},
   "outputs": [],
   "source": [
    "!gsutil cp $WORKSPACE_BUCKET/data/hibag_hla/bed_input/chr6_total* ."
   ]
  },
  {
   "cell_type": "code",
   "execution_count": null,
   "metadata": {},
   "outputs": [],
   "source": [
    "%%writefile tag_snp.txt\n",
    "\n",
    "\n",
    "chr6:32445540:G:T\n",
    "chr6:32634437:G:A\n",
    "chr6:32638107:C:T\n",
    "chr6:32690302:T:C\n",
    "chr6:32691805:A:G\n",
    "chr6:32713706:T:C"
   ]
  },
  {
   "cell_type": "code",
   "execution_count": null,
   "metadata": {},
   "outputs": [],
   "source": [
    "%%bash\n",
    "## extract 6 tag SNPs to genotype table (ped) format\n",
    "plink \\\n",
    "  --bfile chr6_total \\\n",
    "  --extract tag_snp.txt \\\n",
    "  --recode \\\n",
    "  --out tag"
   ]
  },
  {
   "cell_type": "code",
   "execution_count": null,
   "metadata": {},
   "outputs": [],
   "source": [
    "#read in and format tag snp data\n",
    "data = pd.read_csv('tag.ped', sep='\\s', header=None)\n",
    "snps = pd.read_csv('tag.map', sep='\\t', header=None)\n",
    "snps['rs#']=['rs2395182','rs4639334','rs2187668','rs7775228','rs4713586','rs7454108']\n",
    "\n",
    "data.rename({1:'person_id'},axis=1,inplace=True)\n",
    "\n",
    "for i in range(6):\n",
    "    rs = snps.loc[i,'rs#']\n",
    "    data.rename(columns={2*i+6:f'{rs} A1'},inplace=True)\n",
    "    data.rename(columns={2*i+7:f'{rs} A2'},inplace=True)\n",
    "data"
   ]
  },
  {
   "cell_type": "code",
   "execution_count": null,
   "metadata": {},
   "outputs": [],
   "source": [
    "#based on known tag-SNP associations, search which DQ alleles per person\n",
    "data.loc[(data['rs2187668 A1']=='T')|(data['rs2187668 A2']=='T'), 'DQ2.5'] = 1\n",
    "data.loc[(data['rs2187668 A1']=='T')&(data['rs2187668 A2']=='T'), 'DQ2.5'] = 2\n",
    "data.loc[(data['rs4639334 A1']=='A')|(data['rs4639334 A2']=='A'), 'DQ7'] = 1\n",
    "data.loc[(data['rs4639334 A1']=='A')&(data['rs4639334 A2']=='A'), 'DQ7'] = 2\n",
    "data.loc[(data['rs7454108 A1']=='C')|(data['rs7454108 A2']=='C'), 'DQ8'] = 1\n",
    "data.loc[(data['rs7454108 A1']=='C')&(data['rs7454108 A2']=='C'), 'DQ8'] = 2\n",
    "data.loc[((data['rs2395182 A1']=='T')|(data['rs2395182 A2']=='T'))&((data['rs7775228 A1']=='C')|(data['rs7775228 A2']=='C'))&((data['rs4713586 A1']=='A')|(data['rs4713586 A2']=='A')), 'DQ2.2'] = 1\n",
    "data.loc[(data['rs2395182 A1']=='T')&(data['rs2395182 A2']=='T')&(data['rs7775228 A1']=='C')&(data['rs7775228 A2']=='C')&(data['rs4713586 A1']=='A')&(data['rs4713586 A2']=='A'), 'DQ2.2'] = 2\n",
    "data.loc[((data['rs2395182 A1']=='T')|(data['rs2395182 A2']=='T'))&((data['rs7775228 A1']=='C')|(data['rs7775228 A2']=='C'))&((data['rs4713586 A1']=='G')|(data['rs4713586 A2']=='G')), 'DQ4'] = 1\n",
    "data.loc[(data['rs2395182 A1']=='T')&(data['rs2395182 A2']=='T')&(data['rs7775228 A1']=='C')&(data['rs7775228 A2']=='C')&(data['rs4713586 A1']=='G')&(data['rs4713586 A2']=='G'), 'DQ4'] = 2\n",
    "\n",
    "\n",
    "data.fillna(0,inplace=True)"
   ]
  },
  {
   "cell_type": "code",
   "execution_count": null,
   "metadata": {},
   "outputs": [],
   "source": [
    "data.to_csv('tag_DQ_cts.csv')"
   ]
  },
  {
   "cell_type": "code",
   "execution_count": null,
   "metadata": {},
   "outputs": [],
   "source": [
    "#calculate # alleles to check\n",
    "data['total']=data[['DQ2.5',          'DQ7',      'DQ8',        'DQ2.2',]].sum(axis=1)\n",
    "data['total with DQ4']=data[['DQ2.5',          'DQ7',      'DQ8',        'DQ2.2','DQ4']].sum(axis=1)\n",
    "data=data[['person_id','DQ2.5',          'DQ7','DQ8',        'DQ2.2',          'DQ4','total','total with DQ4']]"
   ]
  },
  {
   "cell_type": "code",
   "execution_count": null,
   "metadata": {},
   "outputs": [],
   "source": [
    "#format for merging\n",
    "data.columns='tag '+ data.columns+ ' alleles'\n",
    "data.rename({'tag person_id alleles':'person_id','tag total with DQ4 alleles':'tag total alleles with DQ4'},axis=1,inplace=True)\n",
    "data.columns"
   ]
  },
  {
   "cell_type": "code",
   "execution_count": null,
   "metadata": {},
   "outputs": [],
   "source": [
    "#checkpoint\n",
    "data.to_csv('tag_snp.csv',index=False)"
   ]
  },
  {
   "cell_type": "code",
   "execution_count": null,
   "metadata": {},
   "outputs": [],
   "source": [
    "#other demographics\n",
    "samples = pd.read_csv(f'{bucket}/data/gwas_v2/phenotypes/celiac_matched_data_v2.csv')\n",
    "data2 = pd.merge(data,samples[['person_id','race','sex_at_birth','ethnicity','label']],on='person_id')\n",
    "data2.fillna(0,inplace=True)"
   ]
  },
  {
   "cell_type": "code",
   "execution_count": null,
   "metadata": {},
   "outputs": [],
   "source": [
    "#now assign DQ genotype based on inferred allele count\n",
    "data2['haplotype']='X/X'\n",
    "\n",
    "data2.loc[data2['DQ2.5']==1,'haplotype']='DQ2.5/X'\n",
    "data2.loc[data2['DQ2.2']==1,'haplotype']='DQ2.2/X'\n",
    "data2.loc[data2['DQ7']==1,'haplotype']='DQ7/X'\n",
    "data2.loc[data2['DQ8']==1,'haplotype']='DQ8/X'\n",
    "\n",
    "data2.loc[(data2['DQ2.5']==1)&(data2['DQ2.2']==1),'haplotype']='DQ2.5/DQ2.2'\n",
    "data2.loc[(data2['DQ2.5']==1)&(data2['DQ7']==1),'haplotype']='DQ2.5/DQ7'\n",
    "data2.loc[(data2['DQ2.5']==1)&(data2['DQ8']==1),'haplotype']='DQ2.5/DQ8'\n",
    "data2.loc[(data2['DQ2.2']==1)&(data2['DQ7']==1),'haplotype']='DQ2.2/DQ7'\n",
    "data2.loc[(data2['DQ2.2']==1)&(data2['DQ8']==1),'haplotype']='DQ2.2/DQ8'\n",
    "data2.loc[(data2['DQ7']==1)&(data2['DQ8']==1),'haplotype']='DQ2.2/DQ8'\n",
    "\n",
    "data2.loc[data2['DQ2.5']==2,'haplotype']='DQ2.5/DQ2.5'\n",
    "data2.loc[data2['DQ2.2']==2,'haplotype']='DQ2.2/DQ2.2'\n",
    "data2.loc[data2['DQ7']==2,'haplotype']='DQ7/DQ7'\n",
    "data2.loc[data2['DQ8']==2,'haplotype']='DQ8/DQ8'\n",
    "\n",
    "data2.loc[data2['tot']>2,'haplotype']='?'\n",
    "data2.loc[(data2['rs4713586 A2']=='0')|(data2['rs2187668 A2']=='0')|(data2['rs7775228 A2']=='0')|(data2['rs7454108 A2']=='0'),'missing geno']='yes'"
   ]
  },
  {
   "cell_type": "code",
   "execution_count": null,
   "metadata": {},
   "outputs": [],
   "source": [
    "dq_tab=data2.value_counts(['haplotype','label']).reset_index().pivot(index='haplotype',columns='label',values='count').sort_values(1)"
   ]
  },
  {
   "cell_type": "code",
   "execution_count": null,
   "metadata": {},
   "outputs": [],
   "source": [
    "data2.to_csv('dq_haplotypes_tag.csv',index=False)\n",
    "dq_tab.to_csv('dq_table_tag.csv')"
   ]
  },
  {
   "cell_type": "code",
   "execution_count": null,
   "metadata": {},
   "outputs": [],
   "source": [
    "!gsutil cp dq_haplotypes_tag.csv $WORKSPACE_BUCKET/data/hla_compare/\n",
    "!gsutil cp dq_table_tag.csv $WORKSPACE_BUCKET/data/hla_compare/\n"
   ]
  }
 ],
 "metadata": {
  "kernelspec": {
   "display_name": "Python 3 (ipykernel)",
   "language": "python",
   "name": "python3"
  },
  "language_info": {
   "codemirror_mode": {
    "name": "ipython",
    "version": 3
   },
   "file_extension": ".py",
   "mimetype": "text/x-python",
   "name": "python",
   "nbconvert_exporter": "python",
   "pygments_lexer": "ipython3",
   "version": "3.9.13"
  },
  "toc": {
   "base_numbering": 1,
   "nav_menu": {},
   "number_sections": true,
   "sideBar": true,
   "skip_h1_title": false,
   "title_cell": "Table of Contents",
   "title_sidebar": "Contents",
   "toc_cell": false,
   "toc_position": {},
   "toc_section_display": true,
   "toc_window_display": false
  }
 },
 "nbformat": 4,
 "nbformat_minor": 2
}
