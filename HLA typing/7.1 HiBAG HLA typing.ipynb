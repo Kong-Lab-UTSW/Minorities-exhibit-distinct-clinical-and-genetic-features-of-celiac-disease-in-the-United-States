{
 "cells": [
  {
   "cell_type": "code",
   "execution_count": null,
   "metadata": {},
   "outputs": [],
   "source": [
    "install.packages('HIBAG')\n",
    "library(HIBAG)\n",
    "library(tidyverse)"
   ]
  },
  {
   "cell_type": "code",
   "execution_count": null,
   "metadata": {},
   "outputs": [],
   "source": [
    "#get recommended HLARES model from hibag aws\n",
    "system('wget https://hibag.s3.amazonaws.com/download/HLARES/Illumina1M-Broad-HLA4-hg19.RData',intern=T)"
   ]
  },
  {
   "cell_type": "code",
   "execution_count": null,
   "metadata": {},
   "outputs": [],
   "source": [
    "hlaSetKernelTarget(\"max\")"
   ]
  },
  {
   "cell_type": "code",
   "execution_count": null,
   "metadata": {},
   "outputs": [],
   "source": [
    "#HLARES object\n",
    "\n",
    "mobj <- get(load(\"Illumina1M-Broad-HLA-hg19.RData\"))\n",
    "#check how many reference\n",
    "mobj"
   ]
  },
  {
   "cell_type": "code",
   "execution_count": null,
   "metadata": {},
   "outputs": [],
   "source": [
    "#get positions to update\n",
    "for (i in mobj){\n",
    "# make a \"hlaAlleleClass\" object\n",
    "model <- hlaModelFromObj(i)\n",
    "\n",
    "hla.idx <- model$hla.locus\n",
    "\n",
    "write.table(paste0('hg19_',hla.idx,'_pos.txt'))\n",
    "}\n",
    "#switch to notebook 7.1.1 here to get lifted over coordinates, then run the rest of the notebook"
   ]
  },
  {
   "cell_type": "code",
   "execution_count": null,
   "metadata": {},
   "outputs": [],
   "source": [
    "# create hla df\n",
    "\n",
    "ids <- read.table(\"chr6_total.fam\")\n",
    "\n",
    "hla_df <- data.frame(sample.id=ids$V2)\n"
   ]
  },
  {
   "cell_type": "code",
   "execution_count": null,
   "metadata": {},
   "outputs": [],
   "source": [
    "#read in genetic data\n",
    "bed.fn <- \"chr6_new_samples.bed\"\n",
    "fam.fn <- \"chr6_new_samples.fam\"\n",
    "bim.fn <- \"chr6_new_samples.bim\"\n",
    "CeD_samples <- hlaBED2Geno(bed.fn, fam.fn, bim.fn, assembly=\"hg38\")\n"
   ]
  },
  {
   "cell_type": "code",
   "execution_count": null,
   "metadata": {},
   "outputs": [],
   "source": [
    "#HIBAG\n",
    "\n",
    "for (i in mobj){\n",
    "\n",
    "# make a \"hlaAlleleClass\" object\n",
    "model <- hlaModelFromObj(i)\n",
    "\n",
    "hla.idx <- model$hla.locus\n",
    "\n",
    "#update position\n",
    "\n",
    "hg38 <- read.table(paste0('hg38_',hla.idx,'_pos.csv'))\n",
    "model$snp.position <- hg38$V1\n",
    "model$assembly <- 'hg38'\n",
    "\n",
    "# predict\n",
    "\n",
    "pred <- hlaPredict(model, CeD_samples, type=\"response\")\n",
    "head(pred$value)\n",
    "\n",
    "hla_df[,paste0(hla.idx,'.1')] <- pred$value$allele1\n",
    "hla_df[,paste0(hla.idx,'.2')] <- pred$value$allele2\n",
    "rm(pred, model, hg38, hla.idx)\n",
    "head(hla_df)}"
   ]
  },
  {
   "cell_type": "code",
   "execution_count": null,
   "metadata": {},
   "outputs": [],
   "source": [
    "write.csv(hla_df,'hibag_hla_typing.csv', row.names=False)"
   ]
  },
  {
   "cell_type": "code",
   "execution_count": null,
   "metadata": {},
   "outputs": [],
   "source": [
    "#append condition\n",
    "pheno <- read.table('pheno_plink.tsv')\n",
    "pheno <- pheno %>% mutate(sample.id = V1) %>% select(c(sample.id,V3)) %>% mutate(label =as.character(V3)) %>% mutate(label = recode(label, '1' = 'control', '2' = 'celiac'))\n",
    "table(pheno$label)"
   ]
  },
  {
   "cell_type": "code",
   "execution_count": null,
   "metadata": {},
   "outputs": [],
   "source": [
    "hla5 <- hla_df %>% left_join(pheno, by='sample.id') %>% mutate(condition = label) %>% unique()"
   ]
  },
  {
   "cell_type": "code",
   "execution_count": null,
   "metadata": {},
   "outputs": [],
   "source": [
    "hla5$DPB1.1 <- as.character(hla5$DPB1.1)"
   ]
  },
  {
   "cell_type": "code",
   "execution_count": null,
   "metadata": {},
   "outputs": [],
   "source": [
    "#Dq typing\n",
    "dqhap <- hladq %>% \n",
    "  mutate(Dq2_5_1 = ifelse((DQA1.1=='05:01'|DQA1.2=='05:01') & (DQB1.1=='02:01'|DQB1.2=='02:01') & (dqa1_zygo=='het'|dqb1_zygo=='het'),1,0), \n",
    "         Dq2_5_2 = ifelse((DQA1.1=='05:05' | DQA1.2=='05:05') & (DQB1.1=='02:02' | DQB1.2=='02:02'),1,0), \n",
    "         Dq2_2 = ifelse((DQA1.1=='02:01'|DQA1.2=='02:01') & (DQB1.1=='02:02'|DQB1.2=='02:02') & (dqa1_zygo=='het'|dqb1_zygo=='het'),1,0),\n",
    "         Dq7_5 = ifelse((DQA1.1=='05:05'|DQA1.2=='05:05') & (DQB1.1=='03:01'|DQB1.2=='03:01') & (dqa1_zygo=='het'|dqb1_zygo=='het'),1,0),\n",
    "         Dq8 = ifelse((DQA1.1=='03:01'|DQA1.2=='03:01'|DQA1.1=='03:02'|DQA1.2=='03:02'|DQA1.1=='03:03'|DQA1.2=='03:03') & (DQB1.1=='03:02'|DQB1.2=='03:02') & (dqa1_zygo=='het'|dqb1_zygo=='het'),1,0)) %>%\n",
    "  mutate(Dq2_5_1 = ifelse((DQA1.1=='05:01') & (dqa1_zygo=='hom') & (DQB1.1=='02:01') & (dqb1_zygo=='hom'),2,Dq2_5_1),\n",
    "         Dq2_2 = ifelse((DQA1.1=='02:01') & (dqa1_zygo=='hom') & (DQB1.1=='02:02') & (dqb1_zygo=='hom'),2,Dq2_2),\n",
    "         Dq7_5 = ifelse((DQA1.1=='05:05') & (dqa1_zygo=='hom') & (DQB1.1=='03:01') & (dqb1_zygo=='hom'),2,Dq7_5),\n",
    "         Dq8 = ifelse((DQA1.1=='03:01'|DQA1.1=='03:02'|DQA1.1=='03:03') & (dqa1_zygo=='hom') & (DQB1.1=='03:02') & (dqb1_zygo=='hom'),2,Dq8))"
   ]
  },
  {
   "cell_type": "code",
   "execution_count": null,
   "metadata": {},
   "outputs": [],
   "source": [
    "#molecules\n",
    "dqmol <- dqhap %>% \n",
    "   mutate(genotype = case_when(Dq2_5_1==2 ~ 'DQ2.5/DQ2.5',\n",
    "                               Dq2_2==2 ~ 'DQ2.2/DQ2.2',\n",
    "                               Dq7_5==2 ~ 'DQ7.5/DQ7.5',\n",
    "                               Dq8 == 2 ~ 'DQ8/DQ8',\n",
    "                               Dq2_5_2 == 1 ~ 'DQ2.5 trans',\n",
    "                               Dq2_5_1==1 & Dq2_2==1 ~ 'DQ2.5/DQ2.2',\n",
    "                               Dq2_5_1==1 & Dq7_5==1 ~ 'DQ2.5/DQ7.5',\n",
    "                               Dq2_5_1==1 & Dq8==1 ~ 'DQ2.5/DQ8',\n",
    "                               Dq2_5_1==1 ~ 'DQ2.5/X',\n",
    "                               Dq2_2==1 & Dq7_5==1 ~ 'DQ2.2/DQ7.5',\n",
    "                               Dq2_2==1 & Dq8==1 ~ 'DQ2.2/DQ8',\n",
    "                               Dq2_2==1 ~ 'DQ2.2/X',\n",
    "                               Dq7_5==1 & Dq8==1 ~ 'DQ7.5/DQ8',\n",
    "                               Dq7_5==1 ~ 'DQ7.5/X',\n",
    "                               Dq8==1 ~ 'DQ8/X',\n",
    "                               TRUE ~ 'X/X'))"
   ]
  },
  {
   "cell_type": "code",
   "execution_count": null,
   "metadata": {},
   "outputs": [],
   "source": [
    "hla6 <- hla5 %>% merge(dqmol %>% select(c('sample.id','genotype')), by='sample.id')"
   ]
  },
  {
   "cell_type": "code",
   "execution_count": null,
   "metadata": {},
   "outputs": [],
   "source": [
    "hla6 %>% write.csv('hla_types_with_DQ.csv')"
   ]
  },
  {
   "cell_type": "code",
   "execution_count": null,
   "metadata": {},
   "outputs": [],
   "source": []
  }
 ],
 "metadata": {
  "kernelspec": {
   "display_name": "R",
   "language": "R",
   "name": "ir"
  },
  "language_info": {
   "codemirror_mode": "r",
   "file_extension": ".r",
   "mimetype": "text/x-r-source",
   "name": "R",
   "pygments_lexer": "r",
   "version": "4.4.0"
  },
  "toc": {
   "base_numbering": 1,
   "nav_menu": {},
   "number_sections": true,
   "sideBar": true,
   "skip_h1_title": false,
   "title_cell": "Table of Contents",
   "title_sidebar": "Contents",
   "toc_cell": false,
   "toc_position": {},
   "toc_section_display": true,
   "toc_window_display": false
  }
 },
 "nbformat": 4,
 "nbformat_minor": 2
}
