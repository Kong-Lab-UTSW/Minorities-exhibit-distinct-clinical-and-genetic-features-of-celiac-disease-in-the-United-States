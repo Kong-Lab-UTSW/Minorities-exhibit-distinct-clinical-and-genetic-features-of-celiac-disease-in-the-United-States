{
 "cells": [
  {
   "cell_type": "code",
   "execution_count": null,
   "id": "485872c1",
   "metadata": {},
   "outputs": [],
   "source": [
    "import pandas as pd\n",
    "import matplotlib.pyplot as plt\n",
    "import seaborn as sns\n",
    "import numpy as np\n",
    "import statsmodels.api as sm\n",
    "from statsmodels.formula.api import ols\n",
    "from statsmodels.stats.multicomp import pairwise_tukeyhsd\n",
    "plt.rcParams['pdf.fonttype']=42"
   ]
  },
  {
   "cell_type": "code",
   "execution_count": null,
   "id": "d37611e3",
   "metadata": {},
   "outputs": [],
   "source": [
    "from scipy.stats import chi2_contingency\n",
    "\n",
    "obs=np.array([[236,710,665,319],[315,1868,4431,2843]])\n",
    "obs"
   ]
  },
  {
   "cell_type": "code",
   "execution_count": null,
   "id": "d3315a51",
   "metadata": {},
   "outputs": [],
   "source": [
    "Gliadin=pd.read_csv('gliadin_full.csv')\n",
    "Gliadin.standard_concept_name.unique()"
   ]
  },
  {
   "cell_type": "code",
   "execution_count": null,
   "id": "c1e5c6fb",
   "metadata": {},
   "outputs": [],
   "source": [
    "filt_Gliadin2=Gliadin[(Gliadin['value_as_number']<=400)&Gliadin['standard_concept_name'].isin(['Gliadin IgA RAST','Gliadin IgA Ab [Units/volume] in Serum',\n",
    "       'Gliadin peptide IgA Ab [Units/volume] in Serum by Immunoassay','Gliadin IgA Ab [Units/volume] in Serum by Immunoassay','Gliadin peptide IgA Ab [Units/volume] in Serum','Gliadin peptide IgA Ab [Presence] in Serum by Immunoassay'])]\n",
    "filt_group=filt_Gliadin2.groupby(['person_id']).agg({'value_as_number':max})"
   ]
  },
  {
   "cell_type": "code",
   "execution_count": null,
   "id": "25a5d844",
   "metadata": {},
   "outputs": [],
   "source": [
    "file_path2 = '20241002_HLA.csv'\n",
    "HLA = pd.read_csv(file_path2)\n",
    "Gliadin_hla=filt_group.merge(HLA,on='person_id')\n",
    "CeD_Gliadin=Gliadin_hla[~pd.isna(Gliadin_hla['value_as_number'])&(Gliadin_hla['CeD']==2)]\n",
    "\n",
    "CeD_Gliadin.rename({'Impact label':'Impact_Label','value_as_number':'Gliadin_IgA'},axis=1,inplace=True)\n",
    "Gliadin_median=CeD_Gliadin.groupby('Impact_Label').agg('median')['Gliadin_IgA']"
   ]
  },
  {
   "cell_type": "code",
   "execution_count": null,
   "id": "e53dee15",
   "metadata": {},
   "outputs": [],
   "source": [
    "positive_cat=Gliadin[Gliadin['value_as_concept_name'].isin(['High','Positive','Detected'])].drop_duplicates('person_id')\n",
    "\n",
    "count=pd.DataFrame(filt_Gliadin2.value_counts('person_id'))\n",
    "filt_med=filt_Gliadin2.groupby(['person_id']).agg({'value_as_number':'median'})\n",
    "\n",
    "table=pd.concat([count,filt_group,filt_med],axis=1)\n",
    "table.columns=['count','highest','median']\n",
    "table.loc[table.index.isin(positive_cat.person_id),'detection']='positive'\n",
    "table2=pd.merge(table,HLA[['person_id','CeD']],on='person_id')\n",
    "table2.to_csv('gliadin_iga_measure_count.csv')"
   ]
  },
  {
   "cell_type": "code",
   "execution_count": null,
   "id": "e4df162e",
   "metadata": {},
   "outputs": [],
   "source": [
    "# Fit the ANOVA model\n",
    "model = ols('Gliadin_IgA ~ Impact_Label', data=CeD_Gliadin).fit()\n",
    "\n",
    "# Perform ANOVA\n",
    "Gliadin_anova_table = sm.stats.anova_lm(model, typ=2)  # typ=2 is for Type II ANOVA\n",
    "print(Gliadin_anova_table)"
   ]
  },
  {
   "cell_type": "code",
   "execution_count": null,
   "id": "c06ec2b3",
   "metadata": {},
   "outputs": [],
   "source": [
    "#order\n",
    "CeD_Gliadin['Impact_Label'].replace(['high','moderate','low','none'],['4:high','3:moderate','2:low','1:none'], inplace=True)\n",
    "# Now perform post-hoc Tukey HSD test\n",
    "Gliadin_tukey = pairwise_tukeyhsd(endog=CeD_Gliadin['Gliadin_IgA'],    # dependent variable\n",
    "                          groups=CeD_Gliadin['Impact_Label'], # independent variable (groups)\n",
    "                          alpha=0.05)                       # significance level\n",
    "print(Gliadin_tukey.summary())\n",
    "fig =Gliadin_tukey.plot_simultaneous(xlabel='Gliadin_IgA (U/mL)',ylabel='HLA-DQ risk')\n",
    "fig.text(x=0.2,y=0.7,s=f'n= {str(len(CeD_Gliadin))}', fontsize=12)\n",
    "fig.text(x=0.2,y=0.65,s=f\"F= {str(round(Gliadin_anova_table.loc['Impact_Label','F'],2))}\", fontsize=12)\n",
    "fig.text(x=0.2,y=0.6,s=f\"p= {str(round(Gliadin_anova_table.loc['Impact_Label','PR(>F)'],12))}\", fontsize=12)\n",
    "\n",
    "# Save the plot to a file\n",
    "fig.savefig('tukey_hsd_plot_gliadin_iga.pdf', format='pdf', bbox_inches='tight')  # Save as pdf with high quality\n"
   ]
  },
  {
   "cell_type": "code",
   "execution_count": null,
   "id": "af6cc022",
   "metadata": {},
   "outputs": [],
   "source": [
    "from math import log10, floor\n",
    "\n",
    "def round_to_1(x):\n",
    "    return round(x, -int(floor(log10(abs(x)))-2))\n"
   ]
  },
  {
   "cell_type": "code",
   "execution_count": null,
   "id": "f22f0901",
   "metadata": {},
   "outputs": [],
   "source": [
    "tukey_df=pd.DataFrame(Gliadin_tukey.summary())\n",
    "tukey_df.columns=tukey_df.loc[0]\n",
    "tukey_df.drop(0,inplace=True)\n",
    "tukey_df.iloc[:,3]=Gliadin_tukey.pvalues\n",
    "tukey_df"
   ]
  },
  {
   "cell_type": "code",
   "execution_count": null,
   "id": "983db4d2",
   "metadata": {},
   "outputs": [],
   "source": [
    "impact_count=pd.DataFrame(CeD_Gliadin.value_counts('Impact_Label')[['high','moderate','low','none']])"
   ]
  },
  {
   "cell_type": "code",
   "execution_count": null,
   "id": "d70bbb62",
   "metadata": {},
   "outputs": [],
   "source": [
    "plt.figure(figsize=(8, 6))\n",
    "sns.violinplot(x='Impact_Label', y='Gliadin_IgA', data=CeD_Gliadin,order=[ 'high',  'moderate','low','none',],hue='Impact_Label')\n",
    "unit='U/mL'\n",
    "# Add title and labels\n",
    "plt.title('Gliadin-IgA levels by hla risk')\n",
    "plt.xlabel('HLA-DQ risk')\n",
    "\n",
    "plt.ylabel(unit)\n",
    "\n",
    "    \n",
    "#t-statistics\n",
    "plt.text(s='p = '+round_to_1(Gliadin_anova_table.loc['Impact_Label','PR(>F)']).astype(str),y=CeD_Gliadin.Gliadin_IgA.max(),x=0.3)\n",
    "plt.text(s='F = '+round(Gliadin_anova_table.loc['Impact_Label','F'],2).astype(str),y=CeD_Gliadin.Gliadin_IgA.max(),x=2)    \n",
    "plt.text(s='median: '+round(Gliadin_median['high'],2).astype(str),y=Gliadin_median['high']+1,x=0)\n",
    "plt.text(s='median: '+round(Gliadin_median['moderate'],2).astype(str),y=Gliadin_median['moderate']+1,x=1)\n",
    "plt.text(s='median: '+round(Gliadin_median['low'],2).astype(str),y=Gliadin_median['low']+1,x=2)\n",
    "plt.text(s='median: '+round(Gliadin_median['none'],2).astype(str),y=Gliadin_median['none']+1,x=3)\n",
    "plt.text(s='N = '+impact_count.loc['high',0].astype(str),y=-20,x=0)\n",
    "\n",
    "plt.text(s='N = '+impact_count.loc['moderate',0].astype(str),y=-20,x=1)\n",
    "plt.text(s='N = '+impact_count.loc['low',0].astype(str),y=-20,x=2)\n",
    "\n",
    "plt.text(s='N = '+impact_count.loc['none',0].astype(str),y=-20,x=3)\n",
    "\n",
    "\n",
    "# Show the plot\n",
    "plt.show()"
   ]
  },
  {
   "cell_type": "code",
   "execution_count": null,
   "id": "819e053d",
   "metadata": {},
   "outputs": [],
   "source": [
    "#chisq for for <10 & >10 Gliadin level\n",
    "from scipy.stats import chi2_contingency\n",
    "\n",
    "CeD_Gliadin.loc[CeD_Gliadin['Gliadin_IgA']>20,'test']='positive'\n",
    "CeD_Gliadin.loc[CeD_Gliadin['Gliadin_IgA']<=20,'test']='negative'\n",
    "pos_neg=CeD_Gliadin.value_counts('test')\n",
    "\n",
    "iga_table=pd.DataFrame(CeD_Gliadin.value_counts(['Impact_Label','test'])).reset_index().pivot('Impact_Label','test',0)\n",
    "res=chi2_contingency(iga_table)\n",
    "iga_table['overall pval']=res[1]\n",
    "ORs=[]\n",
    "for i,row in iga_table.iterrows():\n",
    "    obs=np.array([[row['positive'],row['negative']],[pos_neg['positive']-row['positive'],pos_neg['negative']-row['negative']]])\n",
    "    res2=chi2_contingency(obs)\n",
    "    OR=row['positive']*(pos_neg['negative']-row['negative'])/(row['negative']*(pos_neg['positive']-row['positive']))\n",
    "    iga_table.loc[i,'OR']=OR\n",
    "    iga_table.loc[i,'pvalue_ind']=res2[1]\n",
    "    \n",
    "iga_table"
   ]
  },
  {
   "cell_type": "code",
   "execution_count": null,
   "id": "af2300be",
   "metadata": {},
   "outputs": [],
   "source": [
    "iga_table"
   ]
  }
 ],
 "metadata": {
  "kernelspec": {
   "display_name": "Python 3 (ipykernel)",
   "language": "python",
   "name": "python3"
  },
  "language_info": {
   "codemirror_mode": {
    "name": "ipython",
    "version": 3
   },
   "file_extension": ".py",
   "mimetype": "text/x-python",
   "name": "python",
   "nbconvert_exporter": "python",
   "pygments_lexer": "ipython3",
   "version": "3.9.13"
  }
 },
 "nbformat": 4,
 "nbformat_minor": 5
}
