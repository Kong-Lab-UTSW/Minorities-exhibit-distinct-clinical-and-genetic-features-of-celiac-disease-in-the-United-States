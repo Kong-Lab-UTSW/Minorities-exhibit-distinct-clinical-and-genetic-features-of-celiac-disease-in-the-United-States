{
 "cells": [
  {
   "cell_type": "code",
   "execution_count": null,
   "metadata": {},
   "outputs": [],
   "source": [
    "import pandas\n",
    "import os\n",
    "\n",
    "# This query represents dataset \"all wgs surveys\" for domain \"survey\" and was generated for All of Us Controlled Tier Dataset v7\n",
    "dataset_73282597_survey_sql = \"\"\"\n",
    "    SELECT DISTINCT\n",
    "        answer.person_id,\n",
    "        answer.survey,\n",
    "        answer.question_concept_id,\n",
    "        answer.question,\n",
    "        answer.answer\n",
    "    FROM\n",
    "        `\"\"\" + os.environ[\"WORKSPACE_CDR\"] + \"\"\".ds_survey` answer  \n",
    " \"\"\"\n",
    "\n",
    "dataset_73282597_survey_df = pandas.read_gbq(\n",
    "    dataset_73282597_survey_sql,\n",
    "    dialect=\"standard\",\n",
    "    use_bqstorage_api=(\"BIGQUERY_STORAGE_API_ENABLED\" in os.environ),\n",
    "    progress_bar_type=\"tqdm_notebook\")\n",
    "\n",
    "dataset_73282597_survey_df.head(5)"
   ]
  },
  {
   "cell_type": "code",
   "execution_count": null,
   "metadata": {},
   "outputs": [],
   "source": [
    "bucket=os.getenv('WORKSPACE_BUCKET')\n"
   ]
  },
  {
   "cell_type": "code",
   "execution_count": null,
   "metadata": {},
   "outputs": [],
   "source": [
    "import pandas as pd\n",
    "import os"
   ]
  },
  {
   "cell_type": "code",
   "execution_count": null,
   "metadata": {},
   "outputs": [],
   "source": [
    "# This query represents dataset \"ced2\" for domain \"person\" and was generated for All of Us Controlled Tier Dataset v7\n",
    "dataset_51517751_person_sql = \"\"\"\n",
    "    SELECT\n",
    "        person.person_id \n",
    "    FROM\n",
    "        `\"\"\" + os.environ[\"WORKSPACE_CDR\"] + \"\"\".person` person   \n",
    "    WHERE\n",
    "        person.PERSON_ID IN (\n",
    "            SELECT\n",
    "                distinct person_id  \n",
    "            FROM\n",
    "                `\"\"\" + os.environ[\"WORKSPACE_CDR\"] + \"\"\".cb_search_person` cb_search_person  \n",
    "            WHERE\n",
    "                cb_search_person.person_id IN (\n",
    "                    SELECT\n",
    "                        criteria.person_id \n",
    "                    FROM\n",
    "                        (SELECT\n",
    "                            DISTINCT person_id,\n",
    "                            entry_date,\n",
    "                            concept_id \n",
    "                        FROM\n",
    "                            `\"\"\" + os.environ[\"WORKSPACE_CDR\"] + \"\"\".cb_search_all_events` \n",
    "                        WHERE\n",
    "                            (\n",
    "                                concept_id IN (836793) \n",
    "                                AND is_standard = 0  \n",
    "                                AND  value_source_concept_id IN (1384519)\n",
    "                            )) criteria \n",
    "                    UNION\n",
    "                    ALL SELECT\n",
    "                        criteria.person_id \n",
    "                    FROM\n",
    "                        (SELECT\n",
    "                            DISTINCT person_id,\n",
    "                            entry_date,\n",
    "                            concept_id \n",
    "                        FROM\n",
    "                            `\"\"\" + os.environ[\"WORKSPACE_CDR\"] + \"\"\".cb_search_all_events` \n",
    "                        WHERE\n",
    "                            (\n",
    "                                concept_id IN (\n",
    "                                    SELECT\n",
    "                                        DISTINCT c.concept_id \n",
    "                                    FROM\n",
    "                                        `\"\"\" + os.environ[\"WORKSPACE_CDR\"] + \"\"\".cb_criteria` c \n",
    "                                    JOIN\n",
    "                                        (\n",
    "                                            select\n",
    "                                                cast(cr.id as string) as id \n",
    "                                            FROM\n",
    "                                                `\"\"\" + os.environ[\"WORKSPACE_CDR\"] + \"\"\".cb_criteria` cr \n",
    "                                            WHERE\n",
    "                                                concept_id IN (194992) \n",
    "                                                AND full_text LIKE '%_rank1]%'\n",
    "                                        ) a \n",
    "                                            ON (\n",
    "                                                c.path LIKE CONCAT('%.',\n",
    "                                            a.id,\n",
    "                                            '.%') \n",
    "                                            OR c.path LIKE CONCAT('%.',\n",
    "                                            a.id) \n",
    "                                            OR c.path LIKE CONCAT(a.id,\n",
    "                                            '.%') \n",
    "                                            OR c.path = a.id) \n",
    "                                        WHERE\n",
    "                                            is_standard = 1 \n",
    "                                            AND is_selectable = 1\n",
    "                                        ) \n",
    "                                        AND is_standard = 1 \n",
    "                                )\n",
    "                            ) criteria \n",
    "                        ) )\"\"\"\n",
    "\n",
    "dataset_51517751_person_df = pandas.read_gbq(\n",
    "    dataset_51517751_person_sql,\n",
    "    dialect=\"standard\",\n",
    "    use_bqstorage_api=(\"BIGQUERY_STORAGE_API_ENABLED\" in os.environ),\n",
    "    progress_bar_type=\"tqdm_notebook\")\n",
    "\n",
    "dataset_51517751_person_df.head(5)"
   ]
  },
  {
   "cell_type": "code",
   "execution_count": null,
   "metadata": {},
   "outputs": [],
   "source": [
    "#label patients\n",
    "dataset_73282597_survey_df['CeD']='healthy'\n",
    "dataset_73282597_survey_df.loc[dataset_73282597_survey_df['person_id'].isin(dataset_51517751_person_df.person_id),'CeD']='celiac'"
   ]
  },
  {
   "cell_type": "code",
   "execution_count": null,
   "metadata": {},
   "outputs": [],
   "source": [
    "#we will not analyze the covid-19 surveys\n",
    "survey_df = dataset_73282597_survey_df[~dataset_73282597_survey_df['survey'].str.contains('COVID')]"
   ]
  },
  {
   "cell_type": "code",
   "execution_count": null,
   "metadata": {},
   "outputs": [],
   "source": [
    "#count answers by CeD status\n",
    "survey= survey_df.value_counts(['survey','question_concept_id','question','answer','CeD'])\n",
    "\n",
    "surv_count = survey.reset_index().pivot(columns='CeD',index=['survey','question_concept_id','question','answer'],values='count').fillna(0).reset_index()"
   ]
  },
  {
   "cell_type": "code",
   "execution_count": null,
   "metadata": {},
   "outputs": [],
   "source": [
    "#count question and survey responses per condition\n",
    "question_cond_cts = survey_df[['person_id','question','CeD']].drop_duplicates().value_counts(['question','CeD'])\n",
    "survey_cond_cts = survey_df[['person_id','survey','CeD']].drop_duplicates().value_counts(['survey','CeD'])\n",
    "\n",
    "question_cond = pandas.DataFrame(question_cond_cts).reset_index().pivot(index='question',columns='CeD',values='count').fillna(0)\n",
    "survey_cond = pandas.DataFrame(survey_cond_cts).reset_index().pivot(index='survey',columns='CeD',values='count').fillna(0)\n",
    "\n",
    "question_cond.rename(columns={'celiac':'CeD question respondants','healthy':'healthy question respondants'},inplace=True)\n",
    "survey_cond.rename(columns={'celiac':'CeD survey respondants','healthy':'healthy survey respondants'},inplace=True)"
   ]
  },
  {
   "cell_type": "code",
   "execution_count": null,
   "metadata": {},
   "outputs": [],
   "source": [
    "surveys2 = pandas.merge(surv_count,survey_cond, on='survey',how='left')\n",
    "surv3 = pandas.merge(surveys2,question_cond, on='question',how='left')\n",
    "surv3"
   ]
  },
  {
   "cell_type": "code",
   "execution_count": null,
   "metadata": {},
   "outputs": [],
   "source": [
    "#uncomment to check if the counts make sense\n",
    "#surv_check=surv3.groupby('question').agg({'celiac':sum,'healthy':sum,'CeD survey respondants':'min', 'healthy survey respondants':'min',\n",
    " #      'CeD question respondants':'min', 'healthy question respondants':'min'})\n",
    "\n",
    "#surv_check[surv_check['healthy']<surv_check['healthy question respondants']]\n",
    "#looks good"
   ]
  },
  {
   "cell_type": "code",
   "execution_count": null,
   "metadata": {},
   "outputs": [],
   "source": [
    "surv3.to_csv('survey_cats_count.csv',index=False)"
   ]
  },
  {
   "cell_type": "code",
   "execution_count": null,
   "metadata": {},
   "outputs": [],
   "source": [
    "surv3=pd.read_csv('survey_cats_count.csv')"
   ]
  },
  {
   "cell_type": "code",
   "execution_count": null,
   "metadata": {},
   "outputs": [],
   "source": [
    "dupid.drop_duplicates(['person_id','question'])\n",
    "#no person has duplicate answers for any question"
   ]
  },
  {
   "cell_type": "markdown",
   "metadata": {},
   "source": [
    "## Chi-square and odds ratio"
   ]
  },
  {
   "cell_type": "code",
   "execution_count": null,
   "metadata": {},
   "outputs": [],
   "source": [
    "from scipy.stats import chisquare, fisher_exact\n",
    "\n",
    "import statsmodels.stats.multitest as st\n",
    "\n",
    "import numpy as np"
   ]
  },
  {
   "cell_type": "code",
   "execution_count": null,
   "metadata": {},
   "outputs": [],
   "source": [
    "#gather sum by question as pseudo-total\n",
    "sums = surv3.groupby('question').agg({'celiac':sum,'healthy':sum})\n",
    "sums.columns=['celtot chi-sq','healthytot chi-sq']\n",
    "surv5 = pd.merge(surv3,sums, on='question',how='left')\n",
    "#define expected counts based on distribution of healthy respondants\n",
    "surv5['exp freq']=surv5['healthy']/surv5['healthytot chi-sq']\n",
    "surv5['exp cel']=surv5['exp freq']*surv5['celtot chi-sq']"
   ]
  },
  {
   "cell_type": "code",
   "execution_count": null,
   "metadata": {},
   "outputs": [],
   "source": [
    "#chi-square by question\n",
    "for i in surv5['question'].unique():\n",
    "  print(i)\n",
    "  exp = surv5.loc[surv5['question']==i,['exp cel']]\n",
    "  obs = surv5.loc[surv5['question']==i,['celiac']]\n",
    "  res = chisquare(obs,exp)\n",
    "  surv5.loc[surv5['question']==i,['pval']]=res.pvalue[0]\n",
    "  surv5.loc[surv5['question']==i,['chi-sq']]=res.statistic[0]"
   ]
  },
  {
   "cell_type": "code",
   "execution_count": null,
   "metadata": {},
   "outputs": [],
   "source": [
    "surv5['OR']=surv5['celiac']*(surv5['healthy question respondants']-surv5['healthy'])/(surv5['healthy']*(surv5['CeD question respondants']-surv5['celiac']))"
   ]
  },
  {
   "cell_type": "code",
   "execution_count": null,
   "metadata": {},
   "outputs": [],
   "source": [
    "#need only 1 p-value per question; drop duplicates in these 2 to keep the FDR from being too high\n",
    "fdr_df=surv5[['question','pval']].drop_duplicates()\n",
    "#FDR correction as defined previously\n",
    "def FDR(sample, pval):\n",
    "    #first sort by pval\n",
    "    sample.sort_values(by=pval, inplace = True)\n",
    "    samp = sample.dropna(subset=[pval])\n",
    "    pvals = samp[pval]\n",
    "    #calculation of correction\n",
    "    padj = st.fdrcorrection(pvals, is_sorted=True)\n",
    "    padded_col = np.pad(padj[1], (0, len(sample) - len(padj[1])), 'constant', constant_values=(np.nan, np.nan))\n",
    "    sample['Padj'] = padded_col\n",
    "#execute\n",
    "FDR(fdr_df,'pval')"
   ]
  },
  {
   "cell_type": "code",
   "execution_count": null,
   "metadata": {},
   "outputs": [],
   "source": [
    "surv5_corr = pd.merge(surv5,fdr_df,on=['question','pval'],how='left')"
   ]
  },
  {
   "cell_type": "code",
   "execution_count": null,
   "metadata": {},
   "outputs": [],
   "source": [
    "surv5_corr.to_csv('survey_cats_fdr.csv',index=False)"
   ]
  },
  {
   "cell_type": "code",
   "execution_count": null,
   "metadata": {},
   "outputs": [],
   "source": []
  }
 ],
 "metadata": {
  "kernelspec": {
   "display_name": "Python 3 (ipykernel)",
   "language": "python",
   "name": "python3"
  },
  "language_info": {
   "codemirror_mode": {
    "name": "ipython",
    "version": 3
   },
   "file_extension": ".py",
   "mimetype": "text/x-python",
   "name": "python",
   "nbconvert_exporter": "python",
   "pygments_lexer": "ipython3",
   "version": "3.9.13"
  },
  "toc": {
   "base_numbering": 1,
   "nav_menu": {},
   "number_sections": true,
   "sideBar": true,
   "skip_h1_title": false,
   "title_cell": "Table of Contents",
   "title_sidebar": "Contents",
   "toc_cell": false,
   "toc_position": {},
   "toc_section_display": true,
   "toc_window_display": false
  }
 },
 "nbformat": 4,
 "nbformat_minor": 2
}
