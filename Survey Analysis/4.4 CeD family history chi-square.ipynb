{
 "cells": [
  {
   "cell_type": "code",
   "execution_count": null,
   "metadata": {},
   "outputs": [],
   "source": [
    "!pip install mpmath"
   ]
  },
  {
   "cell_type": "code",
   "execution_count": null,
   "metadata": {},
   "outputs": [],
   "source": [
    "import pandas\n",
    "import os\n",
    "\n",
    "# This query represents dataset \"ced family history\" for domain \"survey\" and was generated for All of Us Controlled Tier Dataset v7\n",
    "dataset_63942080_survey_sql = \"\"\"\n",
    "    SELECT\n",
    "        answer.person_id,\n",
    "        answer.survey_datetime,\n",
    "        answer.survey,\n",
    "        answer.question_concept_id,\n",
    "        answer.question,\n",
    "        answer.answer_concept_id,\n",
    "        answer.answer,\n",
    "        answer.survey_version_concept_id,\n",
    "        answer.survey_version_name  \n",
    "    FROM\n",
    "        `\"\"\" + os.environ[\"WORKSPACE_CDR\"] + \"\"\".ds_survey` answer   \n",
    "    WHERE\n",
    "        (\n",
    "            question_concept_id IN (\n",
    "                836793\n",
    "            )\n",
    "        )  \n",
    "\"\"\"\n",
    "\n",
    "dataset_63942080_survey_df = pandas.read_gbq(\n",
    "    dataset_63942080_survey_sql,\n",
    "    dialect=\"standard\",\n",
    "    use_bqstorage_api=(\"BIGQUERY_STORAGE_API_ENABLED\" in os.environ),\n",
    "    progress_bar_type=\"tqdm_notebook\")\n",
    "\n",
    "dataset_63942080_survey_df.head(5)"
   ]
  },
  {
   "cell_type": "code",
   "execution_count": null,
   "metadata": {},
   "outputs": [],
   "source": [
    "from scipy.stats import chi2_contingency, fisher_exact\n",
    "\n",
    "import numpy as np"
   ]
  },
  {
   "cell_type": "code",
   "execution_count": null,
   "metadata": {},
   "outputs": [],
   "source": [
    "family_ct = dataset_63942080_survey_df[~dataset_63942080_survey_df['answer'].str.contains('- Self')].value_counts('person_id')"
   ]
  },
  {
   "cell_type": "code",
   "execution_count": null,
   "metadata": {},
   "outputs": [],
   "source": [
    "Ced_cases_survey=dataset_63942080_survey_df[dataset_63942080_survey_df['answer'].str.contains('Self')]['person_id']"
   ]
  },
  {
   "cell_type": "code",
   "execution_count": null,
   "metadata": {},
   "outputs": [],
   "source": [
    "dataset_63942080_survey_df.loc[dataset_63942080_survey_df['person_id'].isin(Ced_cases_survey),'ced']='Celiac'\n",
    "dataset_63942080_survey_df['ced'].fillna('healthy',inplace=True)"
   ]
  },
  {
   "cell_type": "code",
   "execution_count": null,
   "metadata": {},
   "outputs": [],
   "source": [
    "dataset_63942080_survey_df.drop_duplicates('person_id').value_counts('ced')"
   ]
  },
  {
   "cell_type": "code",
   "execution_count": null,
   "metadata": {},
   "outputs": [],
   "source": [
    "#search for not answered\n",
    "answered_total=dataset_63942080_survey_df[~dataset_63942080_survey_df['answer'].isin(['PMI: Skip','Including yourself, who in your family has had celiac disease? - Self'])].drop_duplicates('person_id').value_counts('ced')"
   ]
  },
  {
   "cell_type": "code",
   "execution_count": null,
   "metadata": {},
   "outputs": [],
   "source": [
    "#make contingency table\n",
    "chi_dat=pandas.DataFrame(dataset_63942080_survey_df[dataset_63942080_survey_df['answer']!='PMI: Skip'].value_counts(['ced','answer'])).reset_index().pivot(columns='ced',index='answer',values='count').fillna(0)\n",
    "chi_dat.loc['No Family','Celiac']=1789-answered_total['Celiac']\n",
    "chi_dat.loc['No Family','healthy']=103824-answered_total['healthy']\n",
    "chi_dat.drop('Including yourself, who in your family has had celiac disease? - Self',inplace=True)"
   ]
  },
  {
   "cell_type": "code",
   "execution_count": null,
   "metadata": {},
   "outputs": [],
   "source": [
    "#chi-square by question\n",
    "\n",
    "obs=chi_dat\n",
    "res = chi2_contingency(obs)\n"
   ]
  },
  {
   "cell_type": "code",
   "execution_count": null,
   "metadata": {},
   "outputs": [],
   "source": [
    "import mpmath"
   ]
  },
  {
   "cell_type": "code",
   "execution_count": null,
   "metadata": {},
   "outputs": [],
   "source": [
    "from scipy.stats import chi2\n",
    "from mpmath import mp\n",
    "\n",
    "# Set the precision\n",
    "mp.dps = 800  # Set precision to 500 decimal places\n",
    "\n",
    "# Degrees of freedom and chi-square value (example values)\n",
    "df = 6\n",
    "chi_squared = 3769.6962794742876\n",
    "\n",
    "# Calculate the p-value using chi2.sf (1 - CDF)\n",
    "p_value = chi2.sf(chi_squared, df)\n",
    "\n",
    "# Convert p-value to mpmath format for higher precision display\n",
    "p_value_mpmath = mp.mpf(p_value)\n",
    "\n",
    "# Display the p-value with high precision\n",
    "print(f\"P-value for chi-square with df={df} and chi-square={chi_squared}:\")\n",
    "print(p_value_mpmath)\n",
    "#p=2.42e-802"
   ]
  },
  {
   "cell_type": "code",
   "execution_count": null,
   "metadata": {},
   "outputs": [],
   "source": []
  }
 ],
 "metadata": {
  "kernelspec": {
   "display_name": "Python 3 (ipykernel)",
   "language": "python",
   "name": "python3"
  },
  "language_info": {
   "codemirror_mode": {
    "name": "ipython",
    "version": 3
   },
   "file_extension": ".py",
   "mimetype": "text/x-python",
   "name": "python",
   "nbconvert_exporter": "python",
   "pygments_lexer": "ipython3",
   "version": "3.9.13"
  },
  "toc": {
   "base_numbering": 1,
   "nav_menu": {},
   "number_sections": true,
   "sideBar": true,
   "skip_h1_title": false,
   "title_cell": "Table of Contents",
   "title_sidebar": "Contents",
   "toc_cell": false,
   "toc_position": {},
   "toc_section_display": true,
   "toc_window_display": false
  }
 },
 "nbformat": 4,
 "nbformat_minor": 2
}
