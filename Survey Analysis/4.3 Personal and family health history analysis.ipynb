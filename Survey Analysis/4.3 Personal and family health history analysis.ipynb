{
 "cells": [
  {
   "cell_type": "code",
   "execution_count": null,
   "metadata": {},
   "outputs": [],
   "source": [
    "import pandas as pd\n",
    "import os\n",
    "import statsmodels.api as sm\n",
    "import numpy as np"
   ]
  },
  {
   "cell_type": "code",
   "execution_count": null,
   "metadata": {},
   "outputs": [],
   "source": [
    "#matched samples\n",
    "bucket=os.getenv('WORKSPACE_BUCKET')"
   ]
  },
  {
   "cell_type": "code",
   "execution_count": null,
   "metadata": {},
   "outputs": [],
   "source": [
    "import pandas\n",
    "import os\n",
    "\n",
    "# This query represents dataset \"all wgs surveys\" for domain \"survey\" and was generated for All of Us Controlled Tier Dataset v7\n",
    "dataset_73282597_survey_sql = \"\"\"\n",
    "    SELECT DISTINCT\n",
    "        answer.person_id,\n",
    "        answer.question_concept_id,\n",
    "        answer.question,\n",
    "        answer.answer,\n",
    "        answer.survey\n",
    "    FROM\n",
    "        `\"\"\" + os.environ[\"WORKSPACE_CDR\"] + \"\"\".ds_survey` answer  \n",
    "    WHERE\n",
    "        (\n",
    "            survey IN (\n",
    "                \"Personal and Family Health History\"\n",
    "            ) \n",
    "        )\n",
    " \"\"\"\n",
    "\n",
    "dataset_73282597_survey_df = pandas.read_gbq(\n",
    "    dataset_73282597_survey_sql,\n",
    "    dialect=\"standard\",\n",
    "    use_bqstorage_api=(\"BIGQUERY_STORAGE_API_ENABLED\" in os.environ),\n",
    "    progress_bar_type=\"tqdm_notebook\")\n",
    "\n",
    "dataset_73282597_survey_df.head(5)"
   ]
  },
  {
   "cell_type": "code",
   "execution_count": null,
   "metadata": {},
   "outputs": [],
   "source": [
    "import pandas\n",
    "import os\n",
    "\n",
    "# This query represents dataset \"survey patients\" for domain \"person\" and was generated for All of Us Controlled Tier Dataset v7\n",
    "dataset_46202400_person_sql = \"\"\"\n",
    "    SELECT\n",
    "        person.person_id,\n",
    "        p_sex_at_birth_concept.concept_name as sex_at_birth \n",
    "    FROM\n",
    "        `\"\"\" + os.environ[\"WORKSPACE_CDR\"] + \"\"\".person` person \n",
    "    LEFT JOIN\n",
    "        `\"\"\" + os.environ[\"WORKSPACE_CDR\"] + \"\"\".concept` p_sex_at_birth_concept \n",
    "            ON person.sex_at_birth_concept_id = p_sex_at_birth_concept.concept_id  \n",
    "    WHERE\n",
    "        person.PERSON_ID IN (SELECT\n",
    "            distinct person_id  \n",
    "        FROM\n",
    "            `\"\"\" + os.environ[\"WORKSPACE_CDR\"] + \"\"\".cb_search_person` cb_search_person  \n",
    "        WHERE\n",
    "            cb_search_person.person_id IN (SELECT\n",
    "                criteria.person_id \n",
    "            FROM\n",
    "                (SELECT\n",
    "                    DISTINCT person_id, entry_date, concept_id \n",
    "                FROM\n",
    "                    `\"\"\" + os.environ[\"WORKSPACE_CDR\"] + \"\"\".cb_search_all_events` \n",
    "                WHERE\n",
    "                    (concept_id IN (836793) \n",
    "                    AND is_standard = 0  \n",
    "                    AND  value_source_concept_id IN (1384519))) criteria ) )\"\"\"\n",
    "\n",
    "dataset_46202400_person_df = pandas.read_gbq(\n",
    "    dataset_46202400_person_sql,\n",
    "    dialect=\"standard\",\n",
    "    use_bqstorage_api=(\"BIGQUERY_STORAGE_API_ENABLED\" in os.environ),\n",
    "    progress_bar_type=\"tqdm_notebook\")\n",
    "\n",
    "dataset_46202400_person_df.head(5)"
   ]
  },
  {
   "cell_type": "code",
   "execution_count": null,
   "metadata": {},
   "outputs": [],
   "source": [
    "import pandas\n",
    "import os\n",
    "\n",
    "# This query represents dataset \"ced2\" for domain \"person\" and was generated for All of Us Controlled Tier Dataset v7\n",
    "dataset_58020306_person_sql = \"\"\"\n",
    "    SELECT\n",
    "        person.person_id,\n",
    "        p_gender_concept.concept_name as gender,\n",
    "        person.birth_datetime as date_of_birth,\n",
    "        p_race_concept.concept_name as race,\n",
    "        p_ethnicity_concept.concept_name as ethnicity,\n",
    "        p_sex_at_birth_concept.concept_name as sex_at_birth \n",
    "    FROM\n",
    "        `\"\"\" + os.environ[\"WORKSPACE_CDR\"] + \"\"\".person` person \n",
    "    LEFT JOIN\n",
    "        `\"\"\" + os.environ[\"WORKSPACE_CDR\"] + \"\"\".concept` p_gender_concept \n",
    "            ON person.gender_concept_id = p_gender_concept.concept_id \n",
    "    LEFT JOIN\n",
    "        `\"\"\" + os.environ[\"WORKSPACE_CDR\"] + \"\"\".concept` p_race_concept \n",
    "            ON person.race_concept_id = p_race_concept.concept_id \n",
    "    LEFT JOIN\n",
    "        `\"\"\" + os.environ[\"WORKSPACE_CDR\"] + \"\"\".concept` p_ethnicity_concept \n",
    "            ON person.ethnicity_concept_id = p_ethnicity_concept.concept_id \n",
    "    LEFT JOIN\n",
    "        `\"\"\" + os.environ[\"WORKSPACE_CDR\"] + \"\"\".concept` p_sex_at_birth_concept \n",
    "            ON person.sex_at_birth_concept_id = p_sex_at_birth_concept.concept_id  \n",
    "    WHERE\n",
    "        person.PERSON_ID IN (SELECT\n",
    "            distinct person_id  \n",
    "        FROM\n",
    "            `\"\"\" + os.environ[\"WORKSPACE_CDR\"] + \"\"\".cb_search_person` cb_search_person  \n",
    "        WHERE\n",
    "            cb_search_person.person_id IN (SELECT\n",
    "                criteria.person_id \n",
    "            FROM\n",
    "                (SELECT\n",
    "                    DISTINCT person_id, entry_date, concept_id \n",
    "                FROM\n",
    "                    `\"\"\" + os.environ[\"WORKSPACE_CDR\"] + \"\"\".cb_search_all_events` \n",
    "                WHERE\n",
    "                    (concept_id IN (836793) \n",
    "                    AND is_standard = 0  \n",
    "                    AND  value_source_concept_id IN (1384519))) criteria \n",
    "            UNION\n",
    "            DISTINCT SELECT\n",
    "                criteria.person_id \n",
    "            FROM\n",
    "                (SELECT\n",
    "                    DISTINCT person_id, entry_date, concept_id \n",
    "                FROM\n",
    "                    `\"\"\" + os.environ[\"WORKSPACE_CDR\"] + \"\"\".cb_search_all_events` \n",
    "                WHERE\n",
    "                    (concept_id IN(SELECT\n",
    "                        DISTINCT c.concept_id \n",
    "                    FROM\n",
    "                        `\"\"\" + os.environ[\"WORKSPACE_CDR\"] + \"\"\".cb_criteria` c \n",
    "                    JOIN\n",
    "                        (SELECT\n",
    "                            CAST(cr.id as string) AS id       \n",
    "                        FROM\n",
    "                            `\"\"\" + os.environ[\"WORKSPACE_CDR\"] + \"\"\".cb_criteria` cr       \n",
    "                        WHERE\n",
    "                            concept_id IN (194992)       \n",
    "                            AND full_text LIKE '%_rank1]%'      ) a \n",
    "                            ON (c.path LIKE CONCAT('%.', a.id, '.%') \n",
    "                            OR c.path LIKE CONCAT('%.', a.id) \n",
    "                            OR c.path LIKE CONCAT(a.id, '.%') \n",
    "                            OR c.path = a.id) \n",
    "                    WHERE\n",
    "                        is_standard = 1 \n",
    "                        AND is_selectable = 1) \n",
    "                    AND is_standard = 1 )) criteria ) )\"\"\"\n",
    "\n",
    "ced_total = pandas.read_gbq(\n",
    "    dataset_58020306_person_sql,\n",
    "    dialect=\"standard\",\n",
    "    use_bqstorage_api=(\"BIGQUERY_STORAGE_API_ENABLED\" in os.environ),\n",
    "    progress_bar_type=\"tqdm_notebook\")\n",
    "\n",
    "ced_total.head(5)"
   ]
  },
  {
   "cell_type": "code",
   "execution_count": null,
   "metadata": {},
   "outputs": [],
   "source": [
    "#filter for out ehr patients\n",
    "dataset_73282597_survey_df['label']=0\n",
    "dataset_73282597_survey_df.loc[dataset_73282597_survey_df['person_id'].isin(dataset_46202400_person_df['person_id']),'label']=1\n",
    "survey_df=dataset_73282597_survey_df[~dataset_73282597_survey_df['person_id'].isin(ced_total)|(dataset_73282597_survey_df['label']==1)]\n",
    "survey_df.drop_duplicates('person_id').value_counts('label')"
   ]
  },
  {
   "cell_type": "code",
   "execution_count": null,
   "metadata": {},
   "outputs": [],
   "source": [
    "#filter for those who didn't skip all questions\n",
    "pfh=survey_df[~survey_df['answer'].str.contains('PMI')]"
   ]
  },
  {
   "cell_type": "code",
   "execution_count": null,
   "metadata": {},
   "outputs": [],
   "source": [
    "len(survey_df.question.value_counts())"
   ]
  },
  {
   "cell_type": "code",
   "execution_count": null,
   "metadata": {},
   "outputs": [],
   "source": [
    "pfh.drop_duplicates('person_id').value_counts('label')"
   ]
  },
  {
   "cell_type": "code",
   "execution_count": null,
   "metadata": {},
   "outputs": [],
   "source": [
    "#other demographics\n",
    "import pandas\n",
    "import os\n",
    "\n",
    "# This query represents dataset \"ced2\" for domain \"person\" and was generated for All of Us Controlled Tier Dataset v7\n",
    "dataset_70171923_person_sql = \"\"\"\n",
    "    SELECT\n",
    "        person.person_id,\n",
    "        person.birth_datetime as date_of_birth,\n",
    "        person.sex_at_birth_concept_id,\n",
    "        p_sex_at_birth_concept.concept_name as sex_at_birth \n",
    "    FROM\n",
    "        `\"\"\" + os.environ[\"WORKSPACE_CDR\"] + \"\"\".person` person \n",
    "    LEFT JOIN\n",
    "        `\"\"\" + os.environ[\"WORKSPACE_CDR\"] + \"\"\".concept` p_sex_at_birth_concept \n",
    "            ON person.sex_at_birth_concept_id = p_sex_at_birth_concept.concept_id  \n",
    "  \"\"\"\n",
    "\n",
    "demo_person_df = pandas.read_gbq(\n",
    "    dataset_70171923_person_sql,\n",
    "    dialect=\"standard\",\n",
    "    use_bqstorage_api=(\"BIGQUERY_STORAGE_API_ENABLED\" in os.environ),\n",
    "    progress_bar_type=\"tqdm_notebook\")\n",
    "\n",
    "demo_person_df.head(5)"
   ]
  },
  {
   "cell_type": "code",
   "execution_count": null,
   "metadata": {},
   "outputs": [],
   "source": [
    "#extract enrollment date\n",
    "dataset_ages_sql = \"\"\"SELECT DISTINCT\n",
    "\n",
    "person_id,\n",
    "\n",
    "observation_datetime AS primary_consent_date\n",
    "\n",
    "FROM `fc-aou-cdr-prod-ct.C2022Q4R11.concept`\n",
    "\n",
    "JOIN `fc-aou-cdr-prod-ct.C2022Q4R11.concept_ancestor` on concept_id = ancestor_concept_id\n",
    "\n",
    "JOIN `fc-aou-cdr-prod-ct.C2022Q4R11.observation` on descendant_concept_id = observation_concept_id\n",
    "\n",
    "WHERE concept_name = 'Consent PII' AND concept_class_id = 'Module'\"\"\"\n",
    "\n",
    "ages_df = pandas.read_gbq(\n",
    "    dataset_ages_sql,\n",
    "    dialect=\"standard\",\n",
    "    use_bqstorage_api=(\"BIGQUERY_STORAGE_API_ENABLED\" in os.environ),\n",
    "    progress_bar_type=\"tqdm_notebook\")\n",
    "ages_df.head(5)"
   ]
  },
  {
   "cell_type": "code",
   "execution_count": null,
   "metadata": {},
   "outputs": [],
   "source": [
    "#calculate age\n",
    "ages_df.sort_values('primary_consent_date',inplace=True)\n",
    "ages_df.drop_duplicates('person_id',inplace=True)\n",
    "\n",
    "from datetime import date\n",
    "\n",
    "def age(birthdate,enrolldate):\n",
    "    age = enrolldate.year - birthdate.year - ((enrolldate.month, enrolldate.day) < (birthdate.month, birthdate.day))\n",
    "    return age\n",
    "from tqdm import tqdm\n",
    "\n",
    "demo_person_df = pandas.merge(demo_person_df, ages_df, on='person_id', how='left')\n",
    "\n",
    "demo_person_df['age'] = [age(i,j) for i,j in zip(tqdm(demo_person_df['date_of_birth']),tqdm(demo_person_df['primary_consent_date']))]"
   ]
  },
  {
   "cell_type": "code",
   "execution_count": null,
   "metadata": {},
   "outputs": [],
   "source": [
    "#covariates\n",
    "covar_df=demo_person_df[demo_person_df['person_id'].isin(pfh.person_id)]"
   ]
  },
  {
   "cell_type": "code",
   "execution_count": null,
   "metadata": {},
   "outputs": [],
   "source": [
    "#annotate # questions answered\n",
    "pfh_ct = pfh.drop_duplicates(['question','person_id']).value_counts('person_id')"
   ]
  },
  {
   "cell_type": "code",
   "execution_count": null,
   "metadata": {},
   "outputs": [],
   "source": [
    "covars=pd.merge(covar_df,pfh_ct,on='person_id')"
   ]
  },
  {
   "cell_type": "code",
   "execution_count": null,
   "metadata": {},
   "outputs": [],
   "source": [
    "#extract answers indicating specific conditions\n",
    "survey_reg=pfh[pfh['answer'].str.contains('Self')|pfh['question'].str.contains('Have you ever')]"
   ]
  },
  {
   "cell_type": "code",
   "execution_count": null,
   "metadata": {},
   "outputs": [],
   "source": [
    "survey_reg=survey_reg[~survey_reg['answer'].str.contains('I have/have had no infectious disease|celiac')]"
   ]
  },
  {
   "cell_type": "code",
   "execution_count": null,
   "metadata": {},
   "outputs": [],
   "source": [
    "#counts\n",
    "counts=survey_reg.value_counts(['answer','label'])"
   ]
  },
  {
   "cell_type": "code",
   "execution_count": null,
   "metadata": {},
   "outputs": [],
   "source": [
    "pfh_counts=pd.DataFrame(counts).reset_index().pivot(columns='label',values='count',index='answer').fillna(0).rename({0:'non-Ced cases',1:'Ced cases'},axis=1)"
   ]
  },
  {
   "cell_type": "code",
   "execution_count": null,
   "metadata": {},
   "outputs": [],
   "source": [
    "#case/control and alternate counts\n",
    "CeD_total=1789\n",
    "nonCeD_total=183219\n",
    "pfh_counts['Ced controls']=1789-pfh_counts['Ced cases']\n",
    "pfh_counts['non-Ced controls']=183219-pfh_counts['non-Ced cases']\n",
    "\n",
    "\n",
    "pfh_counts['CeD %']=(pfh_counts['Ced cases']/1789)*100\n",
    "pfh_counts['non-CeD %']=(pfh_counts['non-Ced cases']/183219)*100"
   ]
  },
  {
   "cell_type": "code",
   "execution_count": null,
   "metadata": {},
   "outputs": [],
   "source": [
    "#calcualte chi-square and Odds ratio\n",
    "from scipy.stats import chi2_contingency\n",
    "\n",
    "for i in pfh_counts.index:\n",
    "    ced_case,ced_ctrl,nonced_case,nonced_ctrl=pfh_counts.loc[i,['Ced cases', 'Ced controls', 'non-Ced cases', 'non-Ced controls']]\n",
    "    obs=np.array([[ced_case,ced_ctrl],[nonced_case,nonced_ctrl]])\n",
    "    chi2, p_value, dof, expected = chi2_contingency(obs)\n",
    "    pfh_counts.loc[i,'Chisq']=chi2\n",
    "    pfh_counts.loc[i,'p_value univariate']=p_value\n",
    "    print(chi2, p_value, dof, expected)\n",
    "\n",
    "pfh_counts['OR univar']=pfh_counts['Ced cases']*pfh_counts['non-Ced controls']/(pfh_counts['non-Ced cases']*pfh_counts['Ced controls'])"
   ]
  },
  {
   "cell_type": "code",
   "execution_count": null,
   "metadata": {},
   "outputs": [],
   "source": [
    "#chisq limited for 3 female specific conditions\n",
    "print(survey_cat[survey_cat['sex_at_birth']=='Female'].drop_duplicates('person_id').value_counts('label'))\n",
    "#only female, 116928 cases, 1437 controls\n",
    "\n",
    "fem = survey_reg[survey_reg['person_id'].isin(covars[covars['sex_at_birth']=='Female'].person_id)]\n",
    "\n",
    "fem_ct=pd.DataFrame(fem.value_counts(['answer','label'])).reset_index().pivot(columns='label',index='answer',values='count')\n",
    "\n",
    "from scipy.stats import chi2_contingency\n",
    "\n",
    "for i in fem_spec:\n",
    "    ced_case,nonced_case=fem_ct.loc[i,[1,0]]\n",
    "    ced_ctrl,nonced_ctrl=1437-ced_case,116928-nonced_case\n",
    "    obs=np.array([[ced_case,ced_ctrl],[nonced_case,nonced_ctrl]])\n",
    "    chi2, p_value, dof, expected = chi2_contingency(obs)\n",
    "    pfh_counts.loc[i,'OR univar']=ced_case*nonced_ctrl/(nonced_case*ced_ctrl)\n",
    "    pfh_counts.loc[i,'Chisq']=chi2\n",
    "    pfh_counts.loc[i,'p_value univariate']=p_value\n",
    "    pfh_counts.loc[i,'Ced cases']=ced_case\n",
    "    pfh_counts.loc[i,'non-Ced cases']=nonced_case\n",
    "    pfh_counts.loc[i,'Ced controls']=ced_ctrl\n",
    "    pfh_counts.loc[i,'non-Ced controls']=nonced_ctrl\n",
    "    pfh_counts.loc[i,'CeD %']=ced_case/1437\n",
    "    pfh_counts.loc[i,'non-CeD %']=nonced_case/116928\n",
    "   \n",
    "    print(i,chi2, p_value, dof, expected,OR)"
   ]
  },
  {
   "cell_type": "code",
   "execution_count": null,
   "metadata": {},
   "outputs": [],
   "source": [
    "#FDR correction\n",
    "import statsmodels.stats.multitest as st\n",
    "\n",
    "\n",
    "fdr_df=pfh_counts.reset_index()[['answer','p_value univariate']].drop_duplicates()\n",
    "#FDR correction as defined previously\n",
    "def FDR(sample, pval):\n",
    "    #first sort by pval\n",
    "    sample.sort_values(by=pval, inplace = True)\n",
    "    samp = sample.dropna(subset=[pval])\n",
    "    pvals = samp[pval]\n",
    "    #calculation of correction\n",
    "    padj = st.fdrcorrection(pvals, is_sorted=True)\n",
    "    padded_col = np.pad(padj[1], (0, len(sample) - len(padj[1])), 'constant', constant_values=(np.nan, np.nan))\n",
    "    sample['Padj'] = padded_col\n",
    "#execute\n",
    "FDR(fdr_df,'p_value univariate')\n",
    "\n",
    "pfh_counts_result = pd.merge(pfh_counts,fdr_df,on=['answer','p_value univariate'],how='left')\n"
   ]
  },
  {
   "cell_type": "code",
   "execution_count": null,
   "metadata": {},
   "outputs": [],
   "source": [
    "pfh_counts_result.to_csv('personal_family_history_chisq.csv',index=False)"
   ]
  },
  {
   "cell_type": "code",
   "execution_count": null,
   "metadata": {},
   "outputs": [],
   "source": [
    "pfh_counts_result=pd.read_csv('personal_family_history_chisq.csv')"
   ]
  },
  {
   "cell_type": "code",
   "execution_count": null,
   "metadata": {},
   "outputs": [],
   "source": [
    "#updated chi-sq result with conditions to include labelled\n",
    "survey_phe = pd.read_csv(f'20240622_pfh_chisq_regression.csv')"
   ]
  },
  {
   "cell_type": "code",
   "execution_count": null,
   "metadata": {},
   "outputs": [],
   "source": [
    "#specific conditions selected for regression\n",
    "survey_reg2=survey_reg[survey_reg['answer'].isin(pfh_counts_result.loc[pfh_counts_result['Padj']<1e-14,'answer'])]"
   ]
  },
  {
   "cell_type": "code",
   "execution_count": null,
   "metadata": {},
   "outputs": [],
   "source": [
    "survey_cat=pd.merge(survey_reg2,covars[['person_id','age','sex_at_birth','count']],on='person_id',how='right')"
   ]
  },
  {
   "cell_type": "code",
   "execution_count": null,
   "metadata": {},
   "outputs": [],
   "source": [
    "survey_cat.to_csv('pfh_survey_regression_input_v2.csv',index=False)"
   ]
  },
  {
   "cell_type": "code",
   "execution_count": null,
   "metadata": {},
   "outputs": [],
   "source": [
    "survey_cat=pd.concat([survey_cat,pd.get_dummies(survey_cat['sex_at_birth']).astype(int)],axis=1)"
   ]
  },
  {
   "cell_type": "code",
   "execution_count": null,
   "metadata": {},
   "outputs": [],
   "source": [
    "#final df for regression\n",
    "survey_cat.loc[survey_cat['person_id'].isin(dataset_46202400_person_df['person_id']),'label']=1\n",
    "survey_cat['label'].fillna(0,inplace=True)\n"
   ]
  },
  {
   "cell_type": "code",
   "execution_count": null,
   "metadata": {},
   "outputs": [],
   "source": [
    "#variables for use in regression\n",
    "survey_cat['CeD']=survey_cat['label']\n",
    "covariate=['age', 'Female', 'count']\n",
    "yvar='CeD'\n",
    "xvars=['status','age', 'Female', 'count']"
   ]
  },
  {
   "cell_type": "code",
   "execution_count": null,
   "metadata": {},
   "outputs": [],
   "source": [
    "reg_df=pd.DataFrame()"
   ]
  },
  {
   "cell_type": "code",
   "execution_count": null,
   "metadata": {},
   "outputs": [],
   "source": [
    "len(survey_cat['answer'].dropna().unique())\n",
    "#out of 45, 4 are 'other/unknown', resulting in 41"
   ]
  },
  {
   "cell_type": "code",
   "execution_count": null,
   "metadata": {},
   "outputs": [],
   "source": [
    "#female-specific calculation\n",
    "fem_spec=[i for i in survey_phe.loc[survey_phe['Sex_specific']=='female','answer']]"
   ]
  },
  {
   "cell_type": "code",
   "execution_count": null,
   "metadata": {
    "scrolled": true
   },
   "outputs": [],
   "source": [
    "#logistic regression\n",
    "l=0\n",
    "for i in survey_cat['answer'].dropna().unique():\n",
    "    l+=1\n",
    "    survey_cat['status']=0\n",
    "    survey_cat.loc[survey_cat['answer']==i,'status']=1\n",
    "    cases=survey_cat[survey_cat['status']==1].drop_duplicates('person_id')\n",
    "    controls=survey_cat[~survey_cat['person_id'].isin(cases['person_id'])].drop_duplicates('person_id')\n",
    "    df = pd.concat([cases,controls])\n",
    "    if i in fem_spec:\n",
    "        df=df[df['Female']==1]\n",
    "        print(i)\n",
    "    X=df[xvars]\n",
    "    if i in fem_spec:\n",
    "        X.drop(['Female'],axis=1,inplace=True)\n",
    "    X=sm.add_constant(X)\n",
    "    #remove redundancies when applicable\n",
    "    y=df[yvar]\n",
    "    result = sm.Logit(y, X, missing = 'drop').fit(method='bfgs')\n",
    "    results_as_html = result.summary().tables[0].as_html()\n",
    "    results_as_html = result.summary().tables[1].as_html()\n",
    "    res = pd.read_html(results_as_html, header = 0, index_col=0)[0]\n",
    "    print(result.summary())\n",
    "    celtot=df.drop_duplicates('person_id').value_counts('CeD')[1]\n",
    "    ctrltot=df.drop_duplicates('person_id').value_counts('CeD')[0]\n",
    "    count=df.value_counts(['CeD','status'])\n",
    "    count=count.reset_index().pivot(columns='CeD',index='status',values='count').fillna(0)\n",
    "    print(count)\n",
    "    k='status'\n",
    "    reg_df.loc[i,'Ced cases'] =  count.loc[1,1]\n",
    "    reg_df.loc[i,'Ced controls'] = celtot-count.loc[1,1]   \n",
    "    reg_df.loc[i,'non-Ced cases'] = count.loc[1,0]   \n",
    "    reg_df.loc[i,'non-Ced controls'] = ctrltot-count.loc[1,0] \n",
    "    reg_df.loc[i,'p_value'] =  result.pvalues[k]\n",
    "    reg_df.loc[i,'beta_ind'] = result.params[k]\n",
    "    reg_df.loc[i,'conf_int_1']=res.loc[k]['[0.025']\n",
    "    reg_df.loc[i,'conf_int_2']=res.loc[k]['0.975]']\n",
    "    reg_df.loc[i,'converged']=result.converged\n",
    "    #print(k,count[1,k],celtot-count[1,k],count[0,k],ctrltot-count[0,k])\n",
    "    #for binary vars, recorded values are 'yes' answers to the question \n",
    "reg_df"
   ]
  },
  {
   "cell_type": "code",
   "execution_count": null,
   "metadata": {},
   "outputs": [],
   "source": [
    "#adjusted OR\n",
    "reg_df['OR logistic']=np.exp(reg_df['beta_ind'])"
   ]
  },
  {
   "cell_type": "code",
   "execution_count": null,
   "metadata": {},
   "outputs": [],
   "source": [
    "reg_df.rename({'p_value':'p_value logistic'},axis=1,inplace=True)"
   ]
  },
  {
   "cell_type": "code",
   "execution_count": null,
   "metadata": {},
   "outputs": [],
   "source": [
    "reg_df.to_csv('regression_pfh_v2.csv')"
   ]
  },
  {
   "cell_type": "code",
   "execution_count": null,
   "metadata": {},
   "outputs": [],
   "source": [
    "reg_df.reset_index(inplace=True)\n",
    "reg_df.rename({'index':'answer'},axis=1,inplace=True)"
   ]
  },
  {
   "cell_type": "code",
   "execution_count": null,
   "metadata": {},
   "outputs": [],
   "source": [
    "pfh_counts_result=pd.merge(survey_phe[['answer', 'answer.1', 'Sex_specific']],pfh_counts_result,on='answer')"
   ]
  },
  {
   "cell_type": "code",
   "execution_count": null,
   "metadata": {},
   "outputs": [],
   "source": [
    "pfh_counts_result=pd.merge(survey_phe[['answer', 'Include in supplementary']],pfh_counts_result,on='answer')"
   ]
  },
  {
   "cell_type": "code",
   "execution_count": null,
   "metadata": {},
   "outputs": [],
   "source": [
    "#merge chi-sq and regression results\n",
    "full_result=pd.merge(pfh_counts_result[['answer', 'answer.1', 'Sex_specific', 'Include in supplementary',\n",
    "       'Ced cases', 'Ced controls', 'non-Ced cases',\n",
    "       'non-Ced controls', 'Chisq', 'p_value univariate', 'OR univar',\n",
    "       'Padj', 'CeD %', 'non-CeD %']],reg_df[['answer','p_value logistic', 'beta_ind', 'conf_int_1', 'conf_int_2', 'converged','OR logistic']],on='answer',how='left')"
   ]
  },
  {
   "cell_type": "code",
   "execution_count": null,
   "metadata": {},
   "outputs": [],
   "source": [
    "full_result.loc[full_result['OR univar']<1,'outcome']='protective'\n",
    "full_result.loc[full_result['OR univar']>1,'outcome']='enriched'\n",
    "full_result.sort_values('Padj',inplace=True)"
   ]
  },
  {
   "cell_type": "code",
   "execution_count": null,
   "metadata": {},
   "outputs": [],
   "source": [
    "full_result=full_result[['answer','Ced cases', 'Ced controls', 'non-Ced cases','non-Ced controls', 'Chisq', 'p_value univariate', 'OR univar', 'Padj',\n",
    "       'CeD %', 'non-CeD %', 'p_value logistic', 'beta_ind', 'conf_int_1',\n",
    "       'conf_int_2', 'converged', 'OR logistic']]"
   ]
  },
  {
   "cell_type": "code",
   "execution_count": null,
   "metadata": {},
   "outputs": [],
   "source": [
    "full_result.to_csv('pfh_chisq_regression_v3.csv',index=False)"
   ]
  },
  {
   "cell_type": "code",
   "execution_count": null,
   "metadata": {},
   "outputs": [],
   "source": [
    "!gsutil cp pfh_chisq_regression_v3.csv $WORKSPACE_BUCKET/data/personal_family_health/"
   ]
  }
 ],
 "metadata": {
  "kernelspec": {
   "display_name": "Python 3 (ipykernel)",
   "language": "python",
   "name": "python3"
  },
  "language_info": {
   "codemirror_mode": {
    "name": "ipython",
    "version": 3
   },
   "file_extension": ".py",
   "mimetype": "text/x-python",
   "name": "python",
   "nbconvert_exporter": "python",
   "pygments_lexer": "ipython3",
   "version": "3.9.13"
  },
  "toc": {
   "base_numbering": 1,
   "nav_menu": {},
   "number_sections": true,
   "sideBar": true,
   "skip_h1_title": false,
   "title_cell": "Table of Contents",
   "title_sidebar": "Contents",
   "toc_cell": false,
   "toc_position": {},
   "toc_section_display": true,
   "toc_window_display": false
  }
 },
 "nbformat": 4,
 "nbformat_minor": 2
}
